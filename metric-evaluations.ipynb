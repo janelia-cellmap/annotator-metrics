{
 "cells": [
  {
   "cell_type": "code",
   "execution_count": 2,
   "metadata": {},
   "outputs": [
    {
     "name": "stdout",
     "output_type": "stream",
     "text": [
      "[5651, 230, 3450]\n",
      "[5901, 650, 6670]\n",
      "[7426, 245, 3840]\n",
      "[4000, 200, 7800]\n",
      "[4333, 224, 7068]\n",
      "[0, 2000, 1600]\n",
      "[4761, 4952, 6493]\n",
      "[7000, 4151, 9017]\n",
      "[4275, 7350, 5700]\n",
      "[4443, 5716, 3322]\n"
     ]
    }
   ],
   "source": [
    "from annotator_metrics.util.doc_io import MaskInformation\n",
    "mi = MaskInformation()\n",
    "for row in mi.rows:\n",
    "    print(row.original_coordinates)"
   ]
  },
  {
   "cell_type": "code",
   "execution_count": null,
   "metadata": {},
   "outputs": [],
   "source": [
    "from annotator_metrics.util.doc_io import MaskInformation\n",
    "from annotator_metrics.src.preprocessing import copy_data\n",
    "mi = MaskInformation()\n",
    "print(mi.rows)\n",
    "copy_data(group = \"group1\", output_base_path=\"/groups/cosem/cosem/ackermand/annotation_and_analytics/tmp/\")"
   ]
  },
  {
   "cell_type": "code",
   "execution_count": 2,
   "metadata": {},
   "outputs": [
    {
     "name": "stdout",
     "output_type": "stream",
     "text": [
      "{'mito_mem ': 3, 'mito_lumen ': 4, 'mito': 0}\n"
     ]
    }
   ],
   "source": [
    "from annotator_metrics.util.doc_io import MaskInformation\n",
    "mi = MaskInformation()\n",
    "print(mi.rows[0].organelle_info)\n"
   ]
  },
  {
   "cell_type": "code",
   "execution_count": 3,
   "metadata": {},
   "outputs": [],
   "source": [
    "import numpy as np\n",
    "a=np.random.random((4,4,4))"
   ]
  },
  {
   "cell_type": "code",
   "execution_count": 7,
   "metadata": {},
   "outputs": [
    {
     "name": "stdout",
     "output_type": "stream",
     "text": [
      "[[[0.29667459 0.14585225]\n",
      "  [0.93038333 0.71463271]]\n",
      "\n",
      " [[0.04604659 0.92718152]\n",
      "  [0.80627626 0.55996372]]]\n"
     ]
    }
   ],
   "source": [
    "print(a[1:3,1:3,1:3])"
   ]
  },
  {
   "cell_type": "code",
   "execution_count": 1,
   "metadata": {},
   "outputs": [
    {
     "name": "stderr",
     "output_type": "stream",
     "text": [
      "distributed.diskutils - INFO - Found stale lock file and directory '/groups/scicompsoft/home/ackermand/Programming/annotator-metrics/dask-worker-space/worker-o7sfg0c4', purging\n",
      "distributed.diskutils - INFO - Found stale lock file and directory '/groups/scicompsoft/home/ackermand/Programming/annotator-metrics/dask-worker-space/worker-y1yqxem1', purging\n",
      "distributed.diskutils - INFO - Found stale lock file and directory '/groups/scicompsoft/home/ackermand/Programming/annotator-metrics/dask-worker-space/worker-c4urnbca', purging\n",
      "distributed.diskutils - INFO - Found stale lock file and directory '/groups/scicompsoft/home/ackermand/Programming/annotator-metrics/dask-worker-space/worker-ud7og50n', purging\n",
      "distributed.diskutils - INFO - Found stale lock file and directory '/groups/scicompsoft/home/ackermand/Programming/annotator-metrics/dask-worker-space/worker-6ka8ohzs', purging\n",
      "distributed.diskutils - INFO - Found stale lock file and directory '/groups/scicompsoft/home/ackermand/Programming/annotator-metrics/dask-worker-space/worker-f320eky_', purging\n",
      "distributed.diskutils - INFO - Found stale lock file and directory '/groups/scicompsoft/home/ackermand/Programming/annotator-metrics/dask-worker-space/worker-xn92rma5', purging\n",
      "distributed.diskutils - INFO - Found stale lock file and directory '/groups/scicompsoft/home/ackermand/Programming/annotator-metrics/dask-worker-space/worker-9q6vroo0', purging\n",
      "distributed.diskutils - INFO - Found stale lock file and directory '/groups/scicompsoft/home/ackermand/Programming/annotator-metrics/dask-worker-space/worker-15i2kvaz', purging\n",
      "distributed.diskutils - INFO - Found stale lock file and directory '/groups/scicompsoft/home/ackermand/Programming/annotator-metrics/dask-worker-space/worker-wbba6fex', purging\n"
     ]
    },
    {
     "name": "stdout",
     "output_type": "stream",
     "text": [
      "http://127.0.0.1:8787/status\n"
     ]
    }
   ],
   "source": [
    "from annotator_metrics.src.metrics_evaluations import calculate_all_to_all\n",
    "results= calculate_all_to_all(\"group1\",\"/groups/cosem/cosem/ackermand/annotation_and_analytics/tmp/\", num_workers = 10)\n",
    "print(results[1:10])"
   ]
  },
  {
   "cell_type": "code",
   "execution_count": 5,
   "metadata": {},
   "outputs": [
    {
     "name": "stderr",
     "output_type": "stream",
     "text": [
      "/groups/scicompsoft/home/ackermand/miniconda3/envs/annotator-metrics/lib/python3.7/site-packages/distributed/node.py:161: UserWarning: Port 8787 is already in use.\n",
      "Perhaps you already have a cluster running?\n",
      "Hosting the HTTP server on port 38845 instead\n",
      "  f\"Port {expected} is already in use.\\n\"\n"
     ]
    },
    {
     "name": "stdout",
     "output_type": "stream",
     "text": [
      "((122, 186, 185), (122, 186, 185), (122, 186, 185), (122, 186, 185), (122, 186, 185), (122, 186, 185), (122, 186, 185), (122, 186, 185), (122, 186, 185), (122, 186, 185), (122, 186, 185), (122, 186, 185), (122, 186, 185), (122, 186, 185), (122, 186, 185), (122, 186, 185), (122, 186, 185), (122, 186, 185), (122, 186, 185), (122, 186, 185), (122, 186, 185), (122, 186, 185), (122, 186, 185), (122, 186, 185), (122, 186, 185), (122, 186, 185), (122, 186, 185), (122, 186, 185), (122, 186, 185), (122, 186, 185), (122, 186, 185), (122, 186, 185), (122, 186, 185), (122, 186, 185), (122, 186, 185), (122, 186, 185), (122, 186, 185), (122, 186, 185), (122, 186, 185), (122, 186, 185), (122, 186, 185), (122, 186, 185), (122, 186, 185), (122, 186, 185), (122, 186, 185), (122, 186, 185), (122, 186, 185), (122, 186, 185), (122, 186, 185), (122, 186, 185), (122, 186, 185), (122, 186, 185), (122, 186, 185), (122, 186, 185), (122, 186, 185), (122, 186, 185), (122, 186, 185), (122, 186, 185), (122, 186, 185), (122, 186, 185), (122, 186, 185), (122, 186, 185), (122, 186, 185), (122, 186, 185), (122, 186, 185), (122, 186, 185), (122, 186, 185), (122, 186, 185), (122, 186, 185), (122, 186, 185), (122, 186, 185), (122, 186, 185), (122, 186, 185), (122, 186, 185), (122, 186, 185), (122, 186, 185), (122, 186, 185), (122, 186, 185), (122, 186, 185), (122, 186, 185), (122, 186, 185), (122, 186, 185), (122, 186, 185), (122, 186, 185), (122, 186, 185), (122, 186, 185), (122, 186, 185), (122, 186, 185), (122, 186, 185), (122, 186, 185), (122, 186, 185), (122, 186, 185), (122, 186, 185), (122, 186, 185), (122, 186, 185), (122, 186, 185), (122, 186, 185), (122, 186, 185), (122, 186, 185), (122, 186, 185))\n"
     ]
    }
   ],
   "source": [
    "import dask\n",
    "from dask.distributed import Client\n",
    "import tifffile\n",
    "client = Client(n_workers = 1)\n",
    "def test(i):\n",
    "    if i%2 == 0:\n",
    "        b=[tifffile.imread('/groups/cosem/cosem/ackermand/annotation_and_analytics/tmp/group1/01/a1.tif'),tifffile.imread('/groups/cosem/cosem/ackermand/annotation_and_analytics/tmp/group1/01/b1.tif')]\n",
    "    else:\n",
    "        b=[tifffile.imread('/groups/cosem/cosem/ackermand/annotation_and_analytics/tmp/group1/01/a2.tif'),tifffile.imread('/groups/cosem/cosem/ackermand/annotation_and_analytics/tmp/group1/01/b2.tif')]\n",
    "\n",
    "    return b[0].shape\n",
    "l = []\n",
    "for i in range(100):\n",
    "    l.append(dask.delayed(test)(i))\n",
    "\n",
    "results = dask.compute(*l)\n",
    "print(results)\n"
   ]
  },
  {
   "cell_type": "code",
   "execution_count": 11,
   "metadata": {},
   "outputs": [
    {
     "name": "stdout",
     "output_type": "stream",
     "text": [
      "loading:  0.008377313613891602\n",
      "(122, 186, 185)\n"
     ]
    }
   ],
   "source": [
    "import time\n",
    "import tifffile\n",
    "from dask_image import imread\n",
    "start = time.time(); temp = imread.imread('/groups/cosem/cosem/ackermand/annotation_and_analytics/tmp/group1/01/a1.tif'); print(\"loading: \", time.time() - start)\n",
    "print(temp.shape)\n"
   ]
  },
  {
   "cell_type": "code",
   "execution_count": 6,
   "metadata": {},
   "outputs": [
    {
     "data": {
      "text/plain": "100"
     },
     "execution_count": 6,
     "metadata": {},
     "output_type": "execute_result"
    }
   ],
   "source": [
    "import dask\n",
    "import dask.distributed\n",
    "dask.config.set({\"distributed.comm.timeouts.connect\":100})\n",
    "dask.config.get(\"distributed.comm.timeouts.connect\")"
   ]
  },
  {
   "cell_type": "code",
   "execution_count": null,
   "metadata": {},
   "outputs": [],
   "source": []
  }
 ],
 "metadata": {
  "kernelspec": {
   "display_name": "Python 3.6.13 64-bit ('annotator-metrics': conda)",
   "metadata": {
    "interpreter": {
     "hash": "6f3b6f92d1c1c780f8a6592ff0a1dd888c1df1667ddeb0bc2165ec1b206773a1"
    }
   },
   "name": "python3"
  },
  "language_info": {
   "codemirror_mode": {
    "name": "ipython",
    "version": 3
   },
   "file_extension": ".py",
   "mimetype": "text/x-python",
   "name": "python",
   "nbconvert_exporter": "python",
   "pygments_lexer": "ipython3",
   "version": "3.7.11"
  },
  "orig_nbformat": 2
 },
 "nbformat": 4,
 "nbformat_minor": 2
}