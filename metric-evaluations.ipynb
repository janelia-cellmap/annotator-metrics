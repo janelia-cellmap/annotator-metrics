{
 "cells": [
  {
   "cell_type": "code",
   "execution_count": null,
   "metadata": {},
   "outputs": [],
   "source": [
    "from annotator_metrics.util.doc_io import MaskInformation\n",
    "mi = MaskInformation()\n",
    "test = \"mito_mem (3)\"\n",
    "print(test.split(\"(\")[0].split(\" \")[0])\n",
    "for row in mi.rows:\n",
    "    print(row.organelle_info)"
   ]
  },
  {
   "cell_type": "code",
   "execution_count": null,
   "metadata": {},
   "outputs": [],
   "source": [
    "from annotator_metrics.util.doc_io import MaskInformation\n",
    "from annotator_metrics.src.preprocessing import copy_data\n",
    "mi = MaskInformation()\n",
    "print(mi.rows)\n",
    "copy_data(group = \"group1\", output_base_path=\"/groups/cosem/cosem/ackermand/annotation_and_analytics/tmp/\")"
   ]
  },
  {
   "cell_type": "code",
   "execution_count": null,
   "metadata": {},
   "outputs": [],
   "source": [
    "from annotator_metrics.util.doc_io import MaskInformation\n",
    "mi = MaskInformation()\n",
    "print(mi.rows[0].organelle_info)\n"
   ]
  },
  {
   "cell_type": "code",
   "execution_count": null,
   "metadata": {},
   "outputs": [],
   "source": [
    "import numpy as np\n",
    "a=np.random.random((4,4,4))"
   ]
  },
  {
   "cell_type": "code",
   "execution_count": null,
   "metadata": {},
   "outputs": [],
   "source": [
    "from annotator_metrics.util.doc_io import MaskInformation\n",
    "a=MaskInformation()\n",
    "print(a.rows[1].organelle_info)"
   ]
  },
  {
   "cell_type": "code",
   "execution_count": 1,
   "metadata": {},
   "outputs": [
    {
     "name": "stderr",
     "output_type": "stream",
     "text": [
      "distributed.diskutils - INFO - Found stale lock file and directory '/groups/scicompsoft/home/ackermand/Programming/annotator-metrics/dask-worker-space/worker-7zmrref0', purging\n",
      "distributed.diskutils - INFO - Found stale lock file and directory '/groups/scicompsoft/home/ackermand/Programming/annotator-metrics/dask-worker-space/worker-fht5q0bn', purging\n",
      "distributed.diskutils - INFO - Found stale lock file and directory '/groups/scicompsoft/home/ackermand/Programming/annotator-metrics/dask-worker-space/worker-cztyqo_n', purging\n",
      "distributed.diskutils - INFO - Found stale lock file and directory '/groups/scicompsoft/home/ackermand/Programming/annotator-metrics/dask-worker-space/worker-s01sr8oc', purging\n",
      "distributed.diskutils - INFO - Found stale lock file and directory '/groups/scicompsoft/home/ackermand/Programming/annotator-metrics/dask-worker-space/worker-hezhg5r0', purging\n",
      "distributed.diskutils - INFO - Found stale lock file and directory '/groups/scicompsoft/home/ackermand/Programming/annotator-metrics/dask-worker-space/worker-s9snldlo', purging\n",
      "distributed.diskutils - INFO - Found stale lock file and directory '/groups/scicompsoft/home/ackermand/Programming/annotator-metrics/dask-worker-space/worker-vdrsllsu', purging\n",
      "distributed.diskutils - INFO - Found stale lock file and directory '/groups/scicompsoft/home/ackermand/Programming/annotator-metrics/dask-worker-space/worker-0j6k05q6', purging\n",
      "distributed.diskutils - INFO - Found stale lock file and directory '/groups/scicompsoft/home/ackermand/Programming/annotator-metrics/dask-worker-space/worker-i_pzax2h', purging\n",
      "distributed.diskutils - INFO - Found stale lock file and directory '/groups/scicompsoft/home/ackermand/Programming/annotator-metrics/dask-worker-space/worker-fna9hkx3', purging\n",
      "distributed.diskutils - INFO - Found stale lock file and directory '/groups/scicompsoft/home/ackermand/Programming/annotator-metrics/dask-worker-space/worker-_jwbxut7', purging\n",
      "distributed.diskutils - INFO - Found stale lock file and directory '/groups/scicompsoft/home/ackermand/Programming/annotator-metrics/dask-worker-space/worker-q4aek80p', purging\n",
      "distributed.diskutils - INFO - Found stale lock file and directory '/groups/scicompsoft/home/ackermand/Programming/annotator-metrics/dask-worker-space/worker-9u_ygf2o', purging\n",
      "distributed.diskutils - INFO - Found stale lock file and directory '/groups/scicompsoft/home/ackermand/Programming/annotator-metrics/dask-worker-space/worker-ihaqk09i', purging\n",
      "distributed.diskutils - INFO - Found stale lock file and directory '/groups/scicompsoft/home/ackermand/Programming/annotator-metrics/dask-worker-space/worker-6yakp6jp', purging\n",
      "distributed.diskutils - INFO - Found stale lock file and directory '/groups/scicompsoft/home/ackermand/Programming/annotator-metrics/dask-worker-space/worker-a7hjwep4', purging\n",
      "distributed.diskutils - INFO - Found stale lock file and directory '/groups/scicompsoft/home/ackermand/Programming/annotator-metrics/dask-worker-space/worker-xs89xty4', purging\n",
      "distributed.diskutils - INFO - Found stale lock file and directory '/groups/scicompsoft/home/ackermand/Programming/annotator-metrics/dask-worker-space/worker-8rrv4edf', purging\n",
      "distributed.diskutils - INFO - Found stale lock file and directory '/groups/scicompsoft/home/ackermand/Programming/annotator-metrics/dask-worker-space/worker-yf9xus3b', purging\n",
      "distributed.diskutils - INFO - Found stale lock file and directory '/groups/scicompsoft/home/ackermand/Programming/annotator-metrics/dask-worker-space/worker-3fs32d4a', purging\n"
     ]
    },
    {
     "name": "stdout",
     "output_type": "stream",
     "text": [
      "http://10.150.100.248:8787/status\n"
     ]
    },
    {
     "name": "stderr",
     "output_type": "stream",
     "text": [
      "/groups/scicompsoft/home/ackermand/Programming/annotator-metrics/annotator_metrics/src/metrics_evaluations.py:198: RuntimeWarning: Mean of empty slice\n",
      "  sort_order = np.argsort(np.nanmean(all_to_all, axis=1))\n",
      "/groups/scicompsoft/home/ackermand/Programming/annotator-metrics/annotator_metrics/src/metrics_evaluations.py:198: RuntimeWarning: Mean of empty slice\n",
      "  sort_order = np.argsort(np.nanmean(all_to_all, axis=1))\n",
      "/groups/scicompsoft/home/ackermand/Programming/annotator-metrics/annotator_metrics/src/metrics_evaluations.py:198: RuntimeWarning: Mean of empty slice\n",
      "  sort_order = np.argsort(np.nanmean(all_to_all, axis=1))\n"
     ]
    }
   ],
   "source": [
    "from annotator_metrics.src.metrics_evaluations import calculate_all_to_all\n",
    "calculate_all_to_all(\"group1\",\"/groups/cosem/cosem/ackermand/annotation_and_analytics/tmp/\", \"Mean False Distance (Clipped)\",num_workers = 10)"
   ]
  },
  {
   "cell_type": "code",
   "execution_count": null,
   "metadata": {},
   "outputs": [],
   "source": [
    "from annotator_metrics.src.metrics_evaluations import plot_figure\n",
    "for score_tuple, score_entry in all_to_all.items():\n",
    "        group_id = \"group1\"\n",
    "        crop = score_tuple[0]\n",
    "        organelle_name = score_tuple[1]\n",
    "        metric_value = score_tuple[2]\n",
    "        metric_name = score_entry[\"metric_name\"]\n",
    "        annotator_names = score_entry[\"annotator_names\"]\n",
    "        current_all_to_all = score_entry[\"scores_matrix\"]\n",
    "        score_range = score_ranges[(organelle_name, metric_value)]\n",
    "        plot_figure(\n",
    "                group_id,\n",
    "                crop,\n",
    "                organelle_name,\n",
    "                metric_value,\n",
    "                metric_name,\n",
    "                annotator_names,\n",
    "                current_all_to_all,\n",
    "                score_range,\n",
    "                output_path=\"/groups/cosem/cosem/ackermand/annotation_and_analytics/\",\n",
    "            )"
   ]
  },
  {
   "cell_type": "code",
   "execution_count": null,
   "metadata": {},
   "outputs": [],
   "source": [
    "import numpy as np\n",
    "all_to_all = {}\n",
    "score_ranges = {}\n",
    "for result in results:\n",
    "    score_tuple = (result.crop,result.organelle_name,result.metric_value)\n",
    "    if score_tuple not in all_to_all:\n",
    "        all_to_all[score_tuple] = {\n",
    "            \"scores_matrix\": np.zeros((len(result.annotator_names),len(result.annotator_names))),\n",
    "            \"annotator_names\": result.annotator_names,\n",
    "            \"metric_name\": result.metric_name\n",
    "            }\n",
    "    all_to_all[score_tuple][\"scores_matrix\"][result.gt_idx][result.test_idx] = result.score\n",
    "\n",
    "    score_ranges_tuple = (result.organelle_name, result.metric_value)\n",
    "    if score_ranges_tuple not in score_ranges:\n",
    "        score_ranges[score_ranges_tuple]={\n",
    "                        \"min\": np.nan_to_num(np.inf),\n",
    "                        \"max\": np.nan_to_num(-np.inf),\n",
    "                        \"sorting\": result.sorting,\n",
    "                    }\n",
    "    if result.gt_idx != result.test_idx:\n",
    "        current_range = score_ranges[score_ranges_tuple]\n",
    "        current_range[\"min\"] = np.nanmin([current_range[\"min\"], result.score])\n",
    "        current_range[\"max\"] = np.nanmax([current_range[\"max\"], result.score])\n"
   ]
  },
  {
   "cell_type": "code",
   "execution_count": null,
   "metadata": {},
   "outputs": [],
   "source": []
  },
  {
   "cell_type": "code",
   "execution_count": null,
   "metadata": {},
   "outputs": [],
   "source": [
    "from matplotlib import pyplot as plt\n",
    "import matplotlib\n",
    "import seaborn\n",
    "import os\n",
    "import dask\n",
    "from dask import delayed\n",
    "from dask.distributed import Client\n",
    "\n",
    "\n",
    "def plot_figure(crop, organelle_name, metric_value, metric_name, annotator_names, all_to_all, score_range):\n",
    "    matplotlib.rcParams[\"figure.dpi\"] = 300\n",
    "    matplotlib.rcParams['axes.facecolor']='white'\n",
    "    matplotlib.rcParams['savefig.facecolor']='white'\n",
    "\n",
    "    _, ax = plt.subplots(1, 1, figsize=(8, 6),)\n",
    "    if score_range[\"sorting\"] == 1:  # low to high\n",
    "        sort_order = np.argsort(np.nanmean(all_to_all, axis=1))\n",
    "        cmap = \"rocket_r\"\n",
    "    else:\n",
    "        cmap = \"rocket\"\n",
    "        sort_order = np.argsort(np.nanmean(all_to_all, axis=1))[\n",
    "            ::-1\n",
    "        ]\n",
    "\n",
    "    all_to_all = all_to_all[:, sort_order]\n",
    "    all_to_all = all_to_all[sort_order, :]\n",
    "    annotator_names = [annotator_names[s] for s in sort_order]\n",
    "    seaborn.heatmap(\n",
    "        all_to_all,\n",
    "        annot=True,\n",
    "        square=True,\n",
    "        vmin=score_range[\"min\"],\n",
    "        vmax=score_range[\"max\"],\n",
    "        cmap=cmap,\n",
    "    )\n",
    "    if score_range[\"sorting\"] == 1:  # low to high\n",
    "        plt.gcf().axes[1].invert_yaxis()\n",
    "\n",
    "    ax.set_title(organelle_name)\n",
    "    ax.collections[0].colorbar.set_label(metric_name)\n",
    "    ax.xaxis.tick_top()\n",
    "    plt.xticks(\n",
    "        [i + 0.5 for i in range(len(annotator_names))],\n",
    "        annotator_names,\n",
    "        rotation=45,\n",
    "        ha=\"left\",\n",
    "    )\n",
    "    plt.yticks(\n",
    "        [i + 0.5 for i in range(len(annotator_names))],\n",
    "        annotator_names,\n",
    "        rotation=0,\n",
    "    )\n",
    "    output_directory = (\n",
    "        f\"{input_base_path}/plots/{group}/{crop}/{metric_value}\"\n",
    "    )\n",
    "\n",
    "    os.makedirs(output_directory, exist_ok=True)\n",
    "    try:\n",
    "        os.remove(f\"{output_directory}/{organelle_name}.png\")\n",
    "    except OSError:\n",
    "        pass\n",
    "    plt.savefig(\n",
    "        f\"{output_directory}/{organelle_name}.png\", bbox_inches=\"tight\"\n",
    "    )\n",
    "    plt.close()\n",
    "\n",
    "client = Client(n_workers=10, threads_per_worker=1)\n",
    "print(client.dashboard_link)\n",
    "\n",
    "group = \"group01\"\n",
    "input_base_path = '/groups/cosem/cosem/ackermand/annotation_and_analytics/'\n",
    "lazy_results = []\n",
    "for score_tuple, score_entry in all_to_all.items():\n",
    "    crop = score_tuple[0]\n",
    "    organelle_name = score_tuple[1]\n",
    "    metric_value = score_tuple[2]\n",
    "    metric_name = score_entry[\"metric_name\"]\n",
    "    annotator_names = score_entry[\"annotator_names\"]\n",
    "    current_all_to_all = score_entry[\"scores_matrix\"]\n",
    "    score_range = score_ranges[(organelle_name, metric_value)]\n",
    "    lazy_results.append(delayed(plot_figure)(crop, organelle_name, metric_value, metric_name, annotator_names, current_all_to_all, score_range))\n",
    "    \n",
    "dask.compute(*lazy_results)"
   ]
  },
  {
   "cell_type": "code",
   "execution_count": null,
   "metadata": {},
   "outputs": [],
   "source": [
    "from CNNectome "
   ]
  }
 ],
 "metadata": {
  "kernelspec": {
   "display_name": "Python 3.7.11 64-bit ('annotator-metrics': conda)",
   "metadata": {
    "interpreter": {
     "hash": "6f3b6f92d1c1c780f8a6592ff0a1dd888c1df1667ddeb0bc2165ec1b206773a1"
    }
   },
   "name": "python3"
  },
  "language_info": {
   "codemirror_mode": {
    "name": "ipython",
    "version": 3
   },
   "file_extension": ".py",
   "mimetype": "text/x-python",
   "name": "python",
   "nbconvert_exporter": "python",
   "pygments_lexer": "ipython3",
   "version": "3.7.11"
  },
  "orig_nbformat": 2
 },
 "nbformat": 4,
 "nbformat_minor": 2
}