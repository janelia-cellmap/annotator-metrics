{
 "cells": [
  {
   "cell_type": "code",
   "execution_count": null,
   "metadata": {},
   "outputs": [],
   "source": [
    "from CNNectome.validation.organelles.segmentation_metrics import Evaluator,EvaluationMetrics,display_name,sorting\n",
    "import h5py\n",
    "import numpy as np\n",
    "import csv\n",
    "import os\n",
    "import matplotlib\n",
    "%matplotlib inline \n",
    "from matplotlib import pyplot as plt\n",
    "import pandas as pd\n",
    "import re\n",
    "import zarr\n",
    "import tifffile\n",
    "import seaborn\n",
    "import pandas\n",
    "from scipy.ndimage import label, distance_transform_edt\n",
    "from CNNectome.utils.compute_label_distribution import distance\n",
    "import scipy"
   ]
  },
  {
   "cell_type": "code",
   "execution_count": 2,
   "metadata": {},
   "outputs": [
    {
     "name": "stdout",
     "output_type": "stream",
     "text": [
      "[5651, 230, 3450]\n",
      "[5901, 650, 6670]\n",
      "[7426, 245, 3840]\n",
      "[4000, 200, 7800]\n",
      "[4333, 224, 7068]\n",
      "[0, 2000, 1600]\n",
      "[4761, 4952, 6493]\n",
      "[7000, 4151, 9017]\n",
      "[4275, 7350, 5700]\n",
      "[4443, 5716, 3322]\n"
     ]
    }
   ],
   "source": [
    "from annotator_metrics.util.doc_io import MaskInformation\n",
    "mi = MaskInformation()\n",
    "for row in mi.rows:\n",
    "    print(row.original_coordinates)"
   ]
  },
  {
   "cell_type": "code",
   "execution_count": 1,
   "metadata": {},
   "outputs": [
    {
     "name": "stdout",
     "output_type": "stream",
     "text": [
      "predictions (400, 400, 400)\n",
      "refinements (400, 400, 400)\n",
      "03 predictions\n",
      "03 refinements\n",
      "predictions (400, 400, 400)\n",
      "08 predictions\n",
      "predictions (400, 400, 400)\n",
      "refinements (400, 400, 400)\n",
      "ariadne (400, 400, 400)\n",
      "09 predictions\n",
      "09 refinements\n",
      "09 ariadne\n",
      "predictions (400, 400, 400)\n",
      "10 predictions\n"
     ]
    }
   ],
   "source": [
    "from annotator_metrics.util.doc_io import MaskInformation\n",
    "from annotator_metrics.src.preprocessing import copy_data\n",
    "mi = MaskInformation()\n",
    "copy_data(mask_information = mi, group = \"group1\", output_base_path=\"/groups/cosem/cosem/ackermand/annotation_and_analytics/tmp/\")"
   ]
  },
  {
   "cell_type": "code",
   "execution_count": 1,
   "metadata": {},
   "outputs": [
    {
     "name": "stdout",
     "output_type": "stream",
     "text": [
      "3\n"
     ]
    }
   ],
   "source": [
    "from annotator_metrics.util.util import Cropper\n",
    "cropper = Cropper((0,1,2),(3,4,5))\n",
    "cropper.crop()\n",
    "print(Cropper.test(1,2))\n"
   ]
  },
  {
   "cell_type": "code",
   "execution_count": 2,
   "metadata": {},
   "outputs": [],
   "source": [
    "import numpy as np\n",
    "a=np.random.random((4,4,4))"
   ]
  },
  {
   "cell_type": "code",
   "execution_count": 7,
   "metadata": {},
   "outputs": [
    {
     "name": "stdout",
     "output_type": "stream",
     "text": [
      "[[[0.29667459 0.14585225]\n",
      "  [0.93038333 0.71463271]]\n",
      "\n",
      " [[0.04604659 0.92718152]\n",
      "  [0.80627626 0.55996372]]]\n"
     ]
    }
   ],
   "source": [
    "print(a[1:3,1:3,1:3])"
   ]
  },
  {
   "cell_type": "code",
   "execution_count": 1,
   "metadata": {},
   "outputs": [
    {
     "name": "stdout",
     "output_type": "stream",
     "text": [
      "v\n"
     ]
    }
   ],
   "source": [
    "import zarr\n",
    "organelle_result_name = \"mito\"\n",
    "organelle_result_path = \"/nrs/cosem/pattonw/training/finetuning/jrc_mus-liver/liver_latest_setup04_many_masked_6-1_100000.n5\"\n",
    "zarr_file = zarr.open(organelle_result_path, mode = \"r\")\n",
    "if os.path.isdir(f\"{organelle_result_path}/volumes\"):\n",
    "    zarr_file = zarr_file[\"volumes\"][organelle_result_name]\n",
    "    print(\"v\")\n",
    "    if os.path.isdir(f\"{organelle_result_path}/volumes/s0\"):\n",
    "        zarr_file = zarr_file[\"s0\"]\n",
    "        print(\"s\")\n",
    "else:\n",
    "    zarr_file = zarr_file[organelle_result_name]\n",
    "    print(\"n\")\n"
   ]
  },
  {
   "cell_type": "code",
   "execution_count": 5,
   "metadata": {},
   "outputs": [
    {
     "name": "stdout",
     "output_type": "stream",
     "text": [
      "\u001b[0m\u001b[01;34m25_0.5_smoothed\u001b[0m/\n",
      "\u001b[01;34m25_0.5_smoothed_renumbered\u001b[0m/\n",
      "25_0.5_smoothed_renumbering.csv\n",
      "\u001b[01;34m25_0.75_smoothed\u001b[0m/\n",
      "\u001b[01;34m25_0.75_smoothed_renumbered\u001b[0m/\n",
      "25_0.75_smoothed_renumbering.csv\n",
      "\u001b[01;34m25_0.975_smoothed\u001b[0m/\n",
      "\u001b[01;34m25_0.975_smoothed_renumbered\u001b[0m/\n",
      "\u001b[01;34m25_0.975_smoothed_renumbered_filled\u001b[0m/\n",
      "\u001b[01;34m25_0.975_smoothed_renumbered_filled_renumbered\u001b[0m/\n",
      "\u001b[01;34m25_0.975_smoothed_renumbered_filled_renumbered_cropped\u001b[0m/\n",
      "25_0.975_smoothed_renumbered_filled_renumbering.csv\n",
      "25_0.975_smoothed_renumbering.csv\n",
      "\u001b[01;34m25_0.9_smoothed\u001b[0m/\n",
      "\u001b[01;34m25_0.9_smoothed_renumbered\u001b[0m/\n",
      "25_0.9_smoothed_renumbering.csv\n",
      "\u001b[01;34m50_0.85_smoothed\u001b[0m/\n",
      "\u001b[01;34m50_0.85_smoothed_renumbered\u001b[0m/\n",
      "50_0.85_smoothed_renumbering.csv\n",
      "\u001b[01;34m50_0.8_smoothed\u001b[0m/\n",
      "\u001b[01;34m50_0.8_smoothed_renumbered\u001b[0m/\n",
      "50_0.8_smoothed_renumbering.csv\n",
      "\u001b[01;34m50_0.95_smoothed\u001b[0m/\n",
      "\u001b[01;34m50_0.95_smoothed_renumbered\u001b[0m/\n",
      "50_0.95_smoothed_renumbering.csv\n",
      "\u001b[01;34m50_0.9_smoothed\u001b[0m/\n",
      "\u001b[01;34m50_0.9_smoothed_renumbered\u001b[0m/\n",
      "50_0.9_smoothed_renumbering.csv\n",
      "\u001b[01;34m75_0.4_smoothed\u001b[0m/\n",
      "\u001b[01;34m75_0.4_smoothed_renumbered\u001b[0m/\n",
      "75_0.4_smoothed_renumbering.csv\n",
      "\u001b[01;34m75_0.5_smoothed\u001b[0m/\n",
      "\u001b[01;34m75_0.5_smoothed_renumbered\u001b[0m/\n",
      "75_0.5_smoothed_renumbering.csv\n",
      "\u001b[01;34m75_0.6_smoothed\u001b[0m/\n",
      "\u001b[01;34m75_0.6_smoothed_renumbered\u001b[0m/\n",
      "75_0.6_smoothed_renumbering.csv\n",
      "attributes.json\n",
      "input.txt\n"
     ]
    }
   ],
   "source": []
  },
  {
   "cell_type": "code",
   "execution_count": null,
   "metadata": {},
   "outputs": [],
   "source": []
  }
 ],
 "metadata": {
  "kernelspec": {
   "display_name": "Python 3.6.13 64-bit",
   "metadata": {
    "interpreter": {
     "hash": "6f3b6f92d1c1c780f8a6592ff0a1dd888c1df1667ddeb0bc2165ec1b206773a1"
    }
   },
   "name": "python3"
  },
  "language_info": {
   "codemirror_mode": {
    "name": "ipython",
    "version": 3
   },
   "file_extension": ".py",
   "mimetype": "text/x-python",
   "name": "python",
   "nbconvert_exporter": "python",
   "pygments_lexer": "ipython3",
   "version": "3.6.13"
  },
  "orig_nbformat": 2
 },
 "nbformat": 4,
 "nbformat_minor": 2
}