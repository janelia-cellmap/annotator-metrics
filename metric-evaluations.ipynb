{
 "cells": [
  {
   "cell_type": "code",
   "execution_count": 1,
   "metadata": {},
   "outputs": [
    {
     "name": "stdout",
     "output_type": "stream",
     "text": [
      "mito_mem\n",
      "{'mito_mem': 3, 'mito_lumen': 4, 'mito': 0}\n",
      "{'mito_mem': 3, 'mito_lumen': 4, 'mito_dna': 5, 'mito': 0}\n",
      "{'mito_mem': 3, 'mito_lumen': 4, 'mito': 0}\n",
      "{'mito_mem': 3, 'mito_lumen': 4, 'mito': 0}\n",
      "{'mito_mem': 3, 'mito_lumen': 4, 'mito': 0}\n",
      "{'mito_mem': 3, 'mito_lumen': 4, 'mito_dna': 5, 'mito': 0}\n",
      "{'mito_mem': 3, 'mito_lumen': 4, 'mito': 0}\n",
      "{'mito_mem': 3, 'mito_lumen': 4, 'mito': 0}\n",
      "{'mito_mem': 3, 'mito_lumen': 4, 'mito_dna': 5, 'mito': 0}\n",
      "{'mito_mem': 3, 'mito_lumen': 4, 'mito': 0}\n"
     ]
    }
   ],
   "source": [
    "from annotator_metrics.util.doc_io import MaskInformation\n",
    "mi = MaskInformation()\n",
    "test = \"mito_mem (3)\"\n",
    "print(test.split(\"(\")[0].split(\" \")[0])\n",
    "for row in mi.rows:\n",
    "    print(row.organelle_info)"
   ]
  },
  {
   "cell_type": "code",
   "execution_count": null,
   "metadata": {},
   "outputs": [],
   "source": [
    "from annotator_metrics.util.doc_io import MaskInformation\n",
    "from annotator_metrics.src.preprocessing import copy_data\n",
    "mi = MaskInformation()\n",
    "print(mi.rows)\n",
    "copy_data(group = \"group1\", output_base_path=\"/groups/cosem/cosem/ackermand/annotation_and_analytics/tmp/\")"
   ]
  },
  {
   "cell_type": "code",
   "execution_count": 2,
   "metadata": {},
   "outputs": [
    {
     "name": "stdout",
     "output_type": "stream",
     "text": [
      "{'mito_mem ': 3, 'mito_lumen ': 4, 'mito': 0}\n"
     ]
    }
   ],
   "source": [
    "from annotator_metrics.util.doc_io import MaskInformation\n",
    "mi = MaskInformation()\n",
    "print(mi.rows[0].organelle_info)\n"
   ]
  },
  {
   "cell_type": "code",
   "execution_count": 3,
   "metadata": {},
   "outputs": [],
   "source": [
    "import numpy as np\n",
    "a=np.random.random((4,4,4))"
   ]
  },
  {
   "cell_type": "code",
   "execution_count": 7,
   "metadata": {},
   "outputs": [
    {
     "name": "stdout",
     "output_type": "stream",
     "text": [
      "[[[0.29667459 0.14585225]\n",
      "  [0.93038333 0.71463271]]\n",
      "\n",
      " [[0.04604659 0.92718152]\n",
      "  [0.80627626 0.55996372]]]\n"
     ]
    }
   ],
   "source": [
    "print(a[1:3,1:3,1:3])"
   ]
  },
  {
   "cell_type": "code",
   "execution_count": 2,
   "metadata": {},
   "outputs": [
    {
     "name": "stderr",
     "output_type": "stream",
     "text": [
      "distributed.diskutils - INFO - Found stale lock file and directory '/groups/scicompsoft/home/ackermand/Programming/annotator-metrics/dask-worker-space/worker-5syvrpx1', purging\n",
      "distributed.diskutils - INFO - Found stale lock file and directory '/groups/scicompsoft/home/ackermand/Programming/annotator-metrics/dask-worker-space/worker-48jpuh33', purging\n",
      "distributed.diskutils - INFO - Found stale lock file and directory '/groups/scicompsoft/home/ackermand/Programming/annotator-metrics/dask-worker-space/worker-vlpyi6pa', purging\n",
      "distributed.diskutils - INFO - Found stale lock file and directory '/groups/scicompsoft/home/ackermand/Programming/annotator-metrics/dask-worker-space/worker-rh60rdp4', purging\n",
      "distributed.diskutils - INFO - Found stale lock file and directory '/groups/scicompsoft/home/ackermand/Programming/annotator-metrics/dask-worker-space/worker-o1vjd11f', purging\n",
      "distributed.diskutils - INFO - Found stale lock file and directory '/groups/scicompsoft/home/ackermand/Programming/annotator-metrics/dask-worker-space/worker-54yf9x6i', purging\n",
      "distributed.diskutils - INFO - Found stale lock file and directory '/groups/scicompsoft/home/ackermand/Programming/annotator-metrics/dask-worker-space/worker-npho6dht', purging\n",
      "distributed.diskutils - INFO - Found stale lock file and directory '/groups/scicompsoft/home/ackermand/Programming/annotator-metrics/dask-worker-space/worker-x6q2d9uf', purging\n",
      "distributed.diskutils - INFO - Found stale lock file and directory '/groups/scicompsoft/home/ackermand/Programming/annotator-metrics/dask-worker-space/worker-5tf3dktl', purging\n",
      "distributed.diskutils - INFO - Found stale lock file and directory '/groups/scicompsoft/home/ackermand/Programming/annotator-metrics/dask-worker-space/worker-ixt5w1c9', purging\n",
      "distributed.diskutils - INFO - Found stale lock file and directory '/groups/scicompsoft/home/ackermand/Programming/annotator-metrics/dask-worker-space/worker-lnyp90ko', purging\n",
      "distributed.diskutils - INFO - Found stale lock file and directory '/groups/scicompsoft/home/ackermand/Programming/annotator-metrics/dask-worker-space/worker-z6z299gq', purging\n",
      "distributed.diskutils - INFO - Found stale lock file and directory '/groups/scicompsoft/home/ackermand/Programming/annotator-metrics/dask-worker-space/worker-dxjcujko', purging\n",
      "distributed.diskutils - INFO - Found stale lock file and directory '/groups/scicompsoft/home/ackermand/Programming/annotator-metrics/dask-worker-space/worker-ligx1c8k', purging\n",
      "distributed.diskutils - INFO - Found stale lock file and directory '/groups/scicompsoft/home/ackermand/Programming/annotator-metrics/dask-worker-space/worker-x7obbg_i', purging\n",
      "distributed.diskutils - INFO - Found stale lock file and directory '/groups/scicompsoft/home/ackermand/Programming/annotator-metrics/dask-worker-space/worker-5iwvx4yz', purging\n",
      "distributed.diskutils - INFO - Found stale lock file and directory '/groups/scicompsoft/home/ackermand/Programming/annotator-metrics/dask-worker-space/worker-0xv_9l3j', purging\n",
      "distributed.diskutils - INFO - Found stale lock file and directory '/groups/scicompsoft/home/ackermand/Programming/annotator-metrics/dask-worker-space/worker-_tu9u6np', purging\n",
      "distributed.diskutils - INFO - Found stale lock file and directory '/groups/scicompsoft/home/ackermand/Programming/annotator-metrics/dask-worker-space/worker-vf7jchmn', purging\n",
      "distributed.diskutils - INFO - Found stale lock file and directory '/groups/scicompsoft/home/ackermand/Programming/annotator-metrics/dask-worker-space/worker-uskj6ux9', purging\n"
     ]
    },
    {
     "name": "stdout",
     "output_type": "stream",
     "text": [
      "http://127.0.0.1:8787/status\n",
      "[Result(crop='01', organelle_name='mito_mem', metric_value='jaccard', metric_name='Jaccard Index', annotator_names=['b1', 'a2', 'gt', 'b2', 'c1', 'd1', 'e1', 'a1'], gt_idx=0, test_idx=0, sorting=-1, score=1.0), Result(crop='01', organelle_name='mito_mem', metric_value='hausdorff', metric_name='Hausdorff Distance', annotator_names=['b1', 'a2', 'gt', 'b2', 'c1', 'd1', 'e1', 'a1'], gt_idx=0, test_idx=0, sorting=1, score=0.0), Result(crop='01', organelle_name='mito_mem', metric_value='false_negative_rate', metric_name='False Negative Rate', annotator_names=['b1', 'a2', 'gt', 'b2', 'c1', 'd1', 'e1', 'a1'], gt_idx=0, test_idx=0, sorting=1, score=0.0), Result(crop='01', organelle_name='mito_mem', metric_value='false_negative_rate_with_tolerance', metric_name='False Negative Rate with Tolerance Distance', annotator_names=['b1', 'a2', 'gt', 'b2', 'c1', 'd1', 'e1', 'a1'], gt_idx=0, test_idx=0, sorting=1, score=0.0), Result(crop='01', organelle_name='mito_mem', metric_value='false_positive_rate', metric_name='False Positive Rate', annotator_names=['b1', 'a2', 'gt', 'b2', 'c1', 'd1', 'e1', 'a1'], gt_idx=0, test_idx=0, sorting=1, score=0.0), Result(crop='01', organelle_name='mito_mem', metric_value='false_discovery_rate', metric_name='False Discovery Rate', annotator_names=['b1', 'a2', 'gt', 'b2', 'c1', 'd1', 'e1', 'a1'], gt_idx=0, test_idx=0, sorting=1, score=0.0), Result(crop='01', organelle_name='mito_mem', metric_value='false_positive_rate_with_tolerance', metric_name='False Positive Rate with Tolerance Distance', annotator_names=['b1', 'a2', 'gt', 'b2', 'c1', 'd1', 'e1', 'a1'], gt_idx=0, test_idx=0, sorting=1, score=0.0), Result(crop='01', organelle_name='mito_mem', metric_value='voi', metric_name='Variation Of Information', annotator_names=['b1', 'a2', 'gt', 'b2', 'c1', 'd1', 'e1', 'a1'], gt_idx=0, test_idx=0, sorting=1, score=0.0), Result(crop='01', organelle_name='mito_mem', metric_value='mean_false_distance', metric_name='Mean False Distance', annotator_names=['b1', 'a2', 'gt', 'b2', 'c1', 'd1', 'e1', 'a1'], gt_idx=0, test_idx=0, sorting=1, score=0.0)]\n"
     ]
    }
   ],
   "source": [
    "from annotator_metrics.src.metrics_evaluations import calculate_all_to_all\n",
    "results= calculate_all_to_all(\"group1\",\"/groups/cosem/cosem/ackermand/annotation_and_analytics/tmp/\", num_workers = 10)\n",
    "print(results[1:10])"
   ]
  },
  {
   "cell_type": "code",
   "execution_count": 3,
   "metadata": {},
   "outputs": [],
   "source": [
    "import numpy as np\n",
    "all_to_all = {}\n",
    "score_ranges = {}\n",
    "for result in results:\n",
    "    score_tuple = (result.crop,result.organelle_name,result.metric_value)\n",
    "    if score_tuple not in all_to_all:\n",
    "        all_to_all[score_tuple] = {\n",
    "            \"scores_matrix\": np.zeros((len(result.annotator_names),len(result.annotator_names))),\n",
    "            \"annotator_names\": result.annotator_names,\n",
    "            \"metric_name\": result.metric_name\n",
    "            }\n",
    "    all_to_all[score_tuple][\"scores_matrix\"][result.gt_idx][result.test_idx] = result.score\n",
    "\n",
    "    score_ranges_tuple = (result.organelle_name, result.metric_value)\n",
    "    if score_ranges_tuple not in score_ranges:\n",
    "        score_ranges[score_ranges_tuple]={\n",
    "                        \"min\": np.nan_to_num(np.inf),\n",
    "                        \"max\": np.nan_to_num(-np.inf),\n",
    "                        \"sorting\": result.sorting,\n",
    "                    }\n",
    "    if result.gt_idx != result.test_idx:\n",
    "        current_range = score_ranges[score_ranges_tuple]\n",
    "        current_range[\"min\"] = np.nanmin([current_range[\"min\"], result.score])\n",
    "        current_range[\"max\"] = np.nanmax([current_range[\"max\"], result.score])\n"
   ]
  },
  {
   "cell_type": "code",
   "execution_count": null,
   "metadata": {},
   "outputs": [],
   "source": []
  },
  {
   "cell_type": "code",
   "execution_count": 9,
   "metadata": {},
   "outputs": [
    {
     "name": "stderr",
     "output_type": "stream",
     "text": [
      "/groups/scicompsoft/home/ackermand/miniconda3/envs/annotator-metrics/lib/python3.7/site-packages/distributed/node.py:161: UserWarning: Port 8787 is already in use.\n",
      "Perhaps you already have a cluster running?\n",
      "Hosting the HTTP server on port 38623 instead\n",
      "  f\"Port {expected} is already in use.\\n\"\n"
     ]
    },
    {
     "name": "stdout",
     "output_type": "stream",
     "text": [
      "http://127.0.0.1:38623/status\n"
     ]
    },
    {
     "name": "stderr",
     "output_type": "stream",
     "text": [
      "ipykernel_launcher:21: RuntimeWarning: Mean of empty slice\n",
      "ipykernel_launcher:17: RuntimeWarning: Mean of empty slice\n",
      "ipykernel_launcher:21: RuntimeWarning: Mean of empty slice\n",
      "ipykernel_launcher:17: RuntimeWarning: Mean of empty slice\n",
      "ipykernel_launcher:17: RuntimeWarning: Mean of empty slice\n",
      "ipykernel_launcher:17: RuntimeWarning: Mean of empty slice\n",
      "ipykernel_launcher:17: RuntimeWarning: Mean of empty slice\n",
      "ipykernel_launcher:17: RuntimeWarning: Mean of empty slice\n",
      "ipykernel_launcher:21: RuntimeWarning: Mean of empty slice\n",
      "ipykernel_launcher:17: RuntimeWarning: Mean of empty slice\n",
      "ipykernel_launcher:21: RuntimeWarning: Mean of empty slice\n",
      "ipykernel_launcher:21: RuntimeWarning: Mean of empty slice\n",
      "ipykernel_launcher:17: RuntimeWarning: Mean of empty slice\n",
      "ipykernel_launcher:17: RuntimeWarning: Mean of empty slice\n",
      "ipykernel_launcher:17: RuntimeWarning: Mean of empty slice\n",
      "ipykernel_launcher:21: RuntimeWarning: Mean of empty slice\n",
      "ipykernel_launcher:17: RuntimeWarning: Mean of empty slice\n",
      "ipykernel_launcher:17: RuntimeWarning: Mean of empty slice\n",
      "ipykernel_launcher:17: RuntimeWarning: Mean of empty slice\n",
      "ipykernel_launcher:17: RuntimeWarning: Mean of empty slice\n",
      "ipykernel_launcher:21: RuntimeWarning: Mean of empty slice\n",
      "ipykernel_launcher:17: RuntimeWarning: Mean of empty slice\n",
      "ipykernel_launcher:21: RuntimeWarning: Mean of empty slice\n",
      "ipykernel_launcher:21: RuntimeWarning: Mean of empty slice\n",
      "ipykernel_launcher:17: RuntimeWarning: Mean of empty slice\n",
      "ipykernel_launcher:21: RuntimeWarning: Mean of empty slice\n",
      "ipykernel_launcher:21: RuntimeWarning: Mean of empty slice\n",
      "ipykernel_launcher:17: RuntimeWarning: Mean of empty slice\n",
      "ipykernel_launcher:17: RuntimeWarning: Mean of empty slice\n",
      "ipykernel_launcher:17: RuntimeWarning: Mean of empty slice\n",
      "ipykernel_launcher:17: RuntimeWarning: Mean of empty slice\n",
      "ipykernel_launcher:17: RuntimeWarning: Mean of empty slice\n",
      "ipykernel_launcher:21: RuntimeWarning: Mean of empty slice\n",
      "ipykernel_launcher:17: RuntimeWarning: Mean of empty slice\n"
     ]
    },
    {
     "data": {
      "text/plain": "(None,\n None,\n None,\n None,\n None,\n None,\n None,\n None,\n None,\n None,\n None,\n None,\n None,\n None,\n None,\n None,\n None,\n None,\n None,\n None,\n None,\n None,\n None,\n None,\n None,\n None,\n None,\n None,\n None,\n None,\n None,\n None,\n None,\n None,\n None,\n None,\n None,\n None,\n None,\n None,\n None,\n None,\n None,\n None,\n None,\n None,\n None,\n None,\n None,\n None,\n None,\n None,\n None,\n None,\n None,\n None,\n None,\n None,\n None,\n None,\n None,\n None,\n None,\n None,\n None,\n None,\n None,\n None,\n None,\n None,\n None,\n None,\n None,\n None,\n None,\n None,\n None,\n None,\n None,\n None,\n None,\n None,\n None,\n None,\n None,\n None,\n None,\n None,\n None,\n None,\n None,\n None,\n None,\n None,\n None,\n None,\n None,\n None,\n None,\n None,\n None,\n None,\n None,\n None,\n None,\n None,\n None,\n None,\n None,\n None,\n None,\n None,\n None,\n None,\n None,\n None,\n None,\n None,\n None,\n None,\n None,\n None,\n None,\n None,\n None,\n None,\n None,\n None,\n None,\n None,\n None,\n None,\n None,\n None,\n None,\n None,\n None,\n None,\n None,\n None,\n None,\n None,\n None,\n None,\n None,\n None,\n None,\n None,\n None,\n None,\n None,\n None,\n None,\n None,\n None,\n None,\n None,\n None,\n None,\n None,\n None,\n None,\n None,\n None,\n None,\n None,\n None,\n None,\n None,\n None,\n None,\n None,\n None,\n None,\n None,\n None,\n None,\n None,\n None,\n None,\n None,\n None,\n None,\n None,\n None,\n None,\n None,\n None,\n None,\n None,\n None,\n None,\n None,\n None,\n None,\n None,\n None,\n None,\n None,\n None,\n None,\n None,\n None,\n None,\n None,\n None,\n None,\n None,\n None,\n None,\n None,\n None,\n None,\n None,\n None,\n None,\n None,\n None,\n None,\n None,\n None,\n None,\n None,\n None,\n None,\n None,\n None,\n None,\n None,\n None,\n None,\n None,\n None,\n None,\n None,\n None,\n None,\n None,\n None,\n None,\n None,\n None,\n None,\n None,\n None,\n None,\n None,\n None,\n None,\n None,\n None,\n None,\n None,\n None,\n None,\n None,\n None,\n None,\n None,\n None,\n None,\n None,\n None,\n None,\n None,\n None,\n None,\n None,\n None,\n None,\n None,\n None,\n None,\n None,\n None,\n None,\n None,\n None,\n None,\n None,\n None,\n None,\n None,\n None,\n None,\n None,\n None,\n None,\n None,\n None,\n None,\n None,\n None,\n None,\n None,\n None,\n None,\n None,\n None,\n None,\n None,\n None,\n None,\n None,\n None,\n None,\n None,\n None,\n None,\n None,\n None,\n None,\n None,\n None,\n None,\n None,\n None,\n None,\n None,\n None,\n None,\n None,\n None,\n None,\n None,\n None,\n None,\n None,\n None,\n None,\n None,\n None,\n None,\n None,\n None,\n None,\n None,\n None,\n None,\n None,\n None,\n None,\n None,\n None,\n None,\n None,\n None,\n None,\n None,\n None,\n None,\n None,\n None,\n None,\n None,\n None,\n None,\n None,\n None,\n None,\n None,\n None,\n None,\n None,\n None,\n None,\n None,\n None,\n None,\n None,\n None,\n None,\n None,\n None,\n None,\n None,\n None,\n None,\n None,\n None,\n None,\n None,\n None,\n None,\n None,\n None,\n None,\n None,\n None,\n None,\n None,\n None,\n None,\n None,\n None,\n None,\n None,\n None,\n None,\n None,\n None,\n None,\n None,\n None,\n None,\n None,\n None,\n None,\n None,\n None,\n None,\n None,\n None,\n None,\n None,\n None,\n None,\n None,\n None,\n None,\n None,\n None,\n None,\n None,\n None,\n None,\n None,\n None,\n None,\n None,\n None,\n None,\n None,\n None,\n None,\n None,\n None,\n None,\n None,\n None,\n None,\n None,\n None,\n None,\n None,\n None,\n None,\n None,\n None,\n None,\n None,\n None,\n None,\n None,\n None,\n None,\n None,\n None,\n None,\n None,\n None,\n None,\n None,\n None,\n None,\n None,\n None,\n None,\n None,\n None,\n None,\n None,\n None,\n None,\n None,\n None,\n None,\n None,\n None,\n None,\n None,\n None,\n None,\n None,\n None,\n None,\n None,\n None,\n None,\n None,\n None,\n None,\n None,\n None,\n None,\n None,\n None,\n None,\n None,\n None,\n None,\n None,\n None,\n None,\n None,\n None,\n None,\n None,\n None,\n None,\n None,\n None,\n None,\n None,\n None,\n None,\n None,\n None,\n None,\n None,\n None,\n None,\n None,\n None,\n None,\n None,\n None,\n None,\n None,\n None,\n None,\n None,\n None,\n None,\n None,\n None,\n None,\n None,\n None,\n None,\n None,\n None,\n None,\n None,\n None,\n None,\n None,\n None,\n None,\n None,\n None,\n None,\n None,\n None,\n None,\n None,\n None,\n None,\n None,\n None,\n None,\n None,\n None,\n None,\n None,\n None,\n None,\n None,\n None,\n None,\n None,\n None,\n None,\n None,\n None,\n None,\n None,\n None,\n None,\n None,\n None,\n None,\n None,\n None,\n None,\n None,\n None,\n None,\n None,\n None,\n None,\n None,\n None,\n None,\n None,\n None,\n None,\n None,\n None,\n None,\n None,\n None,\n None,\n None,\n None,\n None,\n None,\n None,\n None,\n None,\n None,\n None,\n None,\n None,\n None,\n None,\n None,\n None,\n None,\n None,\n None,\n None,\n None,\n None,\n None,\n None,\n None,\n None,\n None,\n None,\n None,\n None,\n None,\n None,\n None,\n None,\n None,\n None,\n None,\n None,\n None,\n None,\n None,\n None,\n None,\n None,\n None,\n None,\n None,\n None,\n None,\n None,\n None,\n None,\n None,\n None,\n None,\n None,\n None,\n None,\n None,\n None,\n None,\n None,\n None,\n None,\n None,\n None,\n None,\n None,\n None,\n None,\n None,\n None,\n None,\n None,\n None,\n None,\n None,\n None,\n None,\n None,\n None,\n None,\n None,\n None,\n None,\n None,\n None,\n None,\n None,\n None,\n None)"
     },
     "execution_count": 9,
     "metadata": {},
     "output_type": "execute_result"
    }
   ],
   "source": [
    "from matplotlib import pyplot as plt\n",
    "import matplotlib\n",
    "import seaborn\n",
    "import os\n",
    "import dask\n",
    "from dask import delayed\n",
    "from dask.distributed import Client\n",
    "\n",
    "\n",
    "def plot_figure(crop, organelle_name, metric_value, metric_name, annotator_names, all_to_all, score_range):\n",
    "    matplotlib.rcParams[\"figure.dpi\"] = 300\n",
    "    matplotlib.rcParams['axes.facecolor']='white'\n",
    "    matplotlib.rcParams['savefig.facecolor']='white'\n",
    "\n",
    "    _, ax = plt.subplots(1, 1, figsize=(8, 6),)\n",
    "    if score_range[\"sorting\"] == 1:  # low to high\n",
    "        sort_order = np.argsort(np.nanmean(all_to_all, axis=1))\n",
    "        cmap = \"rocket_r\"\n",
    "    else:\n",
    "        cmap = \"rocket\"\n",
    "        sort_order = np.argsort(np.nanmean(all_to_all, axis=1))[\n",
    "            ::-1\n",
    "        ]\n",
    "\n",
    "    all_to_all = all_to_all[:, sort_order]\n",
    "    all_to_all = all_to_all[sort_order, :]\n",
    "    annotator_names = [annotator_names[s] for s in sort_order]\n",
    "    seaborn.heatmap(\n",
    "        all_to_all,\n",
    "        annot=True,\n",
    "        square=True,\n",
    "        vmin=score_range[\"min\"],\n",
    "        vmax=score_range[\"max\"],\n",
    "        cmap=cmap,\n",
    "    )\n",
    "    if score_range[\"sorting\"] == 1:  # low to high\n",
    "        plt.gcf().axes[1].invert_yaxis()\n",
    "\n",
    "    ax.set_title(organelle_name)\n",
    "    ax.collections[0].colorbar.set_label(metric_name)\n",
    "    ax.xaxis.tick_top()\n",
    "    plt.xticks(\n",
    "        [i + 0.5 for i in range(len(annotator_names))],\n",
    "        annotator_names,\n",
    "        rotation=45,\n",
    "        ha=\"left\",\n",
    "    )\n",
    "    plt.yticks(\n",
    "        [i + 0.5 for i in range(len(annotator_names))],\n",
    "        annotator_names,\n",
    "        rotation=0,\n",
    "    )\n",
    "    output_directory = (\n",
    "        f\"{input_base_path}/plots/{group}/{crop}/{metric_value}\"\n",
    "    )\n",
    "\n",
    "    os.makedirs(output_directory, exist_ok=True)\n",
    "    try:\n",
    "        os.remove(f\"{output_directory}/{organelle_name}.png\")\n",
    "    except OSError:\n",
    "        pass\n",
    "    plt.savefig(\n",
    "        f\"{output_directory}/{organelle_name}.png\", bbox_inches=\"tight\"\n",
    "    )\n",
    "    plt.close()\n",
    "\n",
    "client = Client(n_workers=10, threads_per_worker=1)\n",
    "print(client.dashboard_link)\n",
    "\n",
    "group = \"group01\"\n",
    "input_base_path = '/groups/cosem/cosem/ackermand/annotation_and_analytics/'\n",
    "lazy_results = []\n",
    "for score_tuple, score_entry in all_to_all.items():\n",
    "    crop = score_tuple[0]\n",
    "    organelle_name = score_tuple[1]\n",
    "    metric_value = score_tuple[2]\n",
    "    metric_name = score_entry[\"metric_name\"]\n",
    "    annotator_names = score_entry[\"annotator_names\"]\n",
    "    current_all_to_all = score_entry[\"scores_matrix\"]\n",
    "    score_range = score_ranges[(organelle_name, metric_value)]\n",
    "    lazy_results.append(delayed(plot_figure)(crop, organelle_name, metric_value, metric_name, annotator_names, current_all_to_all, score_range))\n",
    "    \n",
    "dask.compute(*lazy_results)"
   ]
  },
  {
   "cell_type": "code",
   "execution_count": 6,
   "metadata": {},
   "outputs": [
    {
     "data": {
      "text/plain": "100"
     },
     "execution_count": 6,
     "metadata": {},
     "output_type": "execute_result"
    }
   ],
   "source": [
    "import dask\n",
    "import dask.distributed\n",
    "dask.config.set({\"distributed.comm.timeouts.connect\":100})\n",
    "dask.config.get(\"distributed.comm.timeouts.connect\")"
   ]
  },
  {
   "cell_type": "code",
   "execution_count": null,
   "metadata": {},
   "outputs": [],
   "source": []
  }
 ],
 "metadata": {
  "kernelspec": {
   "display_name": "Python 3.7.11 64-bit ('annotator-metrics': conda)",
   "metadata": {
    "interpreter": {
     "hash": "6f3b6f92d1c1c780f8a6592ff0a1dd888c1df1667ddeb0bc2165ec1b206773a1"
    }
   },
   "name": "python3"
  },
  "language_info": {
   "codemirror_mode": {
    "name": "ipython",
    "version": 3
   },
   "file_extension": ".py",
   "mimetype": "text/x-python",
   "name": "python",
   "nbconvert_exporter": "python",
   "pygments_lexer": "ipython3",
   "version": "3.7.11"
  },
  "orig_nbformat": 2
 },
 "nbformat": 4,
 "nbformat_minor": 2
}