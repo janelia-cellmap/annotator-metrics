{
 "cells": [
  {
   "cell_type": "code",
   "execution_count": null,
   "metadata": {},
   "outputs": [],
   "source": [
    "from annotator_metrics.util.doc_io import MaskInformation\n",
    "mi = MaskInformation()\n",
    "test = \"mito_mem (3)\"\n",
    "print(test.split(\"(\")[0].split(\" \")[0])\n",
    "for row in mi.rows:\n",
    "    print(row.organelle_info)"
   ]
  },
  {
   "cell_type": "code",
   "execution_count": null,
   "metadata": {},
   "outputs": [],
   "source": [
    "from annotator_metrics.util.doc_io import MaskInformation\n",
    "from annotator_metrics.src.preprocessing import copy_data\n",
    "mi = MaskInformation()\n",
    "print(mi.rows)\n",
    "copy_data(group = \"group1\", output_base_path=\"/groups/cosem/cosem/ackermand/annotation_and_analytics/tmp/\")"
   ]
  },
  {
   "cell_type": "code",
   "execution_count": null,
   "metadata": {},
   "outputs": [],
   "source": [
    "from annotator_metrics.util.doc_io import MaskInformation\n",
    "mi = MaskInformation()\n",
    "print(mi.rows[0].organelle_info)\n"
   ]
  },
  {
   "cell_type": "code",
   "execution_count": null,
   "metadata": {},
   "outputs": [],
   "source": [
    "import numpy as np\n",
    "a=np.random.random((4,4,4))"
   ]
  },
  {
   "cell_type": "code",
   "execution_count": null,
   "metadata": {},
   "outputs": [],
   "source": [
    "from annotator_metrics.util.doc_io import MaskInformation\n",
    "a=MaskInformation()\n",
    "print(a.rows[1].organelle_info)"
   ]
  },
  {
   "cell_type": "code",
   "execution_count": null,
   "metadata": {},
   "outputs": [],
   "source": [
    "from annotator_metrics.src.metrics_evaluations import calculate_all_to_all\n",
    "a,b = calculate_all_to_all(\"group1\",\"/groups/cosem/cosem/ackermand/annotation_and_analytics/tmp/\", \"Mean False Distance (Clipped)\",num_workers = 10)"
   ]
  },
  {
   "cell_type": "code",
   "execution_count": null,
   "metadata": {},
   "outputs": [],
   "source": [
    "from annotator_metrics.src.metrics_evaluations import compare_two_images\n",
    "f1_score = compare_two_images(\n",
    "    gt_path = '/groups/cosem/cosem/annotations/amira/jrc_mus-liver/crop171/jrc_mus-liver_crop171_ariadne_manual.tif',\n",
    "    test_path = '/groups/cosem/cosem/annotations/amira/jrc_mus-liver/crop171/jrc_mus-liver_crop171_ariadne_refined.tif',\n",
    "    organelle_label = 2,\n",
    "    resolution = 8,\n",
    "    metrics_to_calculate = \"F1 Score\")\n",
    "print(f1_score)\n",
    "\n",
    "f1_score = compare_two_images(\n",
    "    gt_path = '/groups/cosem/cosem/annotations/amira/jrc_mus-liver/crop172/jrc_mus-liver_crop172_final_manual.tif',\n",
    "    test_path = '/groups/cosem/cosem/annotations/amira/jrc_mus-liver/crop172/jrc_mus-liver_crop172_final_ariadne.tif',\n",
    "    organelle_label = 2,\n",
    "    resolution = 8,\n",
    "    metrics_to_calculate = \"F1 Score\")\n",
    "print(f1_score)\n"
   ]
  },
  {
   "cell_type": "code",
   "execution_count": null,
   "metadata": {},
   "outputs": [],
   "source": [
    "from annotator_metrics.util.image_io import create_variance_images\n",
    "\n",
    "create_variance_images(\"/groups/cosem/cosem/ackermand/annotation_and_analytics/tmp\",\"group1\", \"/groups/cosem/cosem/ackermand/annotation_and_analytics/tmp/n5s\")"
   ]
  },
  {
   "cell_type": "code",
   "execution_count": null,
   "metadata": {},
   "outputs": [],
   "source": [
    "import h5py\n",
    "with h5py.File(\"/groups/cosem/cosem/annotations/amira//jrc_mus-liver/crop137/jrc_mus_liver_crop137_mito003.h5\") as f:\n",
    "    print(f[\"volumes\"][\"raw\"].attrs[\"resolution\"])\n",
    "    print(f[\"volumes\"][\"labels\"][\"gt\"].attrs[\"resolution\"])\n",
    "\n"
   ]
  },
  {
   "cell_type": "code",
   "execution_count": null,
   "metadata": {},
   "outputs": [],
   "source": [
    "1023/2"
   ]
  },
  {
   "cell_type": "code",
   "execution_count": null,
   "metadata": {},
   "outputs": [],
   "source": [
    "{\n",
    "  \"dimensions\": {\n",
    "    \"x\": [\n",
    "      resolution[0],\n",
    "      \"m\"\n",
    "    ],\n",
    "    \"y\": [\n",
    "      resolution[1],\n",
    "      \"m\"\n",
    "    ],\n",
    "    \"z\": [\n",
    "      resolution[2],\n",
    "      \"m\"\n",
    "    ]\n",
    "  },\n",
    "  \"position\": [\n",
    "    dim[0]/2,\n",
    "    dim[1]/2,\n",
    "    dim[2]/2\n",
    "  ],\n",
    "  \"crossSectionScale\": 1,\n",
    "  \"projectionScale\": 256,\n",
    "  \"layers\": [\n",
    "    {\n",
    "      \"type\": \"image\",\n",
    "      \"source\": \"n5://http://10.150.100.248:8080/annotation_and_analytics/tmp/n5s/group1/03.n5/raw/\",\n",
    "      \"tab\": \"source\",\n",
    "      \"name\": \"raw\"\n",
    "    },\n",
    "    {\n",
    "      \"type\": \"segmentation\",\n",
    "      \"source\": \"n5://http://10.150.100.248:8080/annotation_and_analytics/tmp/n5s/group1/03.n5/a1/\",\n",
    "      \"tab\": \"source\",\n",
    "      \"name\": \"a1\"\n",
    "    }\n",
    "  ],\n",
    "  \"selectedLayer\": {\n",
    "    \"visible\": true,\n",
    "    \"layer\": \"raw\"\n",
    "  },\n",
    "  \"layout\": \"4panel\"\n",
    "}\n"
   ]
  },
  {
   "cell_type": "code",
   "execution_count": 13,
   "metadata": {},
   "outputs": [
    {
     "ename": "SyntaxError",
     "evalue": "keyword argument repeated (403307536.py, line 6)",
     "output_type": "error",
     "traceback": [
      "\u001b[0;36m  File \u001b[0;32m\"/tmp/ipykernel_32679/403307536.py\"\u001b[0;36m, line \u001b[0;32m6\u001b[0m\n\u001b[0;31m    source='n5://http://10.150.100.248:8080/annotation_and_analytics/tmp/n5s/group1/03.n5/b1')\u001b[0m\n\u001b[0m    ^\u001b[0m\n\u001b[0;31mSyntaxError\u001b[0m\u001b[0;31m:\u001b[0m keyword argument repeated\n"
     ]
    }
   ],
   "source": [
    "import neuroglancer\n",
    "viewer = neuroglancer.Viewer()\n",
    "with viewer.txn() as s:\n",
    "  s.layers['image'] = neuroglancer.ImageLayer(source='n5://http://10.150.100.248:8080/annotation_and_analytics/tmp/n5s/group1/03.n5/raw')\n",
    "  s.layers['segmentation'] = neuroglancer.SegmentationLayer(source='n5://http://10.150.100.248:8080/annotation_and_analytics/tmp/n5s/group1/03.n5/a1',\n",
    "  source='n5://http://10.150.100.248:8080/annotation_and_analytics/tmp/n5s/group1/03.n5/b1')\n",
    "print(neuroglancer.to_url(viewer.state).replace(\"https://\",\"http://\"))\n",
    "neuroglancer.stop()"
   ]
  },
  {
   "cell_type": "code",
   "execution_count": 1,
   "metadata": {},
   "outputs": [
    {
     "name": "stdout",
     "output_type": "stream",
     "text": [
      "http://neuroglancer-demo.appspot.com#!%7B%22layers%22:%5B%7B%22type%22:%22image%22,%22source%22:%5B%7B%22url%22:%22n5://http://10.150.100.248:8080/annotation_and_analytics/tmp/n5s/group1/10.n5/raw%22%7D%5D,%22name%22:%22raw%22%7D,%7B%22type%22:%22segmentation%22,%22source%22:%5B%7B%22url%22:%22n5://http://10.150.100.248:8080/annotation_and_analytics/tmp/n5s/group1/10.n5/gt%22%7D%5D,%22name%22:%22gt%22,%22visible%22:false%7D,%7B%22type%22:%22segmentation%22,%22source%22:%5B%7B%22url%22:%22n5://http://10.150.100.248:8080/annotation_and_analytics/tmp/n5s/group1/10.n5/a1%22%7D%5D,%22name%22:%22a1%22,%22visible%22:false%7D,%7B%22type%22:%22segmentation%22,%22source%22:%5B%7B%22url%22:%22n5://http://10.150.100.248:8080/annotation_and_analytics/tmp/n5s/group1/10.n5/a2%22%7D%5D,%22name%22:%22a2%22,%22visible%22:false%7D,%7B%22type%22:%22segmentation%22,%22source%22:%5B%7B%22url%22:%22n5://http://10.150.100.248:8080/annotation_and_analytics/tmp/n5s/group1/10.n5/b1%22%7D%5D,%22name%22:%22b1%22,%22visible%22:false%7D,%7B%22type%22:%22segmentation%22,%22source%22:%5B%7B%22url%22:%22n5://http://10.150.100.248:8080/annotation_and_analytics/tmp/n5s/group1/10.n5/b2%22%7D%5D,%22name%22:%22b2%22,%22visible%22:false%7D,%7B%22type%22:%22segmentation%22,%22source%22:%5B%7B%22url%22:%22n5://http://10.150.100.248:8080/annotation_and_analytics/tmp/n5s/group1/10.n5/c1%22%7D%5D,%22name%22:%22c1%22,%22visible%22:false%7D,%7B%22type%22:%22segmentation%22,%22source%22:%5B%7B%22url%22:%22n5://http://10.150.100.248:8080/annotation_and_analytics/tmp/n5s/group1/10.n5/e1%22%7D%5D,%22name%22:%22e1%22,%22visible%22:false%7D,%7B%22type%22:%22image%22,%22source%22:%5B%7B%22url%22:%22n5://http://10.150.100.248:8080/annotation_and_analytics/tmp/n5s/group1/10.n5/mito_lumen_variance%22%7D%5D,%22name%22:%22mito_lumen_variance%22,%22visible%22:false%7D,%7B%22type%22:%22image%22,%22source%22:%5B%7B%22url%22:%22n5://http://10.150.100.248:8080/annotation_and_analytics/tmp/n5s/group1/10.n5/mito_mem_variance%22%7D%5D,%22name%22:%22mito_mem_variance%22,%22visible%22:false%7D,%7B%22type%22:%22image%22,%22source%22:%5B%7B%22url%22:%22n5://http://10.150.100.248:8080/annotation_and_analytics/tmp/n5s/group1/10.n5/mito_variance%22%7D%5D,%22name%22:%22mito_variance%22,%22visible%22:false%7D%5D%7D\n"
     ]
    }
   ],
   "source": [
    "from annotator_metrics.util.image_io import get_neuroglancer_view_of_crop\n",
    "get_neuroglancer_view_of_crop(f\"annotation_and_analytics/tmp/n5s/group1/10.n5\")"
   ]
  },
  {
   "cell_type": "code",
   "execution_count": 31,
   "metadata": {},
   "outputs": [
    {
     "name": "stdout",
     "output_type": "stream",
     "text": [
      "['a1', 'a2', 'b1', 'b2', 'c1', 'mito_lumen_variance', 'mito_mem_variance', 'mito_variance']\n",
      "None\n",
      "['a1', 'a2', 'b1', 'b2', 'c1', 'mito_lumen_variance', 'mito_mem_variance', 'mito_variance']\n"
     ]
    }
   ],
   "source": [
    "print(dirs)\n",
    "print(dirs.sort(key=str))\n",
    "print(dirs)"
   ]
  },
  {
   "cell_type": "code",
   "execution_count": null,
   "metadata": {},
   "outputs": [],
   "source": []
  }
 ],
 "metadata": {
  "kernelspec": {
   "display_name": "Python 3.7.11 64-bit ('annotator-metrics': conda)",
   "metadata": {
    "interpreter": {
     "hash": "6f3b6f92d1c1c780f8a6592ff0a1dd888c1df1667ddeb0bc2165ec1b206773a1"
    }
   },
   "name": "python3"
  },
  "language_info": {
   "codemirror_mode": {
    "name": "ipython",
    "version": 3
   },
   "file_extension": ".py",
   "mimetype": "text/x-python",
   "name": "python",
   "nbconvert_exporter": "python",
   "pygments_lexer": "ipython3",
   "version": "3.7.11"
  },
  "orig_nbformat": 2
 },
 "nbformat": 4,
 "nbformat_minor": 2
}
