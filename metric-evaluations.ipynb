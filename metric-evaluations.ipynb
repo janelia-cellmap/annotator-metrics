{
 "cells": [
  {
   "cell_type": "code",
   "execution_count": null,
   "metadata": {},
   "outputs": [],
   "source": [
    "from annotator_metrics.util.doc_io import MaskInformation\n",
    "mi = MaskInformation()\n",
    "test = \"mito_mem (3)\"\n",
    "print(test.split(\"(\")[0].split(\" \")[0])\n",
    "for row in mi.rows:\n",
    "    print(row.organelle_info)"
   ]
  },
  {
   "cell_type": "code",
   "execution_count": null,
   "metadata": {},
   "outputs": [],
   "source": [
    "from annotator_metrics.util.doc_io import MaskInformation\n",
    "from annotator_metrics.src.preprocessing import copy_data\n",
    "mi = MaskInformation()\n",
    "print(mi.rows)\n",
    "copy_data(group = \"group1\", output_base_path=\"/groups/cosem/cosem/ackermand/annotation_and_analytics/tmp/\")"
   ]
  },
  {
   "cell_type": "code",
   "execution_count": null,
   "metadata": {},
   "outputs": [],
   "source": [
    "from annotator_metrics.util.doc_io import MaskInformation\n",
    "mi = MaskInformation()\n",
    "print(mi.rows[0].organelle_info)\n"
   ]
  },
  {
   "cell_type": "code",
   "execution_count": null,
   "metadata": {},
   "outputs": [],
   "source": [
    "import numpy as np\n",
    "a=np.random.random((4,4,4))"
   ]
  },
  {
   "cell_type": "code",
   "execution_count": null,
   "metadata": {},
   "outputs": [],
   "source": [
    "from annotator_metrics.util.doc_io import MaskInformation\n",
    "a=MaskInformation()\n",
    "print(a.rows[1].organelle_info)"
   ]
  },
  {
   "cell_type": "code",
   "execution_count": 1,
   "metadata": {},
   "outputs": [],
   "source": [
    "from annotator_metrics.src.metrics_evaluations import calculate_all_to_all\n",
    "a,b = calculate_all_to_all(\"group1\",\"/groups/cosem/cosem/ackermand/annotation_and_analytics/tmp/\", \"Mean False Distance (Clipped)\",num_workers = 10)"
   ]
  },
  {
   "cell_type": "code",
   "execution_count": 8,
   "metadata": {},
   "outputs": [
    {
     "name": "stdout",
     "output_type": "stream",
     "text": [
      "[[<EvaluationMetrics.dice: 'dice'>, 0.6412835166041323], [<EvaluationMetrics.f1_score: 'f1_score'>, 0.6412835166041322]]\n"
     ]
    }
   ],
   "source": [
    "from annotator_metrics.src.metrics_evaluations import compare_two_images\n",
    "f1_score = compare_two_images(\n",
    "    gt_path = '/groups/cosem/cosem/annotations/amira/jrc_mus-liver/crop171/jrc_mus-liver_crop171_ariadne_manual.tif',\n",
    "    test_path = '/groups/cosem/cosem/annotations/amira/jrc_mus-liver/crop171/jrc_mus-liver_crop171_ariadne_refined.tif',\n",
    "    organelle_label = 2,\n",
    "    resolution = 8,\n",
    "    metrics_to_calculate = \"F1 Score\")\n",
    "print(f1_score)\n",
    "\n",
    "f1_score = compare_two_images(\n",
    "    gt_path = '/groups/cosem/cosem/annotations/amira/jrc_mus-liver/crop172/jrc_mus-liver_crop172_final_manual.tif',\n",
    "    test_path = '/groups/cosem/cosem/annotations/amira/jrc_mus-liver/crop172/jrc_mus-liver_crop172_final_ariadne.tif',\n",
    "    organelle_label = 2,\n",
    "    resolution = 8,\n",
    "    metrics_to_calculate = \"F1 Score\")\n",
    "print(f1_score)\n"
   ]
  },
  {
   "cell_type": "code",
   "execution_count": 1,
   "metadata": {},
   "outputs": [
    {
     "name": "stderr",
     "output_type": "stream",
     "text": [
      "distributed.diskutils - INFO - Found stale lock file and directory '/groups/scicompsoft/home/ackermand/Programming/annotator-metrics/dask-worker-space/worker-4iqgagyz', purging\n",
      "distributed.diskutils - INFO - Found stale lock file and directory '/groups/scicompsoft/home/ackermand/Programming/annotator-metrics/dask-worker-space/worker-i5e4visw', purging\n",
      "distributed.diskutils - INFO - Found stale lock file and directory '/groups/scicompsoft/home/ackermand/Programming/annotator-metrics/dask-worker-space/worker-n78syz82', purging\n",
      "distributed.diskutils - INFO - Found stale lock file and directory '/groups/scicompsoft/home/ackermand/Programming/annotator-metrics/dask-worker-space/worker-k_zuv4q0', purging\n",
      "distributed.diskutils - INFO - Found stale lock file and directory '/groups/scicompsoft/home/ackermand/Programming/annotator-metrics/dask-worker-space/worker-t8isiwu4', purging\n",
      "distributed.diskutils - INFO - Found stale lock file and directory '/groups/scicompsoft/home/ackermand/Programming/annotator-metrics/dask-worker-space/worker-zf6w_ywl', purging\n",
      "distributed.diskutils - INFO - Found stale lock file and directory '/groups/scicompsoft/home/ackermand/Programming/annotator-metrics/dask-worker-space/worker-by2ouhij', purging\n",
      "distributed.diskutils - INFO - Found stale lock file and directory '/groups/scicompsoft/home/ackermand/Programming/annotator-metrics/dask-worker-space/worker-q1ofycci', purging\n",
      "distributed.diskutils - INFO - Found stale lock file and directory '/groups/scicompsoft/home/ackermand/Programming/annotator-metrics/dask-worker-space/worker-tjgtmzzk', purging\n",
      "distributed.diskutils - INFO - Found stale lock file and directory '/groups/scicompsoft/home/ackermand/Programming/annotator-metrics/dask-worker-space/worker-94efua49', purging\n"
     ]
    },
    {
     "name": "stdout",
     "output_type": "stream",
     "text": [
      "http://10.150.100.248:8787/status\n"
     ]
    },
    {
     "name": "stderr",
     "output_type": "stream",
     "text": [
      "/groups/scicompsoft/home/ackermand/miniconda3/envs/annotator-metrics/lib/python3.7/site-packages/zarr/n5.py:711: RuntimeWarning: Not all N5 implementations support blosc compression (yet). You might not be able to open the dataset with another N5 library.\n",
      "  RuntimeWarning\n",
      "/groups/scicompsoft/home/ackermand/miniconda3/envs/annotator-metrics/lib/python3.7/site-packages/zarr/n5.py:711: RuntimeWarning: Not all N5 implementations support blosc compression (yet). You might not be able to open the dataset with another N5 library.\n",
      "  RuntimeWarning\n",
      "/groups/scicompsoft/home/ackermand/miniconda3/envs/annotator-metrics/lib/python3.7/site-packages/zarr/n5.py:711: RuntimeWarning: Not all N5 implementations support blosc compression (yet). You might not be able to open the dataset with another N5 library.\n",
      "  RuntimeWarning\n",
      "/groups/scicompsoft/home/ackermand/miniconda3/envs/annotator-metrics/lib/python3.7/site-packages/zarr/n5.py:711: RuntimeWarning: Not all N5 implementations support blosc compression (yet). You might not be able to open the dataset with another N5 library.\n",
      "  RuntimeWarning\n",
      "/groups/scicompsoft/home/ackermand/miniconda3/envs/annotator-metrics/lib/python3.7/site-packages/zarr/n5.py:711: RuntimeWarning: Not all N5 implementations support blosc compression (yet). You might not be able to open the dataset with another N5 library.\n",
      "  RuntimeWarning\n",
      "/groups/scicompsoft/home/ackermand/miniconda3/envs/annotator-metrics/lib/python3.7/site-packages/zarr/n5.py:711: RuntimeWarning: Not all N5 implementations support blosc compression (yet). You might not be able to open the dataset with another N5 library.\n",
      "  RuntimeWarning\n",
      "/groups/scicompsoft/home/ackermand/miniconda3/envs/annotator-metrics/lib/python3.7/site-packages/zarr/n5.py:711: RuntimeWarning: Not all N5 implementations support blosc compression (yet). You might not be able to open the dataset with another N5 library.\n",
      "  RuntimeWarning\n",
      "/groups/scicompsoft/home/ackermand/miniconda3/envs/annotator-metrics/lib/python3.7/site-packages/zarr/n5.py:711: RuntimeWarning: Not all N5 implementations support blosc compression (yet). You might not be able to open the dataset with another N5 library.\n",
      "  RuntimeWarning\n",
      "/groups/scicompsoft/home/ackermand/miniconda3/envs/annotator-metrics/lib/python3.7/site-packages/zarr/n5.py:711: RuntimeWarning: Not all N5 implementations support blosc compression (yet). You might not be able to open the dataset with another N5 library.\n",
      "  RuntimeWarning\n",
      "/groups/scicompsoft/home/ackermand/miniconda3/envs/annotator-metrics/lib/python3.7/site-packages/zarr/n5.py:711: RuntimeWarning: Not all N5 implementations support blosc compression (yet). You might not be able to open the dataset with another N5 library.\n",
      "  RuntimeWarning\n"
     ]
    }
   ],
   "source": [
    "from annotator_metrics.util.image_io import create_variance_images\n",
    "\n",
    "create_variance_images(\"/groups/cosem/cosem/ackermand/annotation_and_analytics/tmp\",\"group1\", \"/groups/cosem/cosem/ackermand/annotation_and_analytics/tmp/n5s\")"
   ]
  },
  {
   "cell_type": "code",
   "execution_count": 4,
   "metadata": {},
   "outputs": [
    {
     "name": "stdout",
     "output_type": "stream",
     "text": [
      "[4. 4. 4.]\n",
      "[4. 4. 4.]\n"
     ]
    }
   ],
   "source": [
    "import h5py\n",
    "with h5py.File(\"/groups/cosem/cosem/annotations/amira//jrc_mus-liver/crop137/jrc_mus_liver_crop137_mito003.h5\") as f:\n",
    "    print(f[\"volumes\"][\"raw\"].attrs[\"resolution\"])\n",
    "    print(f[\"volumes\"][\"labels\"][\"gt\"].attrs[\"resolution\"])\n",
    "\n"
   ]
  },
  {
   "cell_type": "code",
   "execution_count": 17,
   "metadata": {},
   "outputs": [
    {
     "data": {
      "text/plain": "511.5"
     },
     "execution_count": 17,
     "metadata": {},
     "output_type": "execute_result"
    }
   ],
   "source": [
    "1023/2"
   ]
  },
  {
   "cell_type": "code",
   "execution_count": null,
   "metadata": {},
   "outputs": [],
   "source": []
  }
 ],
 "metadata": {
  "kernelspec": {
   "display_name": "Python 3.7.11 64-bit ('annotator-metrics': conda)",
   "metadata": {
    "interpreter": {
     "hash": "6f3b6f92d1c1c780f8a6592ff0a1dd888c1df1667ddeb0bc2165ec1b206773a1"
    }
   },
   "name": "python3"
  },
  "language_info": {
   "codemirror_mode": {
    "name": "ipython",
    "version": 3
   },
   "file_extension": ".py",
   "mimetype": "text/x-python",
   "name": "python",
   "nbconvert_exporter": "python",
   "pygments_lexer": "ipython3",
   "version": "3.7.11"
  },
  "orig_nbformat": 2
 },
 "nbformat": 4,
 "nbformat_minor": 2
}