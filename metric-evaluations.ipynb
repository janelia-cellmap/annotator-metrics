{
 "cells": [
  {
   "cell_type": "code",
   "execution_count": 5,
   "metadata": {},
   "outputs": [
    {
     "name": "stderr",
     "output_type": "stream",
     "text": [
      "/groups/scicompsoft/home/ackermand/miniconda3/envs/annotator-metrics/lib/python3.6/site-packages/tensorflow/python/framework/dtypes.py:516: FutureWarning: Passing (type, 1) or '1type' as a synonym of type is deprecated; in a future version of numpy, it will be understood as (type, (1,)) / '(1,)type'.\n",
      "  _np_qint8 = np.dtype([(\"qint8\", np.int8, 1)])\n",
      "/groups/scicompsoft/home/ackermand/miniconda3/envs/annotator-metrics/lib/python3.6/site-packages/tensorflow/python/framework/dtypes.py:517: FutureWarning: Passing (type, 1) or '1type' as a synonym of type is deprecated; in a future version of numpy, it will be understood as (type, (1,)) / '(1,)type'.\n",
      "  _np_quint8 = np.dtype([(\"quint8\", np.uint8, 1)])\n",
      "/groups/scicompsoft/home/ackermand/miniconda3/envs/annotator-metrics/lib/python3.6/site-packages/tensorflow/python/framework/dtypes.py:518: FutureWarning: Passing (type, 1) or '1type' as a synonym of type is deprecated; in a future version of numpy, it will be understood as (type, (1,)) / '(1,)type'.\n",
      "  _np_qint16 = np.dtype([(\"qint16\", np.int16, 1)])\n",
      "/groups/scicompsoft/home/ackermand/miniconda3/envs/annotator-metrics/lib/python3.6/site-packages/tensorflow/python/framework/dtypes.py:519: FutureWarning: Passing (type, 1) or '1type' as a synonym of type is deprecated; in a future version of numpy, it will be understood as (type, (1,)) / '(1,)type'.\n",
      "  _np_quint16 = np.dtype([(\"quint16\", np.uint16, 1)])\n",
      "/groups/scicompsoft/home/ackermand/miniconda3/envs/annotator-metrics/lib/python3.6/site-packages/tensorflow/python/framework/dtypes.py:520: FutureWarning: Passing (type, 1) or '1type' as a synonym of type is deprecated; in a future version of numpy, it will be understood as (type, (1,)) / '(1,)type'.\n",
      "  _np_qint32 = np.dtype([(\"qint32\", np.int32, 1)])\n",
      "/groups/scicompsoft/home/ackermand/miniconda3/envs/annotator-metrics/lib/python3.6/site-packages/tensorflow/python/framework/dtypes.py:525: FutureWarning: Passing (type, 1) or '1type' as a synonym of type is deprecated; in a future version of numpy, it will be understood as (type, (1,)) / '(1,)type'.\n",
      "  np_resource = np.dtype([(\"resource\", np.ubyte, 1)])\n",
      "/groups/scicompsoft/home/ackermand/.local/lib/python3.6/site-packages/tensorboard/compat/tensorflow_stub/dtypes.py:541: FutureWarning: Passing (type, 1) or '1type' as a synonym of type is deprecated; in a future version of numpy, it will be understood as (type, (1,)) / '(1,)type'.\n",
      "  _np_qint8 = np.dtype([(\"qint8\", np.int8, 1)])\n",
      "/groups/scicompsoft/home/ackermand/.local/lib/python3.6/site-packages/tensorboard/compat/tensorflow_stub/dtypes.py:542: FutureWarning: Passing (type, 1) or '1type' as a synonym of type is deprecated; in a future version of numpy, it will be understood as (type, (1,)) / '(1,)type'.\n",
      "  _np_quint8 = np.dtype([(\"quint8\", np.uint8, 1)])\n",
      "/groups/scicompsoft/home/ackermand/.local/lib/python3.6/site-packages/tensorboard/compat/tensorflow_stub/dtypes.py:543: FutureWarning: Passing (type, 1) or '1type' as a synonym of type is deprecated; in a future version of numpy, it will be understood as (type, (1,)) / '(1,)type'.\n",
      "  _np_qint16 = np.dtype([(\"qint16\", np.int16, 1)])\n",
      "/groups/scicompsoft/home/ackermand/.local/lib/python3.6/site-packages/tensorboard/compat/tensorflow_stub/dtypes.py:544: FutureWarning: Passing (type, 1) or '1type' as a synonym of type is deprecated; in a future version of numpy, it will be understood as (type, (1,)) / '(1,)type'.\n",
      "  _np_quint16 = np.dtype([(\"quint16\", np.uint16, 1)])\n",
      "/groups/scicompsoft/home/ackermand/.local/lib/python3.6/site-packages/tensorboard/compat/tensorflow_stub/dtypes.py:545: FutureWarning: Passing (type, 1) or '1type' as a synonym of type is deprecated; in a future version of numpy, it will be understood as (type, (1,)) / '(1,)type'.\n",
      "  _np_qint32 = np.dtype([(\"qint32\", np.int32, 1)])\n",
      "/groups/scicompsoft/home/ackermand/.local/lib/python3.6/site-packages/tensorboard/compat/tensorflow_stub/dtypes.py:550: FutureWarning: Passing (type, 1) or '1type' as a synonym of type is deprecated; in a future version of numpy, it will be understood as (type, (1,)) / '(1,)type'.\n",
      "  np_resource = np.dtype([(\"resource\", np.ubyte, 1)])\n"
     ]
    }
   ],
   "source": [
    "from CNNectome.validation.organelles.segmentation_metrics import Evaluator,EvaluationMetrics,display_name,sorting\n",
    "import h5py\n",
    "import numpy as np\n",
    "import csv\n",
    "import os\n",
    "import matplotlib\n",
    "%matplotlib inline \n",
    "from matplotlib import pyplot as plt\n",
    "import pandas as pd\n",
    "import re\n",
    "import zarr\n",
    "import tifffile\n",
    "import seaborn\n",
    "import pandas\n",
    "from scipy.ndimage import label, distance_transform_edt\n",
    "from CNNectome.utils.compute_label_distribution import distance\n",
    "import scipy"
   ]
  },
  {
   "cell_type": "code",
   "execution_count": 1,
   "metadata": {},
   "outputs": [
    {
     "name": "stdout",
     "output_type": "stream",
     "text": [
      "[('group', 'Unnamed: 0_level_1'), ('cell type', 'Unnamed: 1_level_1'), ('raw data', 'Unnamed: 2_level_1'), ('crop pathway', 'Unnamed: 3_level_1'), ('original coordinates', 'x'), ('original coordinates', 'y'), ('original coordinates', 'z'), ('converted 4nm coordinates', 'x'), ('converted 4nm coordinates', 'y'), ('converted 4nm coordinates', 'z'), ('original crop size (pixels)', 'x'), ('original crop size (pixels)', 'y'), ('original crop size (pixels)', 'z'), ('voxel size (nm)', 'x'), ('voxel size (nm)', 'y'), ('voxel size (nm)', 'z'), ('original crop volume (um^3)', 'Unnamed: 16_level_1'), ('coordinates within crop', 'x min'), ('coordinates within crop', 'x max'), ('coordinates within crop', 'y min'), ('coordinates within crop', 'y max'), ('coordinates within crop', 'z min'), ('coordinates within crop', 'z max'), ('raw data coordinates', 'x min'), ('raw data coordinates', 'x max'), ('raw data coordinates', 'y min'), ('raw data coordinates', 'y max'), ('raw data coordinates', 'z min'), ('raw data coordinates', 'z max'), ('4nm data coordinates', 'x min'), ('4nm data coordinates', 'x max'), ('4nm data coordinates', 'y min'), ('4nm data coordinates', 'y max'), ('4nm data coordinates', 'z min'), ('4nm data coordinates', 'z max'), ('subvolume dimensions (pixels)', 'x'), ('subvolume dimensions (pixels)', 'y'), ('subvolume dimensions (pixels)', 'z'), ('subvolume  (um^3)', 'Unnamed: 38_level_1'), ('mito_mem (3)', 'Unnamed: 39_level_1'), ('mito_lumen (4)', 'Unnamed: 40_level_1'), ('mito_dna (5)', 'Unnamed: 41_level_1'), ('er_mem (16)', 'Unnamed: 42_level_1'), ('er_lum (17)', 'Unnamed: 43_level_1'), ('eres_mem (18)', 'Unnamed: 44_level_1'), ('eres_lum (19)', 'Unnamed: 45_level_1'), ('golgi_mem (6)', 'Unnamed: 46_level_1'), ('golgi_lum (7)', 'Unnamed: 47_level_1'), ('pm (2)', 'Unnamed: 48_level_1'), ('mvb_mem (10)', 'Unnamed: 49_level_1'), ('mvb_lum (11)', 'Unnamed: 50_level_1'), ('vesicle_mem (8)', 'Unnamed: 51_level_1'), ('vesicle_lum (9)', 'Unnamed: 52_level_1'), ('lysosome_mem (12)', 'Unnamed: 53_level_1'), ('lysosome_lum (13)', 'Unnamed: 54_level_1'), ('mt_in (36)', 'Unnamed: 55_level_1'), ('mt_out (30)', 'Unnamed: 56_level_1'), ('ne_mem (20)', 'Unnamed: 57_level_1'), ('ne_lum (21)', 'Unnamed: 58_level_1'), ('nuclear_pore_out (22)', 'Unnamed: 59_level_1'), ('nuclear_pore_in (23)', 'Unnamed: 60_level_1'), ('hchrom (24)', 'Unnamed: 61_level_1'), ('nhchrom (25)', 'Unnamed: 62_level_1'), ('echrom (26)', 'Unnamed: 63_level_1'), ('nechrom (27)', 'Unnamed: 64_level_1'), ('nucleoplasm (28)', 'Unnamed: 65_level_1'), ('nucleolus (29)', 'Unnamed: 66_level_1'), ('Centrosome (31)', 'Unnamed: 67_level_1'), ('Distal appendages (32)', 'Unnamed: 68_level_1'), ('Subdistal appendages (33)', 'Unnamed: 69_level_1')]\n",
      "0 [400, 400, 400]\n",
      "1 [400, 400, 400]\n",
      "2 [400, 400, 400]\n",
      "3 [500, 800, 800]\n",
      "4 [512, 512, 512]\n",
      "5 [600, 600, 600]\n",
      "6 [400, 400, 400]\n",
      "7 [400, 400, 400]\n",
      "8 [400, 400, 400]\n",
      "9 [400, 400, 400]\n",
      "10 [200, 400, 400]\n",
      "11 [512, 512, 512]\n",
      "12 [200, 400, 400]\n",
      "13 [128, 300, 300]\n",
      "14 [400, 400, 400]\n",
      "15 [400, 400, 400]\n",
      "16 [400, 400, 400]\n",
      "17 [400, 400, 400]\n",
      "18 [400, 400, 400]\n",
      "19 [400, 400, 400]\n",
      "20 [400, 400, 400]\n",
      "21 [400, 400, 400]\n",
      "22 [400, 400, 400]\n",
      "23 [400, 400, 400]\n",
      "24 [200, 1000, 1000]\n",
      "25 [200, 200, 200]\n",
      "26 [400, 400, 400]\n",
      "27 [200, 1000, 1000]\n",
      "28 [400, 400, 400]\n",
      "29 [400, 400, 400]\n",
      "30 [160, 600, 600]\n",
      "31 [128, 300, 300]\n",
      "32 [128, 300, 300]\n",
      "33 [512, 512, 512]\n",
      "34 [400, 400, 400]\n",
      "35 [400, 400, 400]\n",
      "36 [512, 512, 512]\n",
      "37 [512, 512, 512]\n",
      "38 [512, 512, 512]\n",
      "39 [512, 512, 512]\n",
      "40 [400, 400, 400]\n",
      "41 [400, 400, 400]\n",
      "42 [400, 400, 400]\n",
      "43 [400, 400, 400]\n",
      "44 [400, 400, 400]\n",
      "45 [400, 400, 400]\n",
      "46 [400, 400, 400]\n",
      "47 [400, 400, 400]\n",
      "48 [400, 400, 400]\n",
      "49 [400, 400, 400]\n",
      "50 [400, 400, 400]\n",
      "51 [400, 400, 400]\n",
      "52 [400, 400, 400]\n",
      "53 [400, 400, 400]\n",
      "54 [400, 400, 400]\n",
      "55 [400, 400, 400]\n",
      "56 [400, 400, 400]\n",
      "57 [400, 400, 400]\n",
      "58 [400, 400, 400]\n",
      "59 [400, 400, 400]\n",
      "60 [476, 600, 600]\n",
      "61 [476, 600, 600]\n",
      "62 [476, 600, 600]\n"
     ]
    },
    {
     "ename": "ValueError",
     "evalue": "cannot convert float NaN to integer",
     "output_type": "error",
     "traceback": [
      "\u001b[0;31m---------------------------------------------------------------------------\u001b[0m",
      "\u001b[0;31mValueError\u001b[0m                                Traceback (most recent call last)",
      "\u001b[0;32m<ipython-input-1-5cbc975ff85a>\u001b[0m in \u001b[0;36m<module>\u001b[0;34m\u001b[0m\n\u001b[1;32m      3\u001b[0m \u001b[0mprint\u001b[0m\u001b[0;34m(\u001b[0m\u001b[0mlist\u001b[0m\u001b[0;34m(\u001b[0m\u001b[0mmi\u001b[0m\u001b[0;34m.\u001b[0m\u001b[0mdf\u001b[0m\u001b[0;34m.\u001b[0m\u001b[0mcolumns\u001b[0m\u001b[0;34m)\u001b[0m\u001b[0;34m)\u001b[0m\u001b[0;34m\u001b[0m\u001b[0;34m\u001b[0m\u001b[0m\n\u001b[1;32m      4\u001b[0m \u001b[0;32mfor\u001b[0m \u001b[0mi\u001b[0m\u001b[0;34m,\u001b[0m\u001b[0mrow\u001b[0m \u001b[0;32min\u001b[0m \u001b[0mmi\u001b[0m\u001b[0;34m.\u001b[0m\u001b[0miterrows\u001b[0m\u001b[0;34m(\u001b[0m\u001b[0;34m)\u001b[0m\u001b[0;34m:\u001b[0m\u001b[0;34m\u001b[0m\u001b[0;34m\u001b[0m\u001b[0m\n\u001b[0;32m----> 5\u001b[0;31m     \u001b[0mprint\u001b[0m\u001b[0;34m(\u001b[0m\u001b[0mi\u001b[0m\u001b[0;34m,\u001b[0m \u001b[0mrow\u001b[0m\u001b[0;34m.\u001b[0m\u001b[0mget\u001b[0m\u001b[0;34m(\u001b[0m\u001b[0;34m\"original crop size (pixels)\"\u001b[0m\u001b[0;34m)\u001b[0m\u001b[0;34m)\u001b[0m\u001b[0;34m\u001b[0m\u001b[0;34m\u001b[0m\u001b[0m\n\u001b[0m",
      "\u001b[0;32m~/Programming/annotator-metrics/annotator_metrics/util/doc_io.py\u001b[0m in \u001b[0;36mget\u001b[0;34m(self, column)\u001b[0m\n\u001b[1;32m     12\u001b[0m         \u001b[0mc\u001b[0m \u001b[0;34m=\u001b[0m \u001b[0mself\u001b[0m\u001b[0;34m.\u001b[0m\u001b[0mrow\u001b[0m\u001b[0;34m[\u001b[0m\u001b[0mcolumn\u001b[0m\u001b[0;34m]\u001b[0m\u001b[0;34m\u001b[0m\u001b[0;34m\u001b[0m\u001b[0m\n\u001b[1;32m     13\u001b[0m         \u001b[0;32mif\u001b[0m \u001b[0;34m\"x\"\u001b[0m \u001b[0;32min\u001b[0m \u001b[0mc\u001b[0m\u001b[0;34m:\u001b[0m\u001b[0;34m\u001b[0m\u001b[0;34m\u001b[0m\u001b[0m\n\u001b[0;32m---> 14\u001b[0;31m             \u001b[0;32mreturn\u001b[0m \u001b[0;34m[\u001b[0m\u001b[0mint\u001b[0m\u001b[0;34m(\u001b[0m\u001b[0mc\u001b[0m\u001b[0;34m[\u001b[0m\u001b[0;34m\"z\"\u001b[0m\u001b[0;34m]\u001b[0m\u001b[0;34m)\u001b[0m\u001b[0;34m,\u001b[0m \u001b[0mint\u001b[0m\u001b[0;34m(\u001b[0m\u001b[0mc\u001b[0m\u001b[0;34m[\u001b[0m\u001b[0;34m\"y\"\u001b[0m\u001b[0;34m]\u001b[0m\u001b[0;34m)\u001b[0m\u001b[0;34m,\u001b[0m \u001b[0mint\u001b[0m\u001b[0;34m(\u001b[0m\u001b[0mc\u001b[0m\u001b[0;34m[\u001b[0m\u001b[0;34m\"x\"\u001b[0m\u001b[0;34m]\u001b[0m\u001b[0;34m)\u001b[0m\u001b[0;34m]\u001b[0m\u001b[0;34m\u001b[0m\u001b[0;34m\u001b[0m\u001b[0m\n\u001b[0m\u001b[1;32m     15\u001b[0m         \u001b[0;32melif\u001b[0m \u001b[0;34m\"x min\"\u001b[0m \u001b[0;32min\u001b[0m \u001b[0mc\u001b[0m\u001b[0;34m:\u001b[0m\u001b[0;34m\u001b[0m\u001b[0;34m\u001b[0m\u001b[0m\n\u001b[1;32m     16\u001b[0m             return (\n",
      "\u001b[0;31mValueError\u001b[0m: cannot convert float NaN to integer"
     ]
    }
   ],
   "source": [
    "from annotator_metrics.util.doc_io import MaskInformation\n",
    "mi = MaskInformation()\n",
    "print(list(mi.df.columns))\n",
    "for i,row in mi.iterrows():\n",
    "    print(i, row.get(\"original crop size (pixels)\"))"
   ]
  },
  {
   "cell_type": "code",
   "execution_count": null,
   "metadata": {},
   "outputs": [],
   "source": []
  }
 ],
 "metadata": {
  "kernelspec": {
   "display_name": "Python 3.6.13 64-bit ('annotator-metrics': conda)",
   "metadata": {
    "interpreter": {
     "hash": "6f3b6f92d1c1c780f8a6592ff0a1dd888c1df1667ddeb0bc2165ec1b206773a1"
    }
   },
   "name": "python3"
  },
  "language_info": {
   "codemirror_mode": {
    "name": "ipython",
    "version": 3
   },
   "file_extension": ".py",
   "mimetype": "text/x-python",
   "name": "python",
   "nbconvert_exporter": "python",
   "pygments_lexer": "ipython3",
   "version": "3.6.13"
  },
  "orig_nbformat": 2
 },
 "nbformat": 4,
 "nbformat_minor": 2
}