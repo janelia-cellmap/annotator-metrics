{
 "cells": [
  {
   "cell_type": "code",
   "execution_count": null,
   "metadata": {},
   "outputs": [],
   "source": [
    "from annotator_metrics.util.doc_io import MaskInformation\n",
    "mi = MaskInformation()\n",
    "test = \"mito_mem (3)\"\n",
    "print(test.split(\"(\")[0].split(\" \")[0])\n",
    "for row in mi.rows:\n",
    "    print(row.organelle_info)"
   ]
  },
  {
   "cell_type": "code",
   "execution_count": 1,
   "metadata": {},
   "outputs": [
    {
     "name": "stdout",
     "output_type": "stream",
     "text": [
      "calculating all-to-all for group1\n"
     ]
    },
    {
     "name": "stderr",
     "output_type": "stream",
     "text": [
      "distributed.diskutils - INFO - Found stale lock file and directory '/groups/scicompsoft/home/ackermand/Programming/annotator-metrics/dask-worker-space/worker-4gpd8wew', purging\n",
      "distributed.diskutils - INFO - Found stale lock file and directory '/groups/scicompsoft/home/ackermand/Programming/annotator-metrics/dask-worker-space/worker-2azbmbou', purging\n",
      "distributed.diskutils - INFO - Found stale lock file and directory '/groups/scicompsoft/home/ackermand/Programming/annotator-metrics/dask-worker-space/worker-83nvps0l', purging\n",
      "distributed.diskutils - INFO - Found stale lock file and directory '/groups/scicompsoft/home/ackermand/Programming/annotator-metrics/dask-worker-space/worker-idfdc10_', purging\n",
      "distributed.diskutils - INFO - Found stale lock file and directory '/groups/scicompsoft/home/ackermand/Programming/annotator-metrics/dask-worker-space/worker-3uoa7kzh', purging\n",
      "distributed.diskutils - INFO - Found stale lock file and directory '/groups/scicompsoft/home/ackermand/Programming/annotator-metrics/dask-worker-space/worker-zl79xu6b', purging\n",
      "distributed.diskutils - INFO - Found stale lock file and directory '/groups/scicompsoft/home/ackermand/Programming/annotator-metrics/dask-worker-space/worker-vs5or_v0', purging\n",
      "distributed.diskutils - INFO - Found stale lock file and directory '/groups/scicompsoft/home/ackermand/Programming/annotator-metrics/dask-worker-space/worker-n6z5gc96', purging\n",
      "distributed.diskutils - INFO - Found stale lock file and directory '/groups/scicompsoft/home/ackermand/Programming/annotator-metrics/dask-worker-space/worker-s2cahwb5', purging\n",
      "distributed.diskutils - INFO - Found stale lock file and directory '/groups/scicompsoft/home/ackermand/Programming/annotator-metrics/dask-worker-space/worker-oi0ijzzg', purging\n",
      "distributed.diskutils - INFO - Found stale lock file and directory '/groups/scicompsoft/home/ackermand/Programming/annotator-metrics/dask-worker-space/worker-p1m191ua', purging\n",
      "distributed.diskutils - INFO - Found stale lock file and directory '/groups/scicompsoft/home/ackermand/Programming/annotator-metrics/dask-worker-space/worker-edcr87gd', purging\n",
      "distributed.diskutils - INFO - Found stale lock file and directory '/groups/scicompsoft/home/ackermand/Programming/annotator-metrics/dask-worker-space/worker-byrdj37s', purging\n",
      "distributed.diskutils - INFO - Found stale lock file and directory '/groups/scicompsoft/home/ackermand/Programming/annotator-metrics/dask-worker-space/worker-gzbapjn2', purging\n",
      "distributed.diskutils - INFO - Found stale lock file and directory '/groups/scicompsoft/home/ackermand/Programming/annotator-metrics/dask-worker-space/worker-vktcbf5v', purging\n",
      "distributed.diskutils - INFO - Found stale lock file and directory '/groups/scicompsoft/home/ackermand/Programming/annotator-metrics/dask-worker-space/worker-624pk4nq', purging\n",
      "distributed.diskutils - INFO - Found stale lock file and directory '/groups/scicompsoft/home/ackermand/Programming/annotator-metrics/dask-worker-space/worker-jvumusix', purging\n",
      "distributed.diskutils - INFO - Found stale lock file and directory '/groups/scicompsoft/home/ackermand/Programming/annotator-metrics/dask-worker-space/worker-7f5kjcmm', purging\n",
      "distributed.diskutils - INFO - Found stale lock file and directory '/groups/scicompsoft/home/ackermand/Programming/annotator-metrics/dask-worker-space/worker-szl14abj', purging\n",
      "distributed.diskutils - INFO - Found stale lock file and directory '/groups/scicompsoft/home/ackermand/Programming/annotator-metrics/dask-worker-space/worker-pgake0n3', purging\n"
     ]
    },
    {
     "name": "stdout",
     "output_type": "stream",
     "text": [
      "http://10.150.100.248:8787/status\n"
     ]
    },
    {
     "name": "stderr",
     "output_type": "stream",
     "text": [
      "/groups/scicompsoft/home/ackermand/Programming/annotator-metrics/annotator_metrics/src/metrics_evaluations.py:200: RuntimeWarning: Mean of empty slice\n",
      "  sort_order = np.argsort(np.nanmean(all_to_all, axis=0))\n",
      "/groups/scicompsoft/home/ackermand/Programming/annotator-metrics/annotator_metrics/src/metrics_evaluations.py:200: RuntimeWarning: Mean of empty slice\n",
      "  sort_order = np.argsort(np.nanmean(all_to_all, axis=0))\n",
      "/groups/scicompsoft/home/ackermand/Programming/annotator-metrics/annotator_metrics/src/metrics_evaluations.py:204: RuntimeWarning: Mean of empty slice\n",
      "  sort_order = np.argsort(np.nanmean(all_to_all, axis=0))[::-1]\n",
      "/groups/scicompsoft/home/ackermand/Programming/annotator-metrics/annotator_metrics/src/metrics_evaluations.py:204: RuntimeWarning: Mean of empty slice\n",
      "  sort_order = np.argsort(np.nanmean(all_to_all, axis=0))[::-1]\n",
      "/groups/scicompsoft/home/ackermand/Programming/annotator-metrics/annotator_metrics/src/metrics_evaluations.py:200: RuntimeWarning: Mean of empty slice\n",
      "  sort_order = np.argsort(np.nanmean(all_to_all, axis=0))\n",
      "/groups/scicompsoft/home/ackermand/Programming/annotator-metrics/annotator_metrics/src/metrics_evaluations.py:200: RuntimeWarning: Mean of empty slice\n",
      "  sort_order = np.argsort(np.nanmean(all_to_all, axis=0))\n",
      "/groups/scicompsoft/home/ackermand/Programming/annotator-metrics/annotator_metrics/src/metrics_evaluations.py:200: RuntimeWarning: Mean of empty slice\n",
      "  sort_order = np.argsort(np.nanmean(all_to_all, axis=0))\n",
      "/groups/scicompsoft/home/ackermand/Programming/annotator-metrics/annotator_metrics/src/metrics_evaluations.py:204: RuntimeWarning: Mean of empty slice\n",
      "  sort_order = np.argsort(np.nanmean(all_to_all, axis=0))[::-1]\n",
      "/groups/scicompsoft/home/ackermand/Programming/annotator-metrics/annotator_metrics/src/metrics_evaluations.py:200: RuntimeWarning: Mean of empty slice\n",
      "  sort_order = np.argsort(np.nanmean(all_to_all, axis=0))\n",
      "/groups/scicompsoft/home/ackermand/Programming/annotator-metrics/annotator_metrics/src/metrics_evaluations.py:204: RuntimeWarning: Mean of empty slice\n",
      "  sort_order = np.argsort(np.nanmean(all_to_all, axis=0))[::-1]\n",
      "/groups/scicompsoft/home/ackermand/Programming/annotator-metrics/annotator_metrics/src/metrics_evaluations.py:204: RuntimeWarning: Mean of empty slice\n",
      "  sort_order = np.argsort(np.nanmean(all_to_all, axis=0))[::-1]\n",
      "/groups/scicompsoft/home/ackermand/Programming/annotator-metrics/annotator_metrics/src/metrics_evaluations.py:200: RuntimeWarning: Mean of empty slice\n",
      "  sort_order = np.argsort(np.nanmean(all_to_all, axis=0))\n",
      "/groups/scicompsoft/home/ackermand/Programming/annotator-metrics/annotator_metrics/src/metrics_evaluations.py:204: RuntimeWarning: Mean of empty slice\n",
      "  sort_order = np.argsort(np.nanmean(all_to_all, axis=0))[::-1]\n",
      "/groups/scicompsoft/home/ackermand/Programming/annotator-metrics/annotator_metrics/src/metrics_evaluations.py:200: RuntimeWarning: Mean of empty slice\n",
      "  sort_order = np.argsort(np.nanmean(all_to_all, axis=0))\n",
      "/groups/scicompsoft/home/ackermand/Programming/annotator-metrics/annotator_metrics/src/metrics_evaluations.py:200: RuntimeWarning: Mean of empty slice\n",
      "  sort_order = np.argsort(np.nanmean(all_to_all, axis=0))\n",
      "/groups/scicompsoft/home/ackermand/Programming/annotator-metrics/annotator_metrics/src/metrics_evaluations.py:200: RuntimeWarning: Mean of empty slice\n",
      "  sort_order = np.argsort(np.nanmean(all_to_all, axis=0))\n",
      "/groups/scicompsoft/home/ackermand/Programming/annotator-metrics/annotator_metrics/src/metrics_evaluations.py:204: RuntimeWarning: Mean of empty slice\n",
      "  sort_order = np.argsort(np.nanmean(all_to_all, axis=0))[::-1]\n",
      "/groups/scicompsoft/home/ackermand/Programming/annotator-metrics/annotator_metrics/src/metrics_evaluations.py:234: RuntimeWarning: All-NaN slice encountered\n",
      "  score_range_min = np.nanmin(all_to_all[mask])\n",
      "/groups/scicompsoft/home/ackermand/Programming/annotator-metrics/annotator_metrics/src/metrics_evaluations.py:235: RuntimeWarning: All-NaN slice encountered\n",
      "  score_range_max = np.nanmax(all_to_all[mask])\n",
      "/groups/scicompsoft/home/ackermand/Programming/annotator-metrics/annotator_metrics/src/metrics_evaluations.py:204: RuntimeWarning: Mean of empty slice\n",
      "  sort_order = np.argsort(np.nanmean(all_to_all, axis=0))[::-1]\n"
     ]
    },
    {
     "name": "stdout",
     "output_type": "stream",
     "text": [
      "calculating all-to-all for group2\n"
     ]
    },
    {
     "name": "stderr",
     "output_type": "stream",
     "text": [
      "/groups/scicompsoft/home/ackermand/miniconda3/envs/annotator-metrics/lib/python3.7/site-packages/distributed/node.py:161: UserWarning: Port 8787 is already in use.\n",
      "Perhaps you already have a cluster running?\n",
      "Hosting the HTTP server on port 43077 instead\n",
      "  f\"Port {expected} is already in use.\\n\"\n"
     ]
    },
    {
     "name": "stdout",
     "output_type": "stream",
     "text": [
      "http://10.150.100.248:43077/status\n"
     ]
    },
    {
     "name": "stderr",
     "output_type": "stream",
     "text": [
      "/groups/scicompsoft/home/ackermand/Programming/annotator-metrics/annotator_metrics/src/metrics_evaluations.py:200: RuntimeWarning: Mean of empty slice\n",
      "  sort_order = np.argsort(np.nanmean(all_to_all, axis=0))\n",
      "/groups/scicompsoft/home/ackermand/Programming/annotator-metrics/annotator_metrics/src/metrics_evaluations.py:204: RuntimeWarning: Mean of empty slice\n",
      "  sort_order = np.argsort(np.nanmean(all_to_all, axis=0))[::-1]\n",
      "/groups/scicompsoft/home/ackermand/Programming/annotator-metrics/annotator_metrics/src/metrics_evaluations.py:200: RuntimeWarning: Mean of empty slice\n",
      "  sort_order = np.argsort(np.nanmean(all_to_all, axis=0))\n",
      "/groups/scicompsoft/home/ackermand/Programming/annotator-metrics/annotator_metrics/src/metrics_evaluations.py:200: RuntimeWarning: Mean of empty slice\n",
      "  sort_order = np.argsort(np.nanmean(all_to_all, axis=0))\n",
      "/groups/scicompsoft/home/ackermand/Programming/annotator-metrics/annotator_metrics/src/metrics_evaluations.py:200: RuntimeWarning: Mean of empty slice\n",
      "  sort_order = np.argsort(np.nanmean(all_to_all, axis=0))\n",
      "/groups/scicompsoft/home/ackermand/Programming/annotator-metrics/annotator_metrics/src/metrics_evaluations.py:200: RuntimeWarning: Mean of empty slice\n",
      "  sort_order = np.argsort(np.nanmean(all_to_all, axis=0))\n",
      "/groups/scicompsoft/home/ackermand/Programming/annotator-metrics/annotator_metrics/src/metrics_evaluations.py:200: RuntimeWarning: Mean of empty slice\n",
      "  sort_order = np.argsort(np.nanmean(all_to_all, axis=0))\n",
      "/groups/scicompsoft/home/ackermand/Programming/annotator-metrics/annotator_metrics/src/metrics_evaluations.py:204: RuntimeWarning: Mean of empty slice\n",
      "  sort_order = np.argsort(np.nanmean(all_to_all, axis=0))[::-1]\n",
      "/groups/scicompsoft/home/ackermand/Programming/annotator-metrics/annotator_metrics/src/metrics_evaluations.py:200: RuntimeWarning: Mean of empty slice\n",
      "  sort_order = np.argsort(np.nanmean(all_to_all, axis=0))\n",
      "/groups/scicompsoft/home/ackermand/Programming/annotator-metrics/annotator_metrics/src/metrics_evaluations.py:200: RuntimeWarning: Mean of empty slice\n",
      "  sort_order = np.argsort(np.nanmean(all_to_all, axis=0))\n",
      "/groups/scicompsoft/home/ackermand/Programming/annotator-metrics/annotator_metrics/src/metrics_evaluations.py:204: RuntimeWarning: Mean of empty slice\n",
      "  sort_order = np.argsort(np.nanmean(all_to_all, axis=0))[::-1]\n",
      "/groups/scicompsoft/home/ackermand/Programming/annotator-metrics/annotator_metrics/src/metrics_evaluations.py:200: RuntimeWarning: Mean of empty slice\n",
      "  sort_order = np.argsort(np.nanmean(all_to_all, axis=0))\n",
      "/groups/scicompsoft/home/ackermand/Programming/annotator-metrics/annotator_metrics/src/metrics_evaluations.py:204: RuntimeWarning: Mean of empty slice\n",
      "  sort_order = np.argsort(np.nanmean(all_to_all, axis=0))[::-1]\n"
     ]
    },
    {
     "name": "stdout",
     "output_type": "stream",
     "text": [
      "calculating all-to-all for group3\n"
     ]
    },
    {
     "name": "stderr",
     "output_type": "stream",
     "text": [
      "/groups/scicompsoft/home/ackermand/miniconda3/envs/annotator-metrics/lib/python3.7/site-packages/distributed/node.py:161: UserWarning: Port 8787 is already in use.\n",
      "Perhaps you already have a cluster running?\n",
      "Hosting the HTTP server on port 40299 instead\n",
      "  f\"Port {expected} is already in use.\\n\"\n"
     ]
    },
    {
     "name": "stdout",
     "output_type": "stream",
     "text": [
      "http://10.150.100.248:40299/status\n"
     ]
    },
    {
     "name": "stderr",
     "output_type": "stream",
     "text": [
      "/groups/scicompsoft/home/ackermand/Programming/annotator-metrics/annotator_metrics/src/metrics_evaluations.py:204: RuntimeWarning: Mean of empty slice\n",
      "  sort_order = np.argsort(np.nanmean(all_to_all, axis=0))[::-1]\n",
      "/groups/scicompsoft/home/ackermand/Programming/annotator-metrics/annotator_metrics/src/metrics_evaluations.py:200: RuntimeWarning: Mean of empty slice\n",
      "  sort_order = np.argsort(np.nanmean(all_to_all, axis=0))\n",
      "/groups/scicompsoft/home/ackermand/Programming/annotator-metrics/annotator_metrics/src/metrics_evaluations.py:200: RuntimeWarning: Mean of empty slice\n",
      "  sort_order = np.argsort(np.nanmean(all_to_all, axis=0))\n",
      "/groups/scicompsoft/home/ackermand/Programming/annotator-metrics/annotator_metrics/src/metrics_evaluations.py:200: RuntimeWarning: Mean of empty slice\n",
      "  sort_order = np.argsort(np.nanmean(all_to_all, axis=0))\n",
      "/groups/scicompsoft/home/ackermand/Programming/annotator-metrics/annotator_metrics/src/metrics_evaluations.py:200: RuntimeWarning: Mean of empty slice\n",
      "  sort_order = np.argsort(np.nanmean(all_to_all, axis=0))\n",
      "/groups/scicompsoft/home/ackermand/Programming/annotator-metrics/annotator_metrics/src/metrics_evaluations.py:200: RuntimeWarning: Mean of empty slice\n",
      "  sort_order = np.argsort(np.nanmean(all_to_all, axis=0))\n",
      "/groups/scicompsoft/home/ackermand/Programming/annotator-metrics/annotator_metrics/src/metrics_evaluations.py:200: RuntimeWarning: Mean of empty slice\n",
      "  sort_order = np.argsort(np.nanmean(all_to_all, axis=0))\n",
      "/groups/scicompsoft/home/ackermand/Programming/annotator-metrics/annotator_metrics/src/metrics_evaluations.py:200: RuntimeWarning: Mean of empty slice\n",
      "  sort_order = np.argsort(np.nanmean(all_to_all, axis=0))\n",
      "/groups/scicompsoft/home/ackermand/Programming/annotator-metrics/annotator_metrics/src/metrics_evaluations.py:200: RuntimeWarning: Mean of empty slice\n",
      "  sort_order = np.argsort(np.nanmean(all_to_all, axis=0))\n",
      "/groups/scicompsoft/home/ackermand/Programming/annotator-metrics/annotator_metrics/src/metrics_evaluations.py:200: RuntimeWarning: Mean of empty slice\n",
      "  sort_order = np.argsort(np.nanmean(all_to_all, axis=0))\n",
      "/groups/scicompsoft/home/ackermand/Programming/annotator-metrics/annotator_metrics/src/metrics_evaluations.py:200: RuntimeWarning: Mean of empty slice\n",
      "  sort_order = np.argsort(np.nanmean(all_to_all, axis=0))\n",
      "/groups/scicompsoft/home/ackermand/Programming/annotator-metrics/annotator_metrics/src/metrics_evaluations.py:204: RuntimeWarning: Mean of empty slice\n",
      "  sort_order = np.argsort(np.nanmean(all_to_all, axis=0))[::-1]\n",
      "/groups/scicompsoft/home/ackermand/Programming/annotator-metrics/annotator_metrics/src/metrics_evaluations.py:204: RuntimeWarning: Mean of empty slice\n",
      "  sort_order = np.argsort(np.nanmean(all_to_all, axis=0))[::-1]\n",
      "/groups/scicompsoft/home/ackermand/Programming/annotator-metrics/annotator_metrics/src/metrics_evaluations.py:204: RuntimeWarning: Mean of empty slice\n",
      "  sort_order = np.argsort(np.nanmean(all_to_all, axis=0))[::-1]\n",
      "/groups/scicompsoft/home/ackermand/Programming/annotator-metrics/annotator_metrics/src/metrics_evaluations.py:204: RuntimeWarning: Mean of empty slice\n",
      "  sort_order = np.argsort(np.nanmean(all_to_all, axis=0))[::-1]\n",
      "/groups/scicompsoft/home/ackermand/Programming/annotator-metrics/annotator_metrics/src/metrics_evaluations.py:204: RuntimeWarning: Mean of empty slice\n",
      "  sort_order = np.argsort(np.nanmean(all_to_all, axis=0))[::-1]\n",
      "/groups/scicompsoft/home/ackermand/Programming/annotator-metrics/annotator_metrics/src/metrics_evaluations.py:204: RuntimeWarning: Mean of empty slice\n",
      "  sort_order = np.argsort(np.nanmean(all_to_all, axis=0))[::-1]\n",
      "/groups/scicompsoft/home/ackermand/Programming/annotator-metrics/annotator_metrics/src/metrics_evaluations.py:204: RuntimeWarning: Mean of empty slice\n",
      "  sort_order = np.argsort(np.nanmean(all_to_all, axis=0))[::-1]\n",
      "/groups/scicompsoft/home/ackermand/Programming/annotator-metrics/annotator_metrics/src/metrics_evaluations.py:204: RuntimeWarning: Mean of empty slice\n",
      "  sort_order = np.argsort(np.nanmean(all_to_all, axis=0))[::-1]\n"
     ]
    },
    {
     "name": "stdout",
     "output_type": "stream",
     "text": [
      "creating variance image for group1\n"
     ]
    },
    {
     "name": "stderr",
     "output_type": "stream",
     "text": [
      "/groups/scicompsoft/home/ackermand/miniconda3/envs/annotator-metrics/lib/python3.7/site-packages/distributed/node.py:161: UserWarning: Port 8787 is already in use.\n",
      "Perhaps you already have a cluster running?\n",
      "Hosting the HTTP server on port 44977 instead\n",
      "  f\"Port {expected} is already in use.\\n\"\n"
     ]
    },
    {
     "name": "stdout",
     "output_type": "stream",
     "text": [
      "http://10.150.100.248:44977/status\n"
     ]
    },
    {
     "name": "stderr",
     "output_type": "stream",
     "text": [
      "/groups/scicompsoft/home/ackermand/miniconda3/envs/annotator-metrics/lib/python3.7/site-packages/zarr/n5.py:711: RuntimeWarning: Not all N5 implementations support blosc compression (yet). You might not be able to open the dataset with another N5 library.\n",
      "  RuntimeWarning\n",
      "/groups/scicompsoft/home/ackermand/miniconda3/envs/annotator-metrics/lib/python3.7/site-packages/zarr/n5.py:711: RuntimeWarning: Not all N5 implementations support blosc compression (yet). You might not be able to open the dataset with another N5 library.\n",
      "  RuntimeWarning\n",
      "/groups/scicompsoft/home/ackermand/miniconda3/envs/annotator-metrics/lib/python3.7/site-packages/zarr/n5.py:711: RuntimeWarning: Not all N5 implementations support blosc compression (yet). You might not be able to open the dataset with another N5 library.\n",
      "  RuntimeWarning\n",
      "/groups/scicompsoft/home/ackermand/miniconda3/envs/annotator-metrics/lib/python3.7/site-packages/zarr/n5.py:711: RuntimeWarning: Not all N5 implementations support blosc compression (yet). You might not be able to open the dataset with another N5 library.\n",
      "  RuntimeWarning\n",
      "/groups/scicompsoft/home/ackermand/miniconda3/envs/annotator-metrics/lib/python3.7/site-packages/zarr/n5.py:711: RuntimeWarning: Not all N5 implementations support blosc compression (yet). You might not be able to open the dataset with another N5 library.\n",
      "  RuntimeWarning\n",
      "/groups/scicompsoft/home/ackermand/miniconda3/envs/annotator-metrics/lib/python3.7/site-packages/zarr/n5.py:711: RuntimeWarning: Not all N5 implementations support blosc compression (yet). You might not be able to open the dataset with another N5 library.\n",
      "  RuntimeWarning\n",
      "/groups/scicompsoft/home/ackermand/miniconda3/envs/annotator-metrics/lib/python3.7/site-packages/zarr/n5.py:711: RuntimeWarning: Not all N5 implementations support blosc compression (yet). You might not be able to open the dataset with another N5 library.\n",
      "  RuntimeWarning\n",
      "/groups/scicompsoft/home/ackermand/miniconda3/envs/annotator-metrics/lib/python3.7/site-packages/zarr/n5.py:711: RuntimeWarning: Not all N5 implementations support blosc compression (yet). You might not be able to open the dataset with another N5 library.\n",
      "  RuntimeWarning\n",
      "/groups/scicompsoft/home/ackermand/miniconda3/envs/annotator-metrics/lib/python3.7/site-packages/zarr/n5.py:711: RuntimeWarning: Not all N5 implementations support blosc compression (yet). You might not be able to open the dataset with another N5 library.\n",
      "  RuntimeWarning\n",
      "/groups/scicompsoft/home/ackermand/miniconda3/envs/annotator-metrics/lib/python3.7/site-packages/zarr/n5.py:711: RuntimeWarning: Not all N5 implementations support blosc compression (yet). You might not be able to open the dataset with another N5 library.\n",
      "  RuntimeWarning\n"
     ]
    },
    {
     "name": "stdout",
     "output_type": "stream",
     "text": [
      "creating variance image for group2\n"
     ]
    },
    {
     "name": "stderr",
     "output_type": "stream",
     "text": [
      "/groups/scicompsoft/home/ackermand/miniconda3/envs/annotator-metrics/lib/python3.7/site-packages/distributed/node.py:161: UserWarning: Port 8787 is already in use.\n",
      "Perhaps you already have a cluster running?\n",
      "Hosting the HTTP server on port 39325 instead\n",
      "  f\"Port {expected} is already in use.\\n\"\n"
     ]
    },
    {
     "name": "stdout",
     "output_type": "stream",
     "text": [
      "http://10.150.100.248:39325/status\n"
     ]
    },
    {
     "name": "stderr",
     "output_type": "stream",
     "text": [
      "/groups/scicompsoft/home/ackermand/miniconda3/envs/annotator-metrics/lib/python3.7/site-packages/zarr/n5.py:711: RuntimeWarning: Not all N5 implementations support blosc compression (yet). You might not be able to open the dataset with another N5 library.\n",
      "  RuntimeWarning\n",
      "/groups/scicompsoft/home/ackermand/miniconda3/envs/annotator-metrics/lib/python3.7/site-packages/zarr/n5.py:711: RuntimeWarning: Not all N5 implementations support blosc compression (yet). You might not be able to open the dataset with another N5 library.\n",
      "  RuntimeWarning\n",
      "/groups/scicompsoft/home/ackermand/miniconda3/envs/annotator-metrics/lib/python3.7/site-packages/zarr/n5.py:711: RuntimeWarning: Not all N5 implementations support blosc compression (yet). You might not be able to open the dataset with another N5 library.\n",
      "  RuntimeWarning\n",
      "/groups/scicompsoft/home/ackermand/miniconda3/envs/annotator-metrics/lib/python3.7/site-packages/zarr/n5.py:711: RuntimeWarning: Not all N5 implementations support blosc compression (yet). You might not be able to open the dataset with another N5 library.\n",
      "  RuntimeWarning\n"
     ]
    },
    {
     "name": "stdout",
     "output_type": "stream",
     "text": [
      "creating variance image for group3\n"
     ]
    },
    {
     "name": "stderr",
     "output_type": "stream",
     "text": [
      "/groups/scicompsoft/home/ackermand/miniconda3/envs/annotator-metrics/lib/python3.7/site-packages/distributed/node.py:161: UserWarning: Port 8787 is already in use.\n",
      "Perhaps you already have a cluster running?\n",
      "Hosting the HTTP server on port 39297 instead\n",
      "  f\"Port {expected} is already in use.\\n\"\n"
     ]
    },
    {
     "name": "stdout",
     "output_type": "stream",
     "text": [
      "http://10.150.100.248:39297/status\n"
     ]
    },
    {
     "name": "stderr",
     "output_type": "stream",
     "text": [
      "/groups/scicompsoft/home/ackermand/miniconda3/envs/annotator-metrics/lib/python3.7/site-packages/zarr/n5.py:711: RuntimeWarning: Not all N5 implementations support blosc compression (yet). You might not be able to open the dataset with another N5 library.\n",
      "  RuntimeWarning\n",
      "/groups/scicompsoft/home/ackermand/miniconda3/envs/annotator-metrics/lib/python3.7/site-packages/zarr/n5.py:711: RuntimeWarning: Not all N5 implementations support blosc compression (yet). You might not be able to open the dataset with another N5 library.\n",
      "  RuntimeWarning\n",
      "/groups/scicompsoft/home/ackermand/miniconda3/envs/annotator-metrics/lib/python3.7/site-packages/zarr/n5.py:711: RuntimeWarning: Not all N5 implementations support blosc compression (yet). You might not be able to open the dataset with another N5 library.\n",
      "  RuntimeWarning\n",
      "/groups/scicompsoft/home/ackermand/miniconda3/envs/annotator-metrics/lib/python3.7/site-packages/zarr/n5.py:711: RuntimeWarning: Not all N5 implementations support blosc compression (yet). You might not be able to open the dataset with another N5 library.\n",
      "  RuntimeWarning\n"
     ]
    }
   ],
   "source": [
    "from annotator_metrics.util.doc_io import MaskInformation\n",
    "from annotator_metrics.src.preprocessing import copy_data\n",
    "from annotator_metrics.src.metrics_evaluations import calculate_all_to_all\n",
    "from annotator_metrics.util.image_io import create_variance_images\n",
    "\n",
    "group_crops = {\"group1\":[\"01\",\"02\",\"03\",\"04\",\"05\",\"06\",\"07\",\"08\",\"09\",\"10\"],\"group2\":[\"02\",\"05\"],\"group3\":[\"01\",\"09\"]}\n",
    "# for group in group_crops.keys():\n",
    "#     print(f\"cropping {group}\")\n",
    "#     copy_data(group = group, output_base_path=\"/groups/cellmap/cellmap/ackermand/annotation_and_analytics/tmp/\")\n",
    "for group,crop in group_crops.items():\n",
    "     print(f\"calculating all-to-all for {group}\")\n",
    "     a,b = calculate_all_to_all(group,\"/groups/cellmap/cellmap/ackermand/annotation_and_analytics/tmp/\",crop=crop, num_workers = 10)\n",
    "for group,crop in group_crops.items():\n",
    "     print(f\"creating variance image for {group}\")\n",
    "     create_variance_images(\"/groups/cellmap/cellmap/ackermand/annotation_and_analytics/tmp\",group, \"/groups/cellmap/cellmap/ackermand/annotation_and_analytics/tmp/n5s\",crop=crop)\n"
   ]
  },
  {
   "cell_type": "code",
   "execution_count": 2,
   "metadata": {},
   "outputs": [
    {
     "name": "stderr",
     "output_type": "stream",
     "text": [
      "/groups/scicompsoft/home/ackermand/miniconda3/envs/annotator-metrics/lib/python3.7/site-packages/distributed/node.py:161: UserWarning: Port 8787 is already in use.\n",
      "Perhaps you already have a cluster running?\n",
      "Hosting the HTTP server on port 39217 instead\n",
      "  f\"Port {expected} is already in use.\\n\"\n"
     ]
    },
    {
     "name": "stdout",
     "output_type": "stream",
     "text": [
      "http://10.150.100.248:39217/status\n"
     ]
    }
   ],
   "source": [
    "from annotator_metrics.src.metrics_evaluations import calculate_all_to_all\n",
    "a,b = calculate_all_to_all(\"group2\",\"/groups/cellmap/cellmap/ackermand/annotation_and_analytics/tmp/\",crop=\"03\", num_workers = 10)\n"
   ]
  },
  {
   "cell_type": "code",
   "execution_count": 4,
   "metadata": {},
   "outputs": [
    {
     "name": "stdout",
     "output_type": "stream",
     "text": [
      "[<annotator_metrics.util.doc_io.Row object at 0x7fe4b7adddd0>, <annotator_metrics.util.doc_io.Row object at 0x7fe4e0d13350>, <annotator_metrics.util.doc_io.Row object at 0x7fe4b81978d0>, <annotator_metrics.util.doc_io.Row object at 0x7fe4b819d090>, <annotator_metrics.util.doc_io.Row object at 0x7fe4b819de10>, <annotator_metrics.util.doc_io.Row object at 0x7fe4b8178510>, <annotator_metrics.util.doc_io.Row object at 0x7fe4b8178a50>, <annotator_metrics.util.doc_io.Row object at 0x7fe4b8178990>, <annotator_metrics.util.doc_io.Row object at 0x7fe4b8178790>, <annotator_metrics.util.doc_io.Row object at 0x7fe4b8178190>]\n"
     ]
    },
    {
     "data": {
      "text/plain": [
       "10"
      ]
     },
     "execution_count": 4,
     "metadata": {},
     "output_type": "execute_result"
    }
   ],
   "source": [
    "from annotator_metrics.util.doc_io import MaskInformation\n",
    "len(MaskInformation(\"group1\").rows)"
   ]
  },
  {
   "cell_type": "code",
   "execution_count": 3,
   "metadata": {},
   "outputs": [
    {
     "name": "stderr",
     "output_type": "stream",
     "text": [
      "/groups/scicompsoft/home/ackermand/miniconda3/envs/annotator-metrics/lib/python3.7/site-packages/distributed/node.py:161: UserWarning: Port 8787 is already in use.\n",
      "Perhaps you already have a cluster running?\n",
      "Hosting the HTTP server on port 33855 instead\n",
      "  f\"Port {expected} is already in use.\\n\"\n"
     ]
    },
    {
     "name": "stdout",
     "output_type": "stream",
     "text": [
      "http://10.150.100.248:33855/status\n"
     ]
    },
    {
     "name": "stderr",
     "output_type": "stream",
     "text": [
      "/groups/scicompsoft/home/ackermand/miniconda3/envs/annotator-metrics/lib/python3.7/site-packages/zarr/n5.py:711: RuntimeWarning: Not all N5 implementations support blosc compression (yet). You might not be able to open the dataset with another N5 library.\n",
      "  RuntimeWarning\n",
      "/groups/scicompsoft/home/ackermand/miniconda3/envs/annotator-metrics/lib/python3.7/site-packages/zarr/n5.py:711: RuntimeWarning: Not all N5 implementations support blosc compression (yet). You might not be able to open the dataset with another N5 library.\n",
      "  RuntimeWarning\n",
      "/groups/scicompsoft/home/ackermand/miniconda3/envs/annotator-metrics/lib/python3.7/site-packages/zarr/n5.py:711: RuntimeWarning: Not all N5 implementations support blosc compression (yet). You might not be able to open the dataset with another N5 library.\n",
      "  RuntimeWarning\n",
      "/groups/scicompsoft/home/ackermand/miniconda3/envs/annotator-metrics/lib/python3.7/site-packages/zarr/n5.py:711: RuntimeWarning: Not all N5 implementations support blosc compression (yet). You might not be able to open the dataset with another N5 library.\n",
      "  RuntimeWarning\n",
      "/groups/scicompsoft/home/ackermand/miniconda3/envs/annotator-metrics/lib/python3.7/site-packages/zarr/n5.py:711: RuntimeWarning: Not all N5 implementations support blosc compression (yet). You might not be able to open the dataset with another N5 library.\n",
      "  RuntimeWarning\n",
      "/groups/scicompsoft/home/ackermand/miniconda3/envs/annotator-metrics/lib/python3.7/site-packages/zarr/n5.py:711: RuntimeWarning: Not all N5 implementations support blosc compression (yet). You might not be able to open the dataset with another N5 library.\n",
      "  RuntimeWarning\n",
      "/groups/scicompsoft/home/ackermand/miniconda3/envs/annotator-metrics/lib/python3.7/site-packages/zarr/n5.py:711: RuntimeWarning: Not all N5 implementations support blosc compression (yet). You might not be able to open the dataset with another N5 library.\n",
      "  RuntimeWarning\n",
      "/groups/scicompsoft/home/ackermand/miniconda3/envs/annotator-metrics/lib/python3.7/site-packages/zarr/n5.py:711: RuntimeWarning: Not all N5 implementations support blosc compression (yet). You might not be able to open the dataset with another N5 library.\n",
      "  RuntimeWarning\n",
      "/groups/scicompsoft/home/ackermand/miniconda3/envs/annotator-metrics/lib/python3.7/site-packages/zarr/n5.py:711: RuntimeWarning: Not all N5 implementations support blosc compression (yet). You might not be able to open the dataset with another N5 library.\n",
      "  RuntimeWarning\n",
      "/groups/scicompsoft/home/ackermand/miniconda3/envs/annotator-metrics/lib/python3.7/site-packages/zarr/n5.py:711: RuntimeWarning: Not all N5 implementations support blosc compression (yet). You might not be able to open the dataset with another N5 library.\n",
      "  RuntimeWarning\n"
     ]
    }
   ],
   "source": [
    "from annotator_metrics.util.image_io import create_variance_images\n",
    "\n",
    "create_variance_images(\"/groups/cellmap/cellmap/ackermand/annotation_and_analytics/tmp\",\"group3\", \"/groups/cellmap/cellmap/ackermand/annotation_and_analytics/tmp/n5s\")"
   ]
  },
  {
   "cell_type": "code",
   "execution_count": 7,
   "metadata": {},
   "outputs": [
    {
     "name": "stdout",
     "output_type": "stream",
     "text": [
      "http://neuroglancer-demo.appspot.com#!%7B%22layers%22:%5B%7B%22type%22:%22image%22,%22source%22:%5B%7B%22url%22:%22n5://http://10.150.100.248:8080/ackermand/annotation_and_analytics/tmp/n5s/group3/09.n5/raw%22%7D%5D,%22name%22:%22raw%22%7D,%7B%22type%22:%22segmentation%22,%22source%22:%5B%7B%22url%22:%22n5://http://10.150.100.248:8080/ackermand/annotation_and_analytics/tmp/n5s/group3/09.n5/gt%22%7D%5D,%22name%22:%22gt%22,%22visible%22:false%7D,%7B%22type%22:%22segmentation%22,%22source%22:%5B%7B%22url%22:%22n5://http://10.150.100.248:8080/ackermand/annotation_and_analytics/tmp/n5s/group3/09.n5/d1%22%7D%5D,%22name%22:%22d1%22,%22visible%22:false%7D,%7B%22type%22:%22segmentation%22,%22source%22:%5B%7B%22url%22:%22n5://http://10.150.100.248:8080/ackermand/annotation_and_analytics/tmp/n5s/group3/09.n5/e1%22%7D%5D,%22name%22:%22e1%22,%22visible%22:false%7D,%7B%22type%22:%22segmentation%22,%22source%22:%5B%7B%22url%22:%22n5://http://10.150.100.248:8080/ackermand/annotation_and_analytics/tmp/n5s/group3/09.n5/predictions%22%7D%5D,%22name%22:%22predictions%22,%22visible%22:false%7D,%7B%22type%22:%22segmentation%22,%22source%22:%5B%7B%22url%22:%22n5://http://10.150.100.248:8080/ackermand/annotation_and_analytics/tmp/n5s/group3/09.n5/refinements%22%7D%5D,%22name%22:%22refinements%22,%22visible%22:false%7D,%7B%22type%22:%22image%22,%22source%22:%5B%7B%22url%22:%22n5://http://10.150.100.248:8080/ackermand/annotation_and_analytics/tmp/n5s/group3/09.n5/endo_variance%22%7D%5D,%22name%22:%22endo_variance%22,%22visible%22:false%7D,%7B%22type%22:%22image%22,%22source%22:%5B%7B%22url%22:%22n5://http://10.150.100.248:8080/ackermand/annotation_and_analytics/tmp/n5s/group3/09.n5/lyso_variance%22%7D%5D,%22name%22:%22lyso_variance%22,%22visible%22:false%7D,%7B%22type%22:%22image%22,%22source%22:%5B%7B%22url%22:%22n5://http://10.150.100.248:8080/ackermand/annotation_and_analytics/tmp/n5s/group3/09.n5/lysosome_lum_variance%22%7D%5D,%22name%22:%22lysosome_lum_variance%22,%22visible%22:false%7D,%7B%22type%22:%22image%22,%22source%22:%5B%7B%22url%22:%22n5://http://10.150.100.248:8080/ackermand/annotation_and_analytics/tmp/n5s/group3/09.n5/lysosome_mem_variance%22%7D%5D,%22name%22:%22lysosome_mem_variance%22,%22visible%22:false%7D,%7B%22type%22:%22image%22,%22source%22:%5B%7B%22url%22:%22n5://http://10.150.100.248:8080/ackermand/annotation_and_analytics/tmp/n5s/group3/09.n5/mvb_lum_variance%22%7D%5D,%22name%22:%22mvb_lum_variance%22,%22visible%22:false%7D,%7B%22type%22:%22image%22,%22source%22:%5B%7B%22url%22:%22n5://http://10.150.100.248:8080/ackermand/annotation_and_analytics/tmp/n5s/group3/09.n5/mvb_mem_variance%22%7D%5D,%22name%22:%22mvb_mem_variance%22,%22visible%22:false%7D,%7B%22type%22:%22image%22,%22source%22:%5B%7B%22url%22:%22n5://http://10.150.100.248:8080/ackermand/annotation_and_analytics/tmp/n5s/group3/09.n5/pm_variance%22%7D%5D,%22name%22:%22pm_variance%22,%22visible%22:false%7D%5D%7D\n"
     ]
    }
   ],
   "source": [
    "from annotator_metrics.util.image_io import get_neuroglancer_view_of_crop\n",
    "get_neuroglancer_view_of_crop(f\"ackermand/annotation_and_analytics/tmp/n5s/group3/09.n5\")"
   ]
  },
  {
   "cell_type": "code",
   "execution_count": 8,
   "metadata": {},
   "outputs": [
    {
     "name": "stdout",
     "output_type": "stream",
     "text": [
      "c1\n"
     ]
    }
   ],
   "source": [
    "trial = \"group_01_1c.tif\"\n",
    "trial = trial.split(\".tif\")[0][-2::][::-1]\n",
    "print(trial)"
   ]
  },
  {
   "cell_type": "code",
   "execution_count": 3,
   "metadata": {},
   "outputs": [
    {
     "name": "stdout",
     "output_type": "stream",
     "text": [
      "0\n"
     ]
    }
   ],
   "source": [
    "import numpy as np\n",
    "np.array([11400,14700, 8550])-np.array([30984, 30912, 15728]) /4 +np.array([30,280,140])\n"
   ]
  },
  {
   "cell_type": "markdown",
   "metadata": {},
   "source": []
  },
  {
   "cell_type": "code",
   "execution_count": null,
   "metadata": {},
   "outputs": [],
   "source": [
    "from annotator_metrics.util.doc_io import MaskInformation\n",
    "mi = MaskInformation()\n",
    "print(mi.rows[0].organelle_info)\n"
   ]
  },
  {
   "cell_type": "code",
   "execution_count": 2,
   "metadata": {},
   "outputs": [
    {
     "data": {
      "text/plain": [
       "{1, 2, 3}"
      ]
     },
     "execution_count": 2,
     "metadata": {},
     "output_type": "execute_result"
    }
   ],
   "source": [
    "import numpy as np\n",
    "set([1,2,3])"
   ]
  },
  {
   "cell_type": "code",
   "execution_count": 2,
   "metadata": {},
   "outputs": [
    {
     "name": "stdout",
     "output_type": "stream",
     "text": [
      "{'mito_mem': 3, 'mito_lumen': 4, 'mito': [3, 4, 5]}\n",
      "{'mito_mem': 3, 'mito_lumen': 4, 'mito': [3, 4, 5]}\n",
      "{'mito_mem': 3, 'mito_lumen': 4, 'mito_dna': 5, 'mito': [3, 4, 5]}\n",
      "{'mito_mem': 3, 'mito_lumen': 4, 'mito_dna': 5, 'mito': [3, 4, 5]}\n",
      "{'mito_mem': 3, 'mito_lumen': 4, 'mito': [3, 4, 5]}\n",
      "{'mito_mem': 3, 'mito_lumen': 4, 'mito': [3, 4, 5]}\n",
      "{'mito_mem': 3, 'mito_lumen': 4, 'mito': [3, 4, 5]}\n",
      "{'mito_mem': 3, 'mito_lumen': 4, 'mito': [3, 4, 5]}\n",
      "{'mito_mem': 3, 'mito_lumen': 4, 'mito': [3, 4, 5]}\n",
      "{'mito_mem': 3, 'mito_lumen': 4, 'mito': [3, 4, 5]}\n",
      "{'mito_mem': 3, 'mito_lumen': 4, 'mito_dna': 5, 'mito': [3, 4, 5]}\n",
      "{'mito_mem': 3, 'mito_lumen': 4, 'mito_dna': 5, 'mito': [3, 4, 5]}\n",
      "{'mito_mem': 3, 'mito_lumen': 4, 'mito': [3, 4, 5]}\n",
      "{'mito_mem': 3, 'mito_lumen': 4, 'mito': [3, 4, 5]}\n",
      "{'mito_mem': 3, 'mito_lumen': 4, 'mito': [3, 4, 5]}\n",
      "{'mito_mem': 3, 'mito_lumen': 4, 'mito': [3, 4, 5]}\n",
      "{'mito_mem': 3, 'mito_lumen': 4, 'mito_dna': 5, 'mito': [3, 4, 5]}\n",
      "{'mito_mem': 3, 'mito_lumen': 4, 'mito_dna': 5, 'mito': [3, 4, 5]}\n",
      "{'mito_mem': 3, 'mito_lumen': 4, 'mito': [3, 4, 5]}\n",
      "{'mito_mem': 3, 'mito_lumen': 4, 'mito': [3, 4, 5]}\n",
      "{'er_mem': 16, 'er_lum': 17, 'eres_mem': 18, 'eres_lum': 19, 'er': [16, 17, 18, 19], 'eres': [18, 19]}\n",
      "{'er_mem': 16, 'er_lum': 17, 'eres_mem': 18, 'eres_lum': 19, 'er': [16, 17, 18, 19], 'eres': [18, 19]}\n",
      "{'er_mem': 16, 'er_lum': 17, 'er': [16, 17, 18, 19]}\n",
      "{'er_mem': 16, 'er_lum': 17, 'er': [16, 17, 18, 19]}\n",
      "{'er_mem': 16, 'er_lum': 17, 'eres_mem': 18, 'eres_lum': 19, 'er': [16, 17, 18, 19], 'eres': [18, 19]}\n",
      "{'er_mem': 16, 'er_lum': 17, 'eres_mem': 18, 'eres_lum': 19, 'er': [16, 17, 18, 19], 'eres': [18, 19]}\n",
      "{'er_mem': 16, 'er_lum': 17, 'eres_mem': 18, 'eres_lum': 19, 'er': [16, 17, 18, 19], 'eres': [18, 19]}\n",
      "{'er_mem': 16, 'er_lum': 17, 'eres_mem': 18, 'eres_lum': 19, 'er': [16, 17, 18, 19], 'eres': [18, 19]}\n",
      "{'golgi_mem': 6, 'golgi_lum': 7, 'golgi': [6, 7]}\n",
      "{'golgi_mem': 6, 'golgi_lum': 7, 'golgi': [6, 7]}\n",
      "{'er_mem': 16, 'er_lum': 17, 'eres_mem': 18, 'eres_lum': 19, 'golgi_mem': 6, 'golgi_lum': 7, 'er': [16, 17, 18, 19], 'eres': [18, 19], 'golgi': [6, 7]}\n",
      "{'er_mem': 16, 'er_lum': 17, 'eres_mem': 18, 'eres_lum': 19, 'golgi_mem': 6, 'golgi_lum': 7, 'er': [16, 17, 18, 19], 'eres': [18, 19], 'golgi': [6, 7]}\n",
      "{'er_mem': 16, 'er_lum': 17, 'golgi_mem': 6, 'golgi_lum': 7, 'er': [16, 17, 18, 19], 'golgi': [6, 7]}\n",
      "{'er_mem': 16, 'er_lum': 17, 'golgi_mem': 6, 'golgi_lum': 7, 'er': [16, 17, 18, 19], 'golgi': [6, 7]}\n",
      "{'er_mem': 16, 'er_lum': 17, 'eres_mem': 18, 'eres_lum': 19, 'golgi_mem': 6, 'golgi_lum': 7, 'er': [16, 17, 18, 19], 'eres': [18, 19], 'golgi': [6, 7]}\n",
      "{'er_mem': 16, 'er_lum': 17, 'eres_mem': 18, 'eres_lum': 19, 'golgi_mem': 6, 'golgi_lum': 7, 'er': [16, 17, 18, 19], 'eres': [18, 19], 'golgi': [6, 7]}\n",
      "{'er_mem': 16, 'er_lum': 17, 'golgi_mem': 6, 'golgi_lum': 7, 'er': [16, 17, 18, 19], 'golgi': [6, 7]}\n",
      "{'er_mem': 16, 'er_lum': 17, 'golgi_mem': 6, 'golgi_lum': 7, 'er': [16, 17, 18, 19], 'golgi': [6, 7]}\n",
      "{'er_mem': 16, 'er_lum': 17, 'golgi_mem': 6, 'golgi_lum': 7, 'er': [16, 17, 18, 19], 'golgi': [6, 7]}\n",
      "{'er_mem': 16, 'er_lum': 17, 'golgi_mem': 6, 'golgi_lum': 7, 'er': [16, 17, 18, 19], 'golgi': [6, 7]}\n",
      "{'golgi_mem': 6, 'golgi_lum': 7, 'golgi': [6, 7]}\n"
     ]
    }
   ],
   "source": [
    "from annotator_metrics.util.doc_io import MaskInformation\n",
    "a=MaskInformation(\"group2\",\"05\")\n",
    "print(a.rows[0].organelle_info)"
   ]
  },
  {
   "cell_type": "code",
   "execution_count": 5,
   "metadata": {},
   "outputs": [
    {
     "name": "stderr",
     "output_type": "stream",
     "text": [
      "/groups/scicompsoft/home/ackermand/miniconda3/envs/annotator-metrics/lib/python3.7/site-packages/distributed/node.py:161: UserWarning: Port 8787 is already in use.\n",
      "Perhaps you already have a cluster running?\n",
      "Hosting the HTTP server on port 37293 instead\n",
      "  f\"Port {expected} is already in use.\\n\"\n"
     ]
    },
    {
     "name": "stdout",
     "output_type": "stream",
     "text": [
      "http://10.150.100.248:37293/status\n"
     ]
    }
   ],
   "source": [
    "from annotator_metrics.src.metrics_evaluations import calculate_all_to_all\n",
    "a,b = calculate_all_to_all(\"group2\",\"/groups/cellmap/cellmap/ackermand/annotation_and_analytics/tmp/\", crop=\"05\",num_workers = 10)"
   ]
  },
  {
   "cell_type": "code",
   "execution_count": null,
   "metadata": {},
   "outputs": [],
   "source": [
    "from annotator_metrics.src.metrics_evaluations import compare_two_images\n",
    "f1_score = compare_two_images(\n",
    "    gt_path = '/groups/cosem/cosem/annotations/amira/jrc_mus-liver/crop171/jrc_mus-liver_crop171_ariadne_manual.tif',\n",
    "    test_path = '/groups/cosem/cosem/annotations/amira/jrc_mus-liver/crop171/jrc_mus-liver_crop171_ariadne_refined.tif',\n",
    "    organelle_label = 2,\n",
    "    resolution = 8,\n",
    "    metrics_to_calculate = \"F1 Score\")\n",
    "print(f1_score)\n",
    "\n",
    "f1_score = compare_two_images(\n",
    "    gt_path = '/groups/cosem/cosem/annotations/amira/jrc_mus-liver/crop172/jrc_mus-liver_crop172_final_manual.tif',\n",
    "    test_path = '/groups/cosem/cosem/annotations/amira/jrc_mus-liver/crop172/jrc_mus-liver_crop172_final_ariadne.tif',\n",
    "    organelle_label = 2,\n",
    "    resolution = 8,\n",
    "    metrics_to_calculate = \"F1 Score\")\n",
    "print(f1_score)\n"
   ]
  },
  {
   "cell_type": "code",
   "execution_count": 1,
   "metadata": {},
   "outputs": [
    {
     "name": "stderr",
     "output_type": "stream",
     "text": [
      "distributed.diskutils - INFO - Found stale lock file and directory '/groups/scicompsoft/home/ackermand/Programming/annotator-metrics/dask-worker-space/worker-yrslkgpm', purging\n",
      "distributed.diskutils - INFO - Found stale lock file and directory '/groups/scicompsoft/home/ackermand/Programming/annotator-metrics/dask-worker-space/worker-yo6_7jt4', purging\n",
      "distributed.diskutils - INFO - Found stale lock file and directory '/groups/scicompsoft/home/ackermand/Programming/annotator-metrics/dask-worker-space/worker-l1y59e12', purging\n",
      "distributed.diskutils - INFO - Found stale lock file and directory '/groups/scicompsoft/home/ackermand/Programming/annotator-metrics/dask-worker-space/worker-yd69ys9g', purging\n",
      "distributed.diskutils - INFO - Found stale lock file and directory '/groups/scicompsoft/home/ackermand/Programming/annotator-metrics/dask-worker-space/worker-tkbhyzu0', purging\n",
      "distributed.diskutils - INFO - Found stale lock file and directory '/groups/scicompsoft/home/ackermand/Programming/annotator-metrics/dask-worker-space/worker-vk36zm9u', purging\n",
      "distributed.diskutils - INFO - Found stale lock file and directory '/groups/scicompsoft/home/ackermand/Programming/annotator-metrics/dask-worker-space/worker-x5jipo5r', purging\n",
      "distributed.diskutils - INFO - Found stale lock file and directory '/groups/scicompsoft/home/ackermand/Programming/annotator-metrics/dask-worker-space/worker-lxj25y61', purging\n",
      "distributed.diskutils - INFO - Found stale lock file and directory '/groups/scicompsoft/home/ackermand/Programming/annotator-metrics/dask-worker-space/worker-uvtz0iwm', purging\n",
      "distributed.diskutils - INFO - Found stale lock file and directory '/groups/scicompsoft/home/ackermand/Programming/annotator-metrics/dask-worker-space/worker-6u99fncm', purging\n",
      "distributed.diskutils - INFO - Found stale lock file and directory '/groups/scicompsoft/home/ackermand/Programming/annotator-metrics/dask-worker-space/worker-sybae8mf', purging\n",
      "distributed.diskutils - INFO - Found stale lock file and directory '/groups/scicompsoft/home/ackermand/Programming/annotator-metrics/dask-worker-space/worker-fg2d8l71', purging\n",
      "distributed.diskutils - INFO - Found stale lock file and directory '/groups/scicompsoft/home/ackermand/Programming/annotator-metrics/dask-worker-space/worker-1c_qi6ry', purging\n",
      "distributed.diskutils - INFO - Found stale lock file and directory '/groups/scicompsoft/home/ackermand/Programming/annotator-metrics/dask-worker-space/worker-te9qbeu1', purging\n",
      "distributed.diskutils - INFO - Found stale lock file and directory '/groups/scicompsoft/home/ackermand/Programming/annotator-metrics/dask-worker-space/worker-wnam78d6', purging\n",
      "distributed.diskutils - INFO - Found stale lock file and directory '/groups/scicompsoft/home/ackermand/Programming/annotator-metrics/dask-worker-space/worker-sjqnhcet', purging\n",
      "distributed.diskutils - INFO - Found stale lock file and directory '/groups/scicompsoft/home/ackermand/Programming/annotator-metrics/dask-worker-space/worker-6nz_hgl6', purging\n",
      "distributed.diskutils - INFO - Found stale lock file and directory '/groups/scicompsoft/home/ackermand/Programming/annotator-metrics/dask-worker-space/worker-rhaf4cur', purging\n",
      "distributed.diskutils - INFO - Found stale lock file and directory '/groups/scicompsoft/home/ackermand/Programming/annotator-metrics/dask-worker-space/worker-mq5heqpl', purging\n",
      "distributed.diskutils - INFO - Found stale lock file and directory '/groups/scicompsoft/home/ackermand/Programming/annotator-metrics/dask-worker-space/worker-8936ebxc', purging\n",
      "distributed.diskutils - INFO - Found stale lock file and directory '/groups/scicompsoft/home/ackermand/Programming/annotator-metrics/dask-worker-space/worker-bq5iuagk', purging\n",
      "distributed.diskutils - INFO - Found stale lock file and directory '/groups/scicompsoft/home/ackermand/Programming/annotator-metrics/dask-worker-space/worker-tbluoa7r', purging\n",
      "distributed.diskutils - INFO - Found stale lock file and directory '/groups/scicompsoft/home/ackermand/Programming/annotator-metrics/dask-worker-space/worker-2j_9zzhg', purging\n",
      "distributed.diskutils - INFO - Found stale lock file and directory '/groups/scicompsoft/home/ackermand/Programming/annotator-metrics/dask-worker-space/worker-uoyt7rpi', purging\n",
      "distributed.diskutils - INFO - Found stale lock file and directory '/groups/scicompsoft/home/ackermand/Programming/annotator-metrics/dask-worker-space/worker-l43110se', purging\n",
      "distributed.diskutils - INFO - Found stale lock file and directory '/groups/scicompsoft/home/ackermand/Programming/annotator-metrics/dask-worker-space/worker-9z7414ug', purging\n",
      "distributed.diskutils - INFO - Found stale lock file and directory '/groups/scicompsoft/home/ackermand/Programming/annotator-metrics/dask-worker-space/worker-rrxeonr9', purging\n",
      "distributed.diskutils - INFO - Found stale lock file and directory '/groups/scicompsoft/home/ackermand/Programming/annotator-metrics/dask-worker-space/worker-pyqwwe91', purging\n",
      "distributed.diskutils - INFO - Found stale lock file and directory '/groups/scicompsoft/home/ackermand/Programming/annotator-metrics/dask-worker-space/worker-azz5ex_3', purging\n",
      "distributed.diskutils - INFO - Found stale lock file and directory '/groups/scicompsoft/home/ackermand/Programming/annotator-metrics/dask-worker-space/worker-8xd70tyr', purging\n",
      "distributed.diskutils - INFO - Found stale lock file and directory '/groups/scicompsoft/home/ackermand/Programming/annotator-metrics/dask-worker-space/worker-7kilgcej', purging\n",
      "distributed.diskutils - INFO - Found stale lock file and directory '/groups/scicompsoft/home/ackermand/Programming/annotator-metrics/dask-worker-space/worker-5pjsi8i4', purging\n",
      "distributed.diskutils - INFO - Found stale lock file and directory '/groups/scicompsoft/home/ackermand/Programming/annotator-metrics/dask-worker-space/worker-lm87jfu9', purging\n",
      "distributed.diskutils - INFO - Found stale lock file and directory '/groups/scicompsoft/home/ackermand/Programming/annotator-metrics/dask-worker-space/worker-3yw6f9g1', purging\n",
      "distributed.diskutils - INFO - Found stale lock file and directory '/groups/scicompsoft/home/ackermand/Programming/annotator-metrics/dask-worker-space/worker-3pbvbimn', purging\n",
      "distributed.diskutils - INFO - Found stale lock file and directory '/groups/scicompsoft/home/ackermand/Programming/annotator-metrics/dask-worker-space/worker-ur91msnb', purging\n",
      "distributed.diskutils - INFO - Found stale lock file and directory '/groups/scicompsoft/home/ackermand/Programming/annotator-metrics/dask-worker-space/worker-khkvn5vy', purging\n",
      "distributed.diskutils - INFO - Found stale lock file and directory '/groups/scicompsoft/home/ackermand/Programming/annotator-metrics/dask-worker-space/worker-k22k4i77', purging\n",
      "distributed.diskutils - INFO - Found stale lock file and directory '/groups/scicompsoft/home/ackermand/Programming/annotator-metrics/dask-worker-space/worker-p07b0xiy', purging\n",
      "distributed.diskutils - INFO - Found stale lock file and directory '/groups/scicompsoft/home/ackermand/Programming/annotator-metrics/dask-worker-space/worker-j263jfzn', purging\n"
     ]
    },
    {
     "name": "stdout",
     "output_type": "stream",
     "text": [
      "http://10.150.100.248:8787/status\n"
     ]
    },
    {
     "name": "stderr",
     "output_type": "stream",
     "text": [
      "/groups/scicompsoft/home/ackermand/miniconda3/envs/annotator-metrics/lib/python3.7/site-packages/zarr/n5.py:711: RuntimeWarning: Not all N5 implementations support blosc compression (yet). You might not be able to open the dataset with another N5 library.\n",
      "  RuntimeWarning\n",
      "/groups/scicompsoft/home/ackermand/miniconda3/envs/annotator-metrics/lib/python3.7/site-packages/zarr/n5.py:711: RuntimeWarning: Not all N5 implementations support blosc compression (yet). You might not be able to open the dataset with another N5 library.\n",
      "  RuntimeWarning\n",
      "/groups/scicompsoft/home/ackermand/miniconda3/envs/annotator-metrics/lib/python3.7/site-packages/zarr/n5.py:711: RuntimeWarning: Not all N5 implementations support blosc compression (yet). You might not be able to open the dataset with another N5 library.\n",
      "  RuntimeWarning\n",
      "/groups/scicompsoft/home/ackermand/miniconda3/envs/annotator-metrics/lib/python3.7/site-packages/zarr/n5.py:711: RuntimeWarning: Not all N5 implementations support blosc compression (yet). You might not be able to open the dataset with another N5 library.\n",
      "  RuntimeWarning\n",
      "/groups/scicompsoft/home/ackermand/miniconda3/envs/annotator-metrics/lib/python3.7/site-packages/zarr/n5.py:711: RuntimeWarning: Not all N5 implementations support blosc compression (yet). You might not be able to open the dataset with another N5 library.\n",
      "  RuntimeWarning\n",
      "/groups/scicompsoft/home/ackermand/miniconda3/envs/annotator-metrics/lib/python3.7/site-packages/zarr/n5.py:711: RuntimeWarning: Not all N5 implementations support blosc compression (yet). You might not be able to open the dataset with another N5 library.\n",
      "  RuntimeWarning\n",
      "/groups/scicompsoft/home/ackermand/miniconda3/envs/annotator-metrics/lib/python3.7/site-packages/zarr/n5.py:711: RuntimeWarning: Not all N5 implementations support blosc compression (yet). You might not be able to open the dataset with another N5 library.\n",
      "  RuntimeWarning\n",
      "/groups/scicompsoft/home/ackermand/miniconda3/envs/annotator-metrics/lib/python3.7/site-packages/zarr/n5.py:711: RuntimeWarning: Not all N5 implementations support blosc compression (yet). You might not be able to open the dataset with another N5 library.\n",
      "  RuntimeWarning\n",
      "/groups/scicompsoft/home/ackermand/miniconda3/envs/annotator-metrics/lib/python3.7/site-packages/zarr/n5.py:711: RuntimeWarning: Not all N5 implementations support blosc compression (yet). You might not be able to open the dataset with another N5 library.\n",
      "  RuntimeWarning\n",
      "/groups/scicompsoft/home/ackermand/miniconda3/envs/annotator-metrics/lib/python3.7/site-packages/zarr/n5.py:711: RuntimeWarning: Not all N5 implementations support blosc compression (yet). You might not be able to open the dataset with another N5 library.\n",
      "  RuntimeWarning\n"
     ]
    }
   ],
   "source": [
    "from annotator_metrics.util.image_io import create_variance_images\n",
    "\n",
    "create_variance_images(\"/groups/cellmap/cellmap/ackermand/annotation_and_analytics/tmp\",\"group2\", \"/groups/cellmap/cellmap/ackermand/annotation_and_analytics/tmp/n5s\")"
   ]
  },
  {
   "cell_type": "code",
   "execution_count": 20,
   "metadata": {},
   "outputs": [
    {
     "ename": "FileNotFoundError",
     "evalue": "[Errno 2] Unable to open file (unable to open file: name = '/groups/cosem/cosem/annotations/amira//jrc_mus-liver/crop137/jrc_mus_liver_crop137_mito003.h5', errno = 2, error message = 'No such file or directory', flags = 0, o_flags = 0)",
     "output_type": "error",
     "traceback": [
      "\u001b[0;31m---------------------------------------------------------------------------\u001b[0m",
      "\u001b[0;31mFileNotFoundError\u001b[0m                         Traceback (most recent call last)",
      "\u001b[0;32m/tmp/ipykernel_31601/1584943200.py\u001b[0m in \u001b[0;36m<module>\u001b[0;34m\u001b[0m\n\u001b[1;32m      1\u001b[0m \u001b[0;32mimport\u001b[0m \u001b[0mh5py\u001b[0m\u001b[0;34m\u001b[0m\u001b[0;34m\u001b[0m\u001b[0m\n\u001b[0;32m----> 2\u001b[0;31m \u001b[0;32mwith\u001b[0m \u001b[0mh5py\u001b[0m\u001b[0;34m.\u001b[0m\u001b[0mFile\u001b[0m\u001b[0;34m(\u001b[0m\u001b[0;34m\"/groups/cosem/cosem/annotations/amira//jrc_mus-liver/crop137/jrc_mus_liver_crop137_mito003.h5\"\u001b[0m\u001b[0;34m)\u001b[0m \u001b[0;32mas\u001b[0m \u001b[0mf\u001b[0m\u001b[0;34m:\u001b[0m\u001b[0;34m\u001b[0m\u001b[0;34m\u001b[0m\u001b[0m\n\u001b[0m\u001b[1;32m      3\u001b[0m     \u001b[0mprint\u001b[0m\u001b[0;34m(\u001b[0m\u001b[0mf\u001b[0m\u001b[0;34m[\u001b[0m\u001b[0;34m\"volumes\"\u001b[0m\u001b[0;34m]\u001b[0m\u001b[0;34m[\u001b[0m\u001b[0;34m\"raw\"\u001b[0m\u001b[0;34m]\u001b[0m\u001b[0;34m.\u001b[0m\u001b[0mattrs\u001b[0m\u001b[0;34m[\u001b[0m\u001b[0;34m\"resolution\"\u001b[0m\u001b[0;34m]\u001b[0m\u001b[0;34m)\u001b[0m\u001b[0;34m\u001b[0m\u001b[0;34m\u001b[0m\u001b[0m\n\u001b[1;32m      4\u001b[0m     \u001b[0mprint\u001b[0m\u001b[0;34m(\u001b[0m\u001b[0mf\u001b[0m\u001b[0;34m[\u001b[0m\u001b[0;34m\"volumes\"\u001b[0m\u001b[0;34m]\u001b[0m\u001b[0;34m[\u001b[0m\u001b[0;34m\"labels\"\u001b[0m\u001b[0;34m]\u001b[0m\u001b[0;34m[\u001b[0m\u001b[0;34m\"gt\"\u001b[0m\u001b[0;34m]\u001b[0m\u001b[0;34m.\u001b[0m\u001b[0mattrs\u001b[0m\u001b[0;34m[\u001b[0m\u001b[0;34m\"resolution\"\u001b[0m\u001b[0;34m]\u001b[0m\u001b[0;34m)\u001b[0m\u001b[0;34m\u001b[0m\u001b[0;34m\u001b[0m\u001b[0m\n\u001b[1;32m      5\u001b[0m \u001b[0;34m\u001b[0m\u001b[0m\n",
      "\u001b[0;32m~/miniconda3/envs/annotator-metrics/lib/python3.7/site-packages/h5py/_hl/files.py\u001b[0m in \u001b[0;36m__init__\u001b[0;34m(self, name, mode, driver, libver, userblock_size, swmr, rdcc_nslots, rdcc_nbytes, rdcc_w0, track_order, fs_strategy, fs_persist, fs_threshold, fs_page_size, page_buf_size, min_meta_keep, min_raw_keep, locking, **kwds)\u001b[0m\n\u001b[1;32m    505\u001b[0m                                  \u001b[0mfs_persist\u001b[0m\u001b[0;34m=\u001b[0m\u001b[0mfs_persist\u001b[0m\u001b[0;34m,\u001b[0m \u001b[0mfs_threshold\u001b[0m\u001b[0;34m=\u001b[0m\u001b[0mfs_threshold\u001b[0m\u001b[0;34m,\u001b[0m\u001b[0;34m\u001b[0m\u001b[0;34m\u001b[0m\u001b[0m\n\u001b[1;32m    506\u001b[0m                                  fs_page_size=fs_page_size)\n\u001b[0;32m--> 507\u001b[0;31m                 \u001b[0mfid\u001b[0m \u001b[0;34m=\u001b[0m \u001b[0mmake_fid\u001b[0m\u001b[0;34m(\u001b[0m\u001b[0mname\u001b[0m\u001b[0;34m,\u001b[0m \u001b[0mmode\u001b[0m\u001b[0;34m,\u001b[0m \u001b[0muserblock_size\u001b[0m\u001b[0;34m,\u001b[0m \u001b[0mfapl\u001b[0m\u001b[0;34m,\u001b[0m \u001b[0mfcpl\u001b[0m\u001b[0;34m,\u001b[0m \u001b[0mswmr\u001b[0m\u001b[0;34m=\u001b[0m\u001b[0mswmr\u001b[0m\u001b[0;34m)\u001b[0m\u001b[0;34m\u001b[0m\u001b[0;34m\u001b[0m\u001b[0m\n\u001b[0m\u001b[1;32m    508\u001b[0m \u001b[0;34m\u001b[0m\u001b[0m\n\u001b[1;32m    509\u001b[0m             \u001b[0;32mif\u001b[0m \u001b[0misinstance\u001b[0m\u001b[0;34m(\u001b[0m\u001b[0mlibver\u001b[0m\u001b[0;34m,\u001b[0m \u001b[0mtuple\u001b[0m\u001b[0;34m)\u001b[0m\u001b[0;34m:\u001b[0m\u001b[0;34m\u001b[0m\u001b[0;34m\u001b[0m\u001b[0m\n",
      "\u001b[0;32m~/miniconda3/envs/annotator-metrics/lib/python3.7/site-packages/h5py/_hl/files.py\u001b[0m in \u001b[0;36mmake_fid\u001b[0;34m(name, mode, userblock_size, fapl, fcpl, swmr)\u001b[0m\n\u001b[1;32m    218\u001b[0m         \u001b[0;32mif\u001b[0m \u001b[0mswmr\u001b[0m \u001b[0;32mand\u001b[0m \u001b[0mswmr_support\u001b[0m\u001b[0;34m:\u001b[0m\u001b[0;34m\u001b[0m\u001b[0;34m\u001b[0m\u001b[0m\n\u001b[1;32m    219\u001b[0m             \u001b[0mflags\u001b[0m \u001b[0;34m|=\u001b[0m \u001b[0mh5f\u001b[0m\u001b[0;34m.\u001b[0m\u001b[0mACC_SWMR_READ\u001b[0m\u001b[0;34m\u001b[0m\u001b[0;34m\u001b[0m\u001b[0m\n\u001b[0;32m--> 220\u001b[0;31m         \u001b[0mfid\u001b[0m \u001b[0;34m=\u001b[0m \u001b[0mh5f\u001b[0m\u001b[0;34m.\u001b[0m\u001b[0mopen\u001b[0m\u001b[0;34m(\u001b[0m\u001b[0mname\u001b[0m\u001b[0;34m,\u001b[0m \u001b[0mflags\u001b[0m\u001b[0;34m,\u001b[0m \u001b[0mfapl\u001b[0m\u001b[0;34m=\u001b[0m\u001b[0mfapl\u001b[0m\u001b[0;34m)\u001b[0m\u001b[0;34m\u001b[0m\u001b[0;34m\u001b[0m\u001b[0m\n\u001b[0m\u001b[1;32m    221\u001b[0m     \u001b[0;32melif\u001b[0m \u001b[0mmode\u001b[0m \u001b[0;34m==\u001b[0m \u001b[0;34m'r+'\u001b[0m\u001b[0;34m:\u001b[0m\u001b[0;34m\u001b[0m\u001b[0;34m\u001b[0m\u001b[0m\n\u001b[1;32m    222\u001b[0m         \u001b[0mfid\u001b[0m \u001b[0;34m=\u001b[0m \u001b[0mh5f\u001b[0m\u001b[0;34m.\u001b[0m\u001b[0mopen\u001b[0m\u001b[0;34m(\u001b[0m\u001b[0mname\u001b[0m\u001b[0;34m,\u001b[0m \u001b[0mh5f\u001b[0m\u001b[0;34m.\u001b[0m\u001b[0mACC_RDWR\u001b[0m\u001b[0;34m,\u001b[0m \u001b[0mfapl\u001b[0m\u001b[0;34m=\u001b[0m\u001b[0mfapl\u001b[0m\u001b[0;34m)\u001b[0m\u001b[0;34m\u001b[0m\u001b[0;34m\u001b[0m\u001b[0m\n",
      "\u001b[0;32mh5py/_objects.pyx\u001b[0m in \u001b[0;36mh5py._objects.with_phil.wrapper\u001b[0;34m()\u001b[0m\n",
      "\u001b[0;32mh5py/_objects.pyx\u001b[0m in \u001b[0;36mh5py._objects.with_phil.wrapper\u001b[0;34m()\u001b[0m\n",
      "\u001b[0;32mh5py/h5f.pyx\u001b[0m in \u001b[0;36mh5py.h5f.open\u001b[0;34m()\u001b[0m\n",
      "\u001b[0;31mFileNotFoundError\u001b[0m: [Errno 2] Unable to open file (unable to open file: name = '/groups/cosem/cosem/annotations/amira//jrc_mus-liver/crop137/jrc_mus_liver_crop137_mito003.h5', errno = 2, error message = 'No such file or directory', flags = 0, o_flags = 0)"
     ]
    }
   ],
   "source": [
    "import h5py\n",
    "with h5py.File(\"/groups/cosem/cosem/annotations/amira//jrc_mus-liver/crop137/jrc_mus_liver_crop137_mito003.h5\") as f:\n",
    "    print(f[\"volumes\"][\"raw\"].attrs[\"resolution\"])\n",
    "    print(f[\"volumes\"][\"labels\"][\"gt\"].attrs[\"resolution\"])\n",
    "\n"
   ]
  },
  {
   "cell_type": "code",
   "execution_count": 9,
   "metadata": {},
   "outputs": [
    {
     "data": {
      "text/plain": [
       "array([2.33333333, 3.33333333, 4.33333333])"
      ]
     },
     "execution_count": 9,
     "metadata": {},
     "output_type": "execute_result"
    }
   ],
   "source": [
    "import numpy as np\n",
    "np.nanmean([[0,1,2],[2,3,4],[5,6,7]],axis=0)"
   ]
  },
  {
   "cell_type": "code",
   "execution_count": 13,
   "metadata": {},
   "outputs": [
    {
     "ename": "SyntaxError",
     "evalue": "keyword argument repeated (403307536.py, line 6)",
     "output_type": "error",
     "traceback": [
      "\u001b[0;36m  File \u001b[0;32m\"/tmp/ipykernel_32679/403307536.py\"\u001b[0;36m, line \u001b[0;32m6\u001b[0m\n\u001b[0;31m    source='n5://http://10.150.100.248:8080/annotation_and_analytics/tmp/n5s/group1/03.n5/b1')\u001b[0m\n\u001b[0m    ^\u001b[0m\n\u001b[0;31mSyntaxError\u001b[0m\u001b[0;31m:\u001b[0m keyword argument repeated\n"
     ]
    }
   ],
   "source": [
    "import neuroglancer\n",
    "viewer = neuroglancer.Viewer()\n",
    "with viewer.txn() as s:\n",
    "  s.layers['image'] = neuroglancer.ImageLayer(source='n5://http://10.150.100.248:8080/annotation_and_analytics/tmp/n5s/group1/03.n5/raw')\n",
    "  s.layers['segmentation'] = neuroglancer.SegmentationLayer(source='n5://http://10.150.100.248:8080/annotation_and_analytics/tmp/n5s/group1/03.n5/a1',\n",
    "  source='n5://http://10.150.100.248:8080/annotation_and_analytics/tmp/n5s/group1/03.n5/b1')\n",
    "print(neuroglancer.to_url(viewer.state).replace(\"https://\",\"http://\"))\n",
    "neuroglancer.stop()"
   ]
  },
  {
   "cell_type": "code",
   "execution_count": 1,
   "metadata": {},
   "outputs": [
    {
     "name": "stdout",
     "output_type": "stream",
     "text": [
      "http://neuroglancer-demo.appspot.com#!%7B%22layers%22:%5B%7B%22type%22:%22image%22,%22source%22:%5B%7B%22url%22:%22n5://http://10.150.100.248:8080/ackermand/annotation_and_analytics/tmp/n5s/group2/02.n5/raw%22%7D%5D,%22name%22:%22raw%22%7D,%7B%22type%22:%22segmentation%22,%22source%22:%5B%7B%22url%22:%22n5://http://10.150.100.248:8080/ackermand/annotation_and_analytics/tmp/n5s/group2/02.n5/gt%22%7D%5D,%22name%22:%22gt%22,%22visible%22:false%7D,%7B%22type%22:%22segmentation%22,%22source%22:%5B%7B%22url%22:%22n5://http://10.150.100.248:8080/ackermand/annotation_and_analytics/tmp/n5s/group2/02.n5/a1%22%7D%5D,%22name%22:%22a1%22,%22visible%22:false%7D,%7B%22type%22:%22segmentation%22,%22source%22:%5B%7B%22url%22:%22n5://http://10.150.100.248:8080/ackermand/annotation_and_analytics/tmp/n5s/group2/02.n5/b1%22%7D%5D,%22name%22:%22b1%22,%22visible%22:false%7D,%7B%22type%22:%22segmentation%22,%22source%22:%5B%7B%22url%22:%22n5://http://10.150.100.248:8080/ackermand/annotation_and_analytics/tmp/n5s/group2/02.n5/c1%22%7D%5D,%22name%22:%22c1%22,%22visible%22:false%7D,%7B%22type%22:%22segmentation%22,%22source%22:%5B%7B%22url%22:%22n5://http://10.150.100.248:8080/ackermand/annotation_and_analytics/tmp/n5s/group2/02.n5/f1%22%7D%5D,%22name%22:%22f1%22,%22visible%22:false%7D,%7B%22type%22:%22segmentation%22,%22source%22:%5B%7B%22url%22:%22n5://http://10.150.100.248:8080/ackermand/annotation_and_analytics/tmp/n5s/group2/02.n5/predictions%22%7D%5D,%22name%22:%22predictions%22,%22visible%22:false%7D,%7B%22type%22:%22segmentation%22,%22source%22:%5B%7B%22url%22:%22n5://http://10.150.100.248:8080/ackermand/annotation_and_analytics/tmp/n5s/group2/02.n5/refinements%22%7D%5D,%22name%22:%22refinements%22,%22visible%22:false%7D,%7B%22type%22:%22image%22,%22source%22:%5B%7B%22url%22:%22n5://http://10.150.100.248:8080/ackermand/annotation_and_analytics/tmp/n5s/group2/02.n5/er_lum_variance%22%7D%5D,%22name%22:%22er_lum_variance%22,%22visible%22:false%7D,%7B%22type%22:%22image%22,%22source%22:%5B%7B%22url%22:%22n5://http://10.150.100.248:8080/ackermand/annotation_and_analytics/tmp/n5s/group2/02.n5/er_mem_variance%22%7D%5D,%22name%22:%22er_mem_variance%22,%22visible%22:false%7D,%7B%22type%22:%22image%22,%22source%22:%5B%7B%22url%22:%22n5://http://10.150.100.248:8080/ackermand/annotation_and_analytics/tmp/n5s/group2/02.n5/er_variance%22%7D%5D,%22name%22:%22er_variance%22,%22visible%22:false%7D%5D%7D\n"
     ]
    }
   ],
   "source": []
  },
  {
   "cell_type": "code",
   "execution_count": 31,
   "metadata": {},
   "outputs": [
    {
     "name": "stdout",
     "output_type": "stream",
     "text": [
      "['a1', 'a2', 'b1', 'b2', 'c1', 'mito_lumen_variance', 'mito_mem_variance', 'mito_variance']\n",
      "None\n",
      "['a1', 'a2', 'b1', 'b2', 'c1', 'mito_lumen_variance', 'mito_mem_variance', 'mito_variance']\n"
     ]
    }
   ],
   "source": [
    "print(dirs)\n",
    "print(dirs.sort(key=str))\n",
    "print(dirs)"
   ]
  },
  {
   "cell_type": "code",
   "execution_count": 21,
   "metadata": {},
   "outputs": [
    {
     "name": "stdout",
     "output_type": "stream",
     "text": [
      "[4. 4. 4.] [0. 0. 0.] [2. 2. 2.] [1023. 1023. 1023.]\n"
     ]
    }
   ],
   "source": [
    "import h5py\n",
    "with h5py.File(\"/groups/cellmap/cellmap/annotations/amira/jrc_mus-liver/crop133/jrc_mus-liver_crop133_pm003.h5\") as f:\n",
    "    print(f[\"volumes\"][\"raw\"].attrs[\"resolution\"],\n",
    "    f[\"volumes\"][\"raw\"].attrs[\"offset\"],\n",
    "    f[\"volumes\"][\"labels\"][\"gt\"].attrs[\"resolution\"],\n",
    "    f[\"volumes\"][\"labels\"][\"gt\"].attrs[\"offset\"],)\n"
   ]
  },
  {
   "cell_type": "code",
   "execution_count": 31,
   "metadata": {},
   "outputs": [
    {
     "name": "stdout",
     "output_type": "stream",
     "text": [
      "/groups/cellmap/cellmap/ackermand/forDavis/renumbered/jrc_mus-liver/jrc_mus-liver.n5/er_seg\n"
     ]
    }
   ],
   "source": [
    "import os\n",
    "def update_path(path):\n",
    "    path = path.replace(\"nrs/cosem/\",\"nrs/cellmap/\")\n",
    "    path = path.replace(\"groups/cosem/cosem/\",\"groups/cellmap/cellmap/\")\n",
    "    return path\n",
    "\n",
    "def follow_symlinks(path : str):\n",
    "    path = update_path(path)\n",
    "    if os.path.islink(path):\n",
    "        symlink_path = os.readlink(path)\n",
    "        if symlink_path[0] != \"/\": #then it is a relative path\n",
    "            symlink_path = path.rsplit(\"/\",1)[0] +\"/\"+ symlink_path\n",
    "        path = follow_symlinks(symlink_path)\n",
    "    return path\n",
    "print(follow_symlinks(\"/groups/cellmap/cellmap/ackermand/forDavis/renumbered/jrc_mus-liver/jrc_mus-liver.n5/er_seg\"))"
   ]
  },
  {
   "cell_type": "code",
   "execution_count": 32,
   "metadata": {},
   "outputs": [
    {
     "name": "stdout",
     "output_type": "stream",
     "text": [
      "[[<EvaluationMetrics.false_positive_rate: 'false_positive_rate'>, 0.9742139192211551]]\n"
     ]
    }
   ],
   "source": [
    "from annotator_metrics.src.metrics_evaluations import compare_two_images\n",
    "f1_score = compare_two_images(\n",
    "    gt_path = '/groups/cellmap/cellmap/ackermand/annotation_and_analytics/tmp/group1/10/a1.tif',\n",
    "    test_path = '/groups/cellmap/cellmap/ackermand/annotation_and_analytics/tmp/group1/10/c1.tif',\n",
    "    organelle_label = [3,4,5],\n",
    "    resolution = 8,\n",
    "    metrics_to_calculate = \"False Positive Rate\")\n",
    "print(f1_score)"
   ]
  },
  {
   "cell_type": "code",
   "execution_count": 43,
   "metadata": {},
   "outputs": [
    {
     "name": "stdout",
     "output_type": "stream",
     "text": [
      "0.9742139192211551\n",
      "0.007\n"
     ]
    }
   ],
   "source": [
    "import tifffile\n",
    "import numpy as np\n",
    "a1 = tifffile.imread('/groups/cellmap/cellmap/ackermand/annotation_and_analytics/tmp/group1/10/a1.tif')\n",
    "c1 = tifffile.imread('/groups/cellmap/cellmap/ackermand/annotation_and_analytics/tmp/group1/10/c1.tif')\n",
    "a1 = (a1>=3) & (a1<=5)\n",
    "c1 = (c1>=3) & (c1<=5)\n",
    "a1=a1.astype(np.uint8)\n",
    "c1=c1.astype(np.uint8)\n",
    "print(np.sum((c1-a1)==1)/np.sum(1-a1))\n",
    "#print(np.sum(np.logical_xor(c1,a1)))\n",
    "\n",
    "print(7000/1E6)"
   ]
  },
  {
   "cell_type": "code",
   "execution_count": 1,
   "metadata": {},
   "outputs": [
    {
     "name": "stdout",
     "output_type": "stream",
     "text": [
      "<class 'zarr.core.Array'>\n",
      "(19, 1, 6)\n",
      "<class 'numpy.ndarray'>\n",
      "http://10.150.100.248:39871/v/f479314a6fdbe7c15a6742e7e6f619d57927aa32/\n"
     ]
    },
    {
     "data": {
      "text/plain": [
       "'http://127.0.0.1:39871/v/f479314a6fdbe7c15a6742e7e6f619d57927aa32/'"
      ]
     },
     "execution_count": 1,
     "metadata": {},
     "output_type": "execute_result"
    }
   ],
   "source": [
    "import zarr\n",
    "import neuroglancer\n",
    "import socket\n",
    "import numpy as np\n",
    "\n",
    "local_ip = socket.gethostbyname(socket.gethostname())\n",
    "\n",
    "viewer = neuroglancer.Viewer()\n",
    "n5 = zarr.open(f\"/groups/cellmap/cellmap/ackermand/annotation_and_analytics/tmp/n5s/group1/08.n5\", mode=\"r\")\n",
    "print(type(n5[\"gt\"]))\n",
    "raw = n5[\"gt\"][1:20,3:4,5:11]\n",
    "print(raw.shape)\n",
    "print(type(raw))\n",
    "#raw = np.zeros((200,200,200),dtype=np.uint8)\n",
    "#raw[50:150,50:150,50:150]=1\n",
    "\n",
    "v = neuroglancer.LocalVolume(raw)\n",
    "with viewer.txn() as s:\n",
    "    s.layers['segmentation'] = neuroglancer.SegmentationLayer(source=v)\n",
    "print(viewer.get_viewer_url().replace(\"127.0.0.1\", local_ip))\n",
    "viewer.get_viewer_url()"
   ]
  },
  {
   "cell_type": "code",
   "execution_count": 18,
   "metadata": {},
   "outputs": [
    {
     "name": "stdout",
     "output_type": "stream",
     "text": [
      "-rwxrwxr-x 1 rymert cosem 1115846 Dec 14 19:13 /groups/cellmap/cellmap/annotation_and_analytics/training//rymert/group1-labels/group1_02_1e/group1_02_1e.tif\n",
      "0\n",
      "-rwxrwxr-x 1 rymert cosem 1058542 Dec 15 12:39 /groups/cellmap/cellmap/annotation_and_analytics/training//rymert/group1-labels/group1_10_1e/group1_10_1e.tif\n",
      "0\n",
      "-rwxrwxr-x 1 rymert cosem 1138858 Dec 14 19:10 /groups/cellmap/cellmap/annotation_and_analytics/training//rymert/group1-labels/group1_01_1e/group1_01_1e.tif\n",
      "0\n",
      "-rwxrwxr-x 1 ludwigh cosem 1866324 Dec 14 16:03 /groups/cellmap/cellmap/annotation_and_analytics/training//ludwigh/group1-labels/group1_05_1c/group1_05_1c.tif\n",
      "0\n",
      "-rwxrwxr-x 1 ludwigh cosem 1443524 Dec 14 16:25 /groups/cellmap/cellmap/annotation_and_analytics/training//ludwigh/group1-labels/group1_07_1c/group1_07_1c.tif\n",
      "0\n",
      "-rwxrwxr-x 1 ludwigh cosem 1675412 Dec 14 16:00 /groups/cellmap/cellmap/annotation_and_analytics/training//ludwigh/group1-labels/group1_04_1c/group1_04_1c.tif\n",
      "0\n",
      "-rwxrwxr-x 1 ludwigh cosem 1283218 Dec 14 16:29 /groups/cellmap/cellmap/annotation_and_analytics/training//ludwigh/group1-labels/group1_10_1c/group1_10_1c.tif\n",
      "0\n",
      "-rwxrwxr-x 1 ludwigh cosem 1188330 Dec 14 11:53 /groups/cellmap/cellmap/annotation_and_analytics/training//ludwigh/group1-labels/group1_03_1c/group1_03_1c.tif\n",
      "0\n",
      "-rwxrwxr-x 1 ludwigh cosem 1131226 Dec 14 11:36 /groups/cellmap/cellmap/annotation_and_analytics/training//ludwigh/group1-labels/group1_01_1c/group1_01_1c.tif\n",
      "0\n",
      "-rwxrwxr-x 1 ludwigh cosem 1266728 Dec 14 16:23 /groups/cellmap/cellmap/annotation_and_analytics/training//ludwigh/group1-labels/group1_08_1c/group1_08_1c.tif\n",
      "0\n",
      "-rwxrwxr-x 1 ludwigh cosem 1115292 Dec 14 11:49 /groups/cellmap/cellmap/annotation_and_analytics/training//ludwigh/group1-labels/group1_02_1c/group1_02_1c.tif\n",
      "0\n",
      "-rwxrwxr-x 1 ludwigh cosem 2148104 Dec 14 16:07 /groups/cellmap/cellmap/annotation_and_analytics/training//ludwigh/group1-labels/group1_06_1c/group1_06_1c.tif\n",
      "0\n",
      "-rwxrwxr-x 1 ludwigh cosem 1267854 Dec 14 16:22 /groups/cellmap/cellmap/annotation_and_analytics/training//ludwigh/group1-labels/group1_09_1c/group1_09_1c.tif\n",
      "0\n",
      "-rwxrwxr-x 1 forknalln cosem 1139690 Dec 14 19:08 /groups/cellmap/cellmap/annotation_and_analytics/training//forknalln/group1-labels/group1_01_1d/group1_01_1d.tif\n",
      "0\n",
      "-rwxrwxr-x 1 forknalln cosem 1056330 Dec 15 12:46 /groups/cellmap/cellmap/annotation_and_analytics/training//forknalln/group1-labels/group1_08_1d/group1_08_1d.tif\n",
      "0\n",
      "-rwxrwxr-x 1 forknalln cosem 1120622 Dec 14 19:12 /groups/cellmap/cellmap/annotation_and_analytics/training//forknalln/group1-labels/group1_02_1d/group1_02_1d.tif\n",
      "0\n"
     ]
    }
   ],
   "source": [
    "input_base_path = \"/groups/cellmap/cellmap/annotation_and_analytics/training/\"\n",
    "group = \"group1\"\n",
    "for annotator_name in os.listdir(input_base_path):\n",
    "    annotator_dir = f\"{input_base_path}/{annotator_name}\"\n",
    "    if os.path.isdir(annotator_dir) and annotator_name not in [\n",
    "        \"conversion_scripts\",\n",
    "        \"textfile_templates\",\n",
    "    ]:\n",
    "        group_dir = f\"{annotator_dir}/{group}-labels\"\n",
    "        for trial in os.listdir(group_dir):\n",
    "            trial_dir = f\"{group_dir}/{trial}\"\n",
    "            if os.path.isdir(trial_dir):\n",
    "                print(os.system(f\"ls -l {trial_dir}/{trial}.tif\"))"
   ]
  },
  {
   "cell_type": "code",
   "execution_count": 13,
   "metadata": {},
   "outputs": [
    {
     "name": "stdout",
     "output_type": "stream",
     "text": [
      "rymert\n",
      "vorimor\n",
      "textfile_templates\n",
      "ludwigh\n",
      "conversion_scripts\n",
      "forknalln\n"
     ]
    }
   ],
   "source": [
    "for i in next(os.walk(input_base_path))[1]:\n",
    "    print(i)"
   ]
  },
  {
   "cell_type": "code",
   "execution_count": 19,
   "metadata": {},
   "outputs": [
    {
     "data": {
      "text/plain": [
       "(1, 1)"
      ]
     },
     "execution_count": 19,
     "metadata": {},
     "output_type": "execute_result"
    }
   ],
   "source": [
    "import numpy as np\n",
    "tuple(np.array([1,1]))"
   ]
  },
  {
   "cell_type": "code",
   "execution_count": 4,
   "metadata": {},
   "outputs": [
    {
     "name": "stdout",
     "output_type": "stream",
     "text": [
      "{'offset': [30984, 30912, 15728], 'pixelResolution': {'dimensions': [4.0, 4.0, 4.0], 'unit': 'nm'}}\n"
     ]
    },
    {
     "ename": "PathNotFoundError",
     "evalue": "nothing found at path ''",
     "output_type": "error",
     "traceback": [
      "\u001b[0;31m---------------------------------------------------------------------------\u001b[0m",
      "\u001b[0;31mPathNotFoundError\u001b[0m                         Traceback (most recent call last)",
      "\u001b[0;32m/tmp/ipykernel_21476/2288321037.py\u001b[0m in \u001b[0;36m<module>\u001b[0;34m\u001b[0m\n\u001b[1;32m      4\u001b[0m \u001b[0;31m#.attrs.asdict()['transform']['scale'])\u001b[0m\u001b[0;34m\u001b[0m\u001b[0;34m\u001b[0m\u001b[0;34m\u001b[0m\u001b[0m\n\u001b[1;32m      5\u001b[0m \u001b[0;34m\u001b[0m\u001b[0m\n\u001b[0;32m----> 6\u001b[0;31m \u001b[0mf\u001b[0m \u001b[0;34m=\u001b[0m \u001b[0mzarr\u001b[0m\u001b[0;34m.\u001b[0m\u001b[0mopen\u001b[0m\u001b[0;34m(\u001b[0m\u001b[0;34m\"/nrs/cosem/pattonw/training/finetuning/jrc_mus-liver/liver_latest_setup04_many_masked_6-1_100000.n5\"\u001b[0m\u001b[0;34m,\u001b[0m\u001b[0;34m\"r\"\u001b[0m\u001b[0;34m)\u001b[0m\u001b[0;34m\u001b[0m\u001b[0;34m\u001b[0m\u001b[0m\n\u001b[0m\u001b[1;32m      7\u001b[0m \u001b[0mf\u001b[0m\u001b[0;34m[\u001b[0m\u001b[0;34m\"mito\"\u001b[0m\u001b[0;34m]\u001b[0m\u001b[0;34m[\u001b[0m\u001b[0;34m\"s0\"\u001b[0m\u001b[0;34m]\u001b[0m\u001b[0;34m\u001b[0m\u001b[0;34m\u001b[0m\u001b[0m\n",
      "\u001b[0;32m~/miniconda3/envs/annotator-metrics/lib/python3.7/site-packages/zarr/convenience.py\u001b[0m in \u001b[0;36mopen\u001b[0;34m(store, mode, **kwargs)\u001b[0m\n\u001b[1;32m    104\u001b[0m             \u001b[0;32mreturn\u001b[0m \u001b[0mopen_group\u001b[0m\u001b[0;34m(\u001b[0m\u001b[0m_store\u001b[0m\u001b[0;34m,\u001b[0m \u001b[0mmode\u001b[0m\u001b[0;34m=\u001b[0m\u001b[0mmode\u001b[0m\u001b[0;34m,\u001b[0m \u001b[0;34m**\u001b[0m\u001b[0mkwargs\u001b[0m\u001b[0;34m)\u001b[0m\u001b[0;34m\u001b[0m\u001b[0;34m\u001b[0m\u001b[0m\n\u001b[1;32m    105\u001b[0m         \u001b[0;32melse\u001b[0m\u001b[0;34m:\u001b[0m\u001b[0;34m\u001b[0m\u001b[0;34m\u001b[0m\u001b[0m\n\u001b[0;32m--> 106\u001b[0;31m             \u001b[0;32mraise\u001b[0m \u001b[0mPathNotFoundError\u001b[0m\u001b[0;34m(\u001b[0m\u001b[0mpath\u001b[0m\u001b[0;34m)\u001b[0m\u001b[0;34m\u001b[0m\u001b[0;34m\u001b[0m\u001b[0m\n\u001b[0m\u001b[1;32m    107\u001b[0m \u001b[0;34m\u001b[0m\u001b[0m\n\u001b[1;32m    108\u001b[0m \u001b[0;34m\u001b[0m\u001b[0m\n",
      "\u001b[0;31mPathNotFoundError\u001b[0m: nothing found at path ''"
     ]
    }
   ],
   "source": [
    "import zarr\n",
    "f = zarr.open(\"/groups/cellmap/cellmap/ackermand/cosem/jrc_mus-liver.n5\",\"r\")\n",
    "print(f[\"mito\"].attrs.asdict())\n",
    "#.attrs.asdict()['transform']['scale'])\n",
    "\n",
    "f = zarr.open(\"/nrs/cosem/pattonw/training/finetuning/jrc_mus-liver/liver_latest_setup04_many_masked_6-1_100000.n5\",\"r\")\n",
    "f[\"mito\"][\"s0\"]"
   ]
  },
  {
   "cell_type": "code",
   "execution_count": 4,
   "metadata": {},
   "outputs": [
    {
     "name": "stdout",
     "output_type": "stream",
     "text": [
      "[0. 0. 0.]\n"
     ]
    }
   ],
   "source": [
    "import numpy as np\n",
    "print(np.zeros((3,)))"
   ]
  },
  {
   "cell_type": "code",
   "execution_count": 2,
   "metadata": {},
   "outputs": [
    {
     "data": {
      "text/plain": [
       "<matplotlib.image.AxesImage at 0x7f2167fdc990>"
      ]
     },
     "execution_count": 2,
     "metadata": {},
     "output_type": "execute_result"
    },
    {
     "data": {
      "image/png": "[encoded data removed]",
      "text/plain": [
       "<Figure size 432x288 with 1 Axes>"
      ]
     },
     "metadata": {
      "needs_background": "light"
     },
     "output_type": "display_data"
    }
   ],
   "source": [
    "import tifffile\n",
    "from matplotlib import pyplot as plt\n",
    "from annotator_metrics.util.image_io import Cropper\n",
    "im = tifffile.imread(\"/groups/cellmap/cellmap/annotation_and_analytics/training/rymert/group1-labels/group1_01_1e/group1_01_1e.tif\")\n",
    "cropper = Cropper([50,120,1],[235,306,123])\n",
    "im = cropper.crop(im)\n",
    "plt.imshow(im[0,:,:])\n"
   ]
  },
  {
   "cell_type": "code",
   "execution_count": 2,
   "metadata": {},
   "outputs": [
    {
     "data": {
      "text/plain": [
       "['annotator_metrics/src/preprocessing.py',\n",
       " 'annotator_metrics/src/metrics_evaluations.py',\n",
       " 'annotator_metrics/src/__init__.py']"
      ]
     },
     "execution_count": 2,
     "metadata": {},
     "output_type": "execute_result"
    }
   ],
   "source": [
    "import glob\n",
    "glob.glob(f\"annotator_metrics/src/*.py\")"
   ]
  },
  {
   "cell_type": "code",
   "execution_count": 12,
   "metadata": {},
   "outputs": [],
   "source": [
    "import os\n",
    "import glob\n",
    "def update_path(path):\n",
    "    path = os.path.abspath(path)\n",
    "    path = path.replace(\"nrs/cosem/\", \"nrs/cellmap/\")\n",
    "    path = path.replace(\"groups/cosem/cosem/\", \"groups/cellmap/cellmap/\")\n",
    "    return path\n",
    "\n",
    "\n",
    "def update_symlink(path: str):\n",
    "    path = update_path(path)\n",
    "    if os.path.islink(path):\n",
    "        symlink_path = os.readlink(path)\n",
    "        if symlink_path[0] != \"/\":  # then it is a relative path\n",
    "            symlink_path = path.rsplit(\"/\", 1)[0] + \"/\" + symlink_path\n",
    "        print(f\"unlink {path}\")\n",
    "        print(f\"ln -s {update_path(symlink_path)} {path}\")\n",
    "        os.system(f\"unlink {path}\")\n",
    "        os.system(f\"ln -s {update_path(symlink_path)} {path}\")\n",
    "        path = update_symlink(symlink_path)\n",
    "    return path\n",
    "\n",
    "def update_symlinks(path_glob: str):\n",
    "    for cell_dir in glob.glob(path_glob):\n",
    "        cell_name = cell_dir.split(\"/\")[-1]\n",
    "        for dataset in glob.glob(f\"{cell_dir}/{cell_name}.n5/*\"):\n",
    "            if os.path.islink(dataset):\n",
    "                update_symlink(dataset)\n",
    "        if os.path.islink(f\"{cell_dir}/mesh\"):\n",
    "            update_symlink(f\"{cell_dir}/mesh\")\n",
    "        for dataset in glob.glob(f\"{cell_dir}/mesh/*\"):\n",
    "            if os.path.islink(dataset):\n",
    "                update_symlink(dataset)\n",
    "\n",
    "#update_symlinks(\"/groups/cellmap/cellmap/ackermand/forDavis/renumbered/jrc_*\")\n"
   ]
  },
  {
   "cell_type": "code",
   "execution_count": 13,
   "metadata": {},
   "outputs": [
    {
     "name": "stdout",
     "output_type": "stream",
     "text": [
      "unlink /groups/scicompsoft/home/ackermand/Programming/annotator-metrics/tmp\n",
      "ln -s /groups/cellmap/cellmap/ackermand /groups/scicompsoft/home/ackermand/Programming/annotator-metrics/tmp\n"
     ]
    },
    {
     "data": {
      "text/plain": [
       "'/groups/cellmap/cellmap/ackermand'"
      ]
     },
     "execution_count": 13,
     "metadata": {},
     "output_type": "execute_result"
    }
   ],
   "source": [
    "update_symlink(\"tmp\")"
   ]
  },
  {
   "cell_type": "code",
   "execution_count": null,
   "metadata": {},
   "outputs": [],
   "source": []
  }
 ],
 "metadata": {
  "kernelspec": {
   "display_name": "Python 3.7.11 64-bit ('annotator-metrics': conda)",
   "metadata": {
    "interpreter": {
     "hash": "6f3b6f92d1c1c780f8a6592ff0a1dd888c1df1667ddeb0bc2165ec1b206773a1"
    }
   },
   "name": "python3"
  },
  "language_info": {
   "codemirror_mode": {
    "name": "ipython",
    "version": 3
   },
   "file_extension": ".py",
   "mimetype": "text/x-python",
   "name": "python",
   "nbconvert_exporter": "python",
   "pygments_lexer": "ipython3",
   "version": "3.7.11"
  },
  "orig_nbformat": 2
 },
 "nbformat": 4,
 "nbformat_minor": 2
}
