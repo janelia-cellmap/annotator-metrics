{
 "cells": [
  {
   "cell_type": "code",
   "execution_count": 2,
   "metadata": {},
   "outputs": [
    {
     "name": "stdout",
     "output_type": "stream",
     "text": [
      "[5651, 230, 3450]\n",
      "[5901, 650, 6670]\n",
      "[7426, 245, 3840]\n",
      "[4000, 200, 7800]\n",
      "[4333, 224, 7068]\n",
      "[0, 2000, 1600]\n",
      "[4761, 4952, 6493]\n",
      "[7000, 4151, 9017]\n",
      "[4275, 7350, 5700]\n",
      "[4443, 5716, 3322]\n"
     ]
    }
   ],
   "source": [
    "from annotator_metrics.util.doc_io import MaskInformation\n",
    "mi = MaskInformation()\n",
    "for row in mi.rows:\n",
    "    print(row.original_coordinates)"
   ]
  },
  {
   "cell_type": "code",
   "execution_count": null,
   "metadata": {},
   "outputs": [],
   "source": [
    "from annotator_metrics.util.doc_io import MaskInformation\n",
    "from annotator_metrics.src.preprocessing import copy_data\n",
    "mi = MaskInformation()\n",
    "print(mi.rows)\n",
    "copy_data(group = \"group1\", output_base_path=\"/groups/cosem/cosem/ackermand/annotation_and_analytics/tmp/\")"
   ]
  },
  {
   "cell_type": "code",
   "execution_count": 2,
   "metadata": {},
   "outputs": [
    {
     "name": "stdout",
     "output_type": "stream",
     "text": [
      "{'mito_mem ': 3, 'mito_lumen ': 4, 'mito': 0}\n"
     ]
    }
   ],
   "source": [
    "from annotator_metrics.util.doc_io import MaskInformation\n",
    "mi = MaskInformation()\n",
    "print(mi.rows[0].organelle_info)\n"
   ]
  },
  {
   "cell_type": "code",
   "execution_count": 3,
   "metadata": {},
   "outputs": [],
   "source": [
    "import numpy as np\n",
    "a=np.random.random((4,4,4))"
   ]
  },
  {
   "cell_type": "code",
   "execution_count": 7,
   "metadata": {},
   "outputs": [
    {
     "name": "stdout",
     "output_type": "stream",
     "text": [
      "[[[0.29667459 0.14585225]\n",
      "  [0.93038333 0.71463271]]\n",
      "\n",
      " [[0.04604659 0.92718152]\n",
      "  [0.80627626 0.55996372]]]\n"
     ]
    }
   ],
   "source": [
    "print(a[1:3,1:3,1:3])"
   ]
  },
  {
   "cell_type": "code",
   "execution_count": 1,
   "metadata": {},
   "outputs": [
    {
     "name": "stderr",
     "output_type": "stream",
     "text": [
      "distributed.diskutils - INFO - Found stale lock file and directory '/groups/scicompsoft/home/ackermand/Programming/annotator-metrics/dask-worker-space/worker-gozckwce', purging\n",
      "distributed.diskutils - INFO - Found stale lock file and directory '/groups/scicompsoft/home/ackermand/Programming/annotator-metrics/dask-worker-space/worker-58i1rjw6', purging\n",
      "distributed.diskutils - INFO - Found stale lock file and directory '/groups/scicompsoft/home/ackermand/Programming/annotator-metrics/dask-worker-space/worker-b_t5j5o0', purging\n",
      "distributed.diskutils - INFO - Found stale lock file and directory '/groups/scicompsoft/home/ackermand/Programming/annotator-metrics/dask-worker-space/worker-_owq_y2z', purging\n",
      "distributed.diskutils - INFO - Found stale lock file and directory '/groups/scicompsoft/home/ackermand/Programming/annotator-metrics/dask-worker-space/worker-wl91re67', purging\n",
      "distributed.diskutils - INFO - Found stale lock file and directory '/groups/scicompsoft/home/ackermand/Programming/annotator-metrics/dask-worker-space/worker-z1hce3ao', purging\n",
      "distributed.diskutils - INFO - Found stale lock file and directory '/groups/scicompsoft/home/ackermand/Programming/annotator-metrics/dask-worker-space/worker-jrpkq4w4', purging\n",
      "distributed.diskutils - INFO - Found stale lock file and directory '/groups/scicompsoft/home/ackermand/Programming/annotator-metrics/dask-worker-space/worker-zpmfj2hu', purging\n",
      "distributed.diskutils - INFO - Found stale lock file and directory '/groups/scicompsoft/home/ackermand/Programming/annotator-metrics/dask-worker-space/worker-a_w1sq2j', purging\n",
      "distributed.diskutils - INFO - Found stale lock file and directory '/groups/scicompsoft/home/ackermand/Programming/annotator-metrics/dask-worker-space/worker-4o2h0dz3', purging\n"
     ]
    },
    {
     "name": "stdout",
     "output_type": "stream",
     "text": [
      "http://127.0.0.1:8787/status\n",
      "([['mito_mem ', 'F1 Score', 0, 1, 0.8911146164767753], ['mito_mem ', 'Jaccard Index', 0, 1, 0.8036129159223528], ['mito_mem ', 'Hausdorff Distance', 0, 1, 43.86342439892262], ['mito_mem ', 'False Negative Rate', 0, 1, 0.12671622807046493], ['mito_mem ', 'False Negative Rate with Tolerance Distance', 0, 1, 0.0], ['mito_mem ', 'False Positive Rate', 0, 1, 0.04895570140406419], ['mito_mem ', 'False Discovery Rate', 0, 1, 0.0903112157443002], ['mito_mem ', 'False Positive Rate with Tolerance Distance', 0, 1, 1.6772288601142677e-05], ['mito_mem ', 'Variation Of Information', 0, 1, 0.7687484070183797], ['mito_mem ', 'Mean False Distance', 0, 1, 0.5416146748376212], ['mito_mem ', 'Mean False Negative Distance', 0, 1, 0.540721377626499], ['mito_mem ', 'Mean False Positive Distance', 0, 1, 0.5425079720487435], ['mito_mem ', None, 0, 1, 0.5416146748376212], ['mito_mem ', 'Mean False Negative Distance (Clipped)', 0, 1, 0.540721377626499], ['mito_mem ', 'Mean False Positive Distance (Clipped)', 0, 1, 0.5425079720487435], ['mito_mem ', 'Precision with Tolerance Distance', 0, 1, 0.9999726671570381], ['mito_mem ', 'Recall with Tolerance Distance', 0, 1, 1.0], ['mito_mem ', 'F1 Score with Tolerance Distance', 0, 1, 0.9999863333917455], ['mito_mem ', 'Precision', 0, 1, 0.9096887842556998], ['mito_mem ', 'Recall', 0, 1, 0.8732837719295351], ['mito_mem ', 'F1 Score', 0, 1, 0.8911146164767754], ['mito_mem ', 'F1 Score', 1, 0, 0.8911146164767753], ['mito_mem ', 'Jaccard Index', 1, 0, 0.8036129159223528], ['mito_mem ', 'Hausdorff Distance', 1, 0, 43.86342439892262], ['mito_mem ', 'False Negative Rate', 1, 0, 0.0903112157443002], ['mito_mem ', 'False Negative Rate with Tolerance Distance', 1, 0, 3.094074297662324e-05], ['mito_mem ', 'False Positive Rate', 1, 0, 0.06997233953449211], ['mito_mem ', 'False Discovery Rate', 1, 0, 0.12671622807046493], ['mito_mem ', 'False Positive Rate with Tolerance Distance', 1, 0, 0.0], ['mito_mem ', 'Variation Of Information', 1, 0, 0.7687484070183797], ['mito_mem ', 'Mean False Distance', 1, 0, 0.5416146748376212], ['mito_mem ', 'Mean False Negative Distance', 1, 0, 0.5425079720487435], ['mito_mem ', 'Mean False Positive Distance', 1, 0, 0.540721377626499], ['mito_mem ', None, 1, 0, 0.5416146748376212], ['mito_mem ', 'Mean False Negative Distance (Clipped)', 1, 0, 0.5425079720487435], ['mito_mem ', 'Mean False Positive Distance (Clipped)', 1, 0, 0.540721377626499], ['mito_mem ', 'Precision with Tolerance Distance', 1, 0, 1.0], ['mito_mem ', 'Recall with Tolerance Distance', 1, 0, 0.9999726671570381], ['mito_mem ', 'F1 Score with Tolerance Distance', 1, 0, 0.9999863333917455], ['mito_mem ', 'Precision', 1, 0, 0.8732837719295351], ['mito_mem ', 'Recall', 1, 0, 0.9096887842556998], ['mito_mem ', 'F1 Score', 1, 0, 0.8911146164767754]], [['mito_mem ', 'F1 Score', 0, 2, 0.7761474982396932], ['mito_mem ', 'Jaccard Index', 0, 2, 0.6341838555898975], ['mito_mem ', 'Hausdorff Distance', 0, 2, 50.15974481593781], ['mito_mem ', 'False Negative Rate', 0, 2, 0.31280713230096174], ['mito_mem ', 'False Negative Rate with Tolerance Distance', 0, 2, 0.0012435454775274039], ['mito_mem ', 'False Positive Rate', 0, 2, 0.04719908371123784], ['mito_mem ', 'False Discovery Rate', 0, 2, 0.10844377382791492], ['mito_mem ', 'False Positive Rate with Tolerance Distance', 0, 2, 2.4972074139479096e-05], ['mito_mem ', 'Variation Of Information', 0, 2, 1.088188237969549], ['mito_mem ', 'Mean False Distance', 0, 2, 1.600428424184378], ['mito_mem ', 'Mean False Negative Distance', 0, 2, 2.315679315736586], ['mito_mem ', 'Mean False Positive Distance', 0, 2, 0.8851775326321699], ['mito_mem ', None, 0, 2, 1.600428424184378], ['mito_mem ', 'Mean False Negative Distance (Clipped)', 0, 2, 2.315679315736586], ['mito_mem ', 'Mean False Positive Distance (Clipped)', 0, 2, 0.8851775326321699], ['mito_mem ', 'Precision with Tolerance Distance', 0, 2, 0.999959140710854], ['mito_mem ', 'Recall with Tolerance Distance', 0, 2, 0.9988523328892519], ['mito_mem ', 'F1 Score with Tolerance Distance', 0, 2, 0.9994054303620596], ['mito_mem ', 'Precision', 0, 2, 0.8915562261720851], ['mito_mem ', 'Recall', 0, 2, 0.6871928676990382], ['mito_mem ', 'F1 Score', 0, 2, 0.7761474982396932], ['mito_mem ', 'F1 Score', 2, 0, 0.7761474982396932], ['mito_mem ', 'Jaccard Index', 2, 0, 0.6341838555898975], ['mito_mem ', 'Hausdorff Distance', 2, 0, 50.15974481593781], ['mito_mem ', 'False Negative Rate', 2, 0, 0.10844377382791492], ['mito_mem ', 'False Negative Rate with Tolerance Distance', 2, 0, 5.7375392636082445e-05], ['mito_mem ', 'False Positive Rate', 2, 0, 0.15639190145307086], ['mito_mem ', 'False Discovery Rate', 2, 0, 0.31280713230096174], ['mito_mem ', 'False Positive Rate with Tolerance Distance', 2, 0, 0.0006217263664779928], ['mito_mem ', 'Variation Of Information', 2, 0, 1.088188237969549], ['mito_mem ', 'Mean False Distance', 2, 0, 1.600428424184378], ['mito_mem ', 'Mean False Negative Distance', 2, 0, 0.8851775326321699], ['mito_mem ', 'Mean False Positive Distance', 2, 0, 2.315679315736586], ['mito_mem ', None, 2, 0, 1.600428424184378], ['mito_mem ', 'Mean False Negative Distance (Clipped)', 2, 0, 0.8851775326321699], ['mito_mem ', 'Mean False Positive Distance (Clipped)', 2, 0, 2.315679315736586], ['mito_mem ', 'Precision with Tolerance Distance', 2, 0, 0.9988523328892519], ['mito_mem ', 'Recall with Tolerance Distance', 2, 0, 0.999959140710854], ['mito_mem ', 'F1 Score with Tolerance Distance', 2, 0, 0.9994054303620596], ['mito_mem ', 'Precision', 2, 0, 0.6871928676990382], ['mito_mem ', 'Recall', 2, 0, 0.8915562261720851], ['mito_mem ', 'F1 Score', 2, 0, 0.7761474982396932]], [['mito_mem ', 'F1 Score', 0, 3, 0.8985655446669507], ['mito_mem ', 'Jaccard Index', 0, 3, 0.815813905508562], ['mito_mem ', 'Hausdorff Distance', 0, 3, 37.78888725538237], ['mito_mem ', 'False Negative Rate', 0, 3, 0.10215092444141112], ['mito_mem ', 'False Negative Rate with Tolerance Distance', 0, 3, 0.0], ['mito_mem ', 'False Positive Rate', 0, 3, 0.05678165126535736], ['mito_mem ', 'False Discovery Rate', 0, 3, 0.10071684184986583], ['mito_mem ', 'False Positive Rate with Tolerance Distance', 0, 3, 0.0], ['mito_mem ', 'Variation Of Information', 0, 3, 0.7459261664638916], ['mito_mem ', 'Mean False Distance', 0, 3, 0.47541152213363236], ['mito_mem ', 'Mean False Negative Distance', 0, 3, 0.44658241724125597], ['mito_mem ', 'Mean False Positive Distance', 0, 3, 0.5042406270260087], ['mito_mem ', None, 0, 3, 0.47541152213363236], ['mito_mem ', 'Mean False Negative Distance (Clipped)', 0, 3, 0.44658241724125597], ['mito_mem ', 'Mean False Positive Distance (Clipped)', 0, 3, 0.5042406270260087], ['mito_mem ', 'Precision with Tolerance Distance', 0, 3, 1.0], ['mito_mem ', 'Recall with Tolerance Distance', 0, 3, 1.0], ['mito_mem ', 'F1 Score with Tolerance Distance', 0, 3, 1.0], ['mito_mem ', 'Precision', 0, 3, 0.8992831581501342], ['mito_mem ', 'Recall', 0, 3, 0.8978490755585888], ['mito_mem ', 'F1 Score', 0, 3, 0.8985655446669507], ['mito_mem ', 'F1 Score', 3, 0, 0.8985655446669507], ['mito_mem ', 'Jaccard Index', 3, 0, 0.815813905508562], ['mito_mem ', 'Hausdorff Distance', 3, 0, 37.78888725538237], ['mito_mem ', 'False Negative Rate', 3, 0, 0.10071684184986583], ['mito_mem ', 'False Negative Rate with Tolerance Distance', 3, 0, 0.0], ['mito_mem ', 'False Positive Rate', 3, 0, 0.05763024160529498], ['mito_mem ', 'False Discovery Rate', 3, 0, 0.10215092444141112], ['mito_mem ', 'False Positive Rate with Tolerance Distance', 3, 0, 0.0], ['mito_mem ', 'Variation Of Information', 3, 0, 0.7459261664638916], ['mito_mem ', 'Mean False Distance', 3, 0, 0.47541152213363236], ['mito_mem ', 'Mean False Negative Distance', 3, 0, 0.5042406270260087], ['mito_mem ', 'Mean False Positive Distance', 3, 0, 0.44658241724125597], ['mito_mem ', None, 3, 0, 0.47541152213363236], ['mito_mem ', 'Mean False Negative Distance (Clipped)', 3, 0, 0.5042406270260087], ['mito_mem ', 'Mean False Positive Distance (Clipped)', 3, 0, 0.44658241724125597], ['mito_mem ', 'Precision with Tolerance Distance', 3, 0, 1.0], ['mito_mem ', 'Recall with Tolerance Distance', 3, 0, 1.0], ['mito_mem ', 'F1 Score with Tolerance Distance', 3, 0, 1.0], ['mito_mem ', 'Precision', 3, 0, 0.8978490755585888], ['mito_mem ', 'Recall', 3, 0, 0.8992831581501342], ['mito_mem ', 'F1 Score', 3, 0, 0.8985655446669507]], [['mito_mem ', 'F1 Score', 0, 4, 0.8610855611499221], ['mito_mem ', 'Jaccard Index', 0, 4, 0.7560581653695867], ['mito_mem ', 'Hausdorff Distance', 0, 4, 43.86342439892262], ['mito_mem ', 'False Negative Rate', 0, 4, 0.19948079996145274], ['mito_mem ', 'False Negative Rate with Tolerance Distance', 0, 4, 0.00010560895775179651], ['mito_mem ', 'False Positive Rate', 0, 4, 0.03320652240759121], ['mito_mem ', 'False Discovery Rate', 0, 4, 0.06843316450290268], ['mito_mem ', 'False Positive Rate with Tolerance Distance', 0, 4, 1.6772288601142677e-05], ['mito_mem ', 'Variation Of Information', 0, 4, 0.8391429761367114], ['mito_mem ', 'Mean False Distance', 0, 4, 0.8399712164033009], ['mito_mem ', 'Mean False Negative Distance', 0, 4, 1.299493309122361], ['mito_mem ', 'Mean False Positive Distance', 0, 4, 0.38044912368424066], ['mito_mem ', None, 0, 4, 0.8399712164033009], ['mito_mem ', 'Mean False Negative Distance (Clipped)', 0, 4, 1.299493309122361], ['mito_mem ', 'Mean False Positive Distance (Clipped)', 0, 4, 0.38044912368424066], ['mito_mem ', 'Precision with Tolerance Distance', 0, 4, 0.9999719443675512], ['mito_mem ', 'Recall with Tolerance Distance', 0, 4, 0.9999002537917586], ['mito_mem ', 'F1 Score with Tolerance Distance', 0, 4, 0.9999360977946882], ['mito_mem ', 'Precision', 0, 4, 0.9315668354970973], ['mito_mem ', 'Recall', 0, 4, 0.8005192000385473], ['mito_mem ', 'F1 Score', 0, 4, 0.8610855611499223], ['mito_mem ', 'F1 Score', 4, 0, 0.8610855611499221], ['mito_mem ', 'Jaccard Index', 4, 0, 0.7560581653695867], ['mito_mem ', 'Hausdorff Distance', 4, 0, 43.86342439892262], ['mito_mem ', 'False Negative Rate', 4, 0, 0.06843316450290268], ['mito_mem ', 'False Negative Rate with Tolerance Distance', 4, 0, 3.456491983242927e-05], ['mito_mem ', 'False Positive Rate', 4, 0, 0.10435264812739242], ['mito_mem ', 'False Discovery Rate', 4, 0, 0.19948079996145274], ['mito_mem ', 'False Positive Rate with Tolerance Distance', 4, 0, 5.524629142004377e-05], ['mito_mem ', 'Variation Of Information', 4, 0, 0.8391429761367114], ['mito_mem ', 'Mean False Distance', 4, 0, 0.8399712164033009], ['mito_mem ', 'Mean False Negative Distance', 4, 0, 0.38044912368424066], ['mito_mem ', 'Mean False Positive Distance', 4, 0, 1.299493309122361], ['mito_mem ', None, 4, 0, 0.8399712164033009], ['mito_mem ', 'Mean False Negative Distance (Clipped)', 4, 0, 0.38044912368424066], ['mito_mem ', 'Mean False Positive Distance (Clipped)', 4, 0, 1.299493309122361], ['mito_mem ', 'Precision with Tolerance Distance', 4, 0, 0.9999002537917586], ['mito_mem ', 'Recall with Tolerance Distance', 4, 0, 0.9999719443675512], ['mito_mem ', 'F1 Score with Tolerance Distance', 4, 0, 0.9999360977946882], ['mito_mem ', 'Precision', 4, 0, 0.8005192000385473], ['mito_mem ', 'Recall', 4, 0, 0.9315668354970973], ['mito_mem ', 'F1 Score', 4, 0, 0.8610855611499223]], [['mito_mem ', 'F1 Score', 0, 5, 0.8601734514038734], ['mito_mem ', 'Jaccard Index', 0, 5, 0.7546529359781192], ['mito_mem ', 'Hausdorff Distance', 0, 5, 44.94441010848846], ['mito_mem ', 'False Negative Rate', 0, 5, 0.14549878120662194], ['mito_mem ', 'False Negative Rate with Tolerance Distance', 0, 5, 0.0], ['mito_mem ', 'False Positive Rate', 0, 5, 0.07471234593255228], ['mito_mem ', 'False Discovery Rate', 0, 5, 0.13407850749343497], ['mito_mem ', 'False Positive Rate with Tolerance Distance', 0, 5, 2.758109681076796e-05], ['mito_mem ', 'Variation Of Information', 0, 5, 0.925852967776015], ['mito_mem ', 'Mean False Distance', 0, 5, 0.7368230868209833], ['mito_mem ', 'Mean False Negative Distance', 0, 5, 0.708119089177924], ['mito_mem ', 'Mean False Positive Distance', 0, 5, 0.7655270844640427], ['mito_mem ', None, 0, 5, 0.7368230868209833], ['mito_mem ', 'Mean False Negative Distance (Clipped)', 0, 5, 0.708119089177924], ['mito_mem ', 'Mean False Positive Distance (Clipped)', 0, 5, 0.7655270844640427], ['mito_mem ', 'Precision with Tolerance Distance', 0, 5, 0.9999568632845928], ['mito_mem ', 'Recall with Tolerance Distance', 0, 5, 1.0], ['mito_mem ', 'F1 Score with Tolerance Distance', 0, 5, 0.9999784311770923], ['mito_mem ', 'Precision', 0, 5, 0.865921492506565], ['mito_mem ', 'Recall', 0, 5, 0.854501218793378], ['mito_mem ', 'F1 Score', 0, 5, 0.8601734514038734], ['mito_mem ', 'F1 Score', 5, 0, 0.8601734514038734], ['mito_mem ', 'Jaccard Index', 5, 0, 0.7546529359781192], ['mito_mem ', 'Hausdorff Distance', 5, 0, 44.94441010848846], ['mito_mem ', 'False Negative Rate', 5, 0, 0.13407850749343497], ['mito_mem ', 'False Negative Rate with Tolerance Distance', 5, 0, 4.949693720979076e-05], ['mito_mem ', 'False Positive Rate', 5, 0, 0.0815522730854635], ['mito_mem ', 'False Discovery Rate', 5, 0, 0.14549878120662194], ['mito_mem ', 'False Positive Rate with Tolerance Distance', 5, 0, 0.0], ['mito_mem ', 'Variation Of Information', 5, 0, 0.925852967776015], ['mito_mem ', 'Mean False Distance', 5, 0, 0.7368230868209833], ['mito_mem ', 'Mean False Negative Distance', 5, 0, 0.7655270844640427], ['mito_mem ', 'Mean False Positive Distance', 5, 0, 0.708119089177924], ['mito_mem ', None, 5, 0, 0.7368230868209833], ['mito_mem ', 'Mean False Negative Distance (Clipped)', 5, 0, 0.7655270844640427], ['mito_mem ', 'Mean False Positive Distance (Clipped)', 5, 0, 0.708119089177924], ['mito_mem ', 'Precision with Tolerance Distance', 5, 0, 1.0], ['mito_mem ', 'Recall with Tolerance Distance', 5, 0, 0.9999568632845928], ['mito_mem ', 'F1 Score with Tolerance Distance', 5, 0, 0.9999784311770923], ['mito_mem ', 'Precision', 5, 0, 0.854501218793378], ['mito_mem ', 'Recall', 5, 0, 0.865921492506565], ['mito_mem ', 'F1 Score', 5, 0, 0.8601734514038734]], [['mito_mem ', 'F1 Score', 0, 6, 0.8552859750919178], ['mito_mem ', 'Jaccard Index', 0, 6, 0.7471612616614838], ['mito_mem ', 'Hausdorff Distance', 0, 6, 43.86342439892262], ['mito_mem ', 'False Negative Rate', 0, 6, 0.16740867960420402], ['mito_mem ', 'False Negative Rate with Tolerance Distance', 0, 6, 0.0], ['mito_mem ', 'False Positive Rate', 0, 6, 0.0645647386113365], ['mito_mem ', 'False Discovery Rate', 0, 6, 0.12074748609738314], ['mito_mem ', 'False Positive Rate with Tolerance Distance', 0, 6, 1.6772288601142677e-05], ['mito_mem ', 'Variation Of Information', 0, 6, 0.9287375997847003], ['mito_mem ', 'Mean False Distance', 0, 6, 0.7852691724575505], ['mito_mem ', 'Mean False Negative Distance', 0, 6, 0.8084435134188624], ['mito_mem ', 'Mean False Positive Distance', 0, 6, 0.7620948314962385], ['mito_mem ', None, 0, 6, 0.7852691724575505], ['mito_mem ', 'Mean False Negative Distance (Clipped)', 0, 6, 0.8084435134188624], ['mito_mem ', 'Mean False Positive Distance (Clipped)', 0, 6, 0.7620948314962385], ['mito_mem ', 'Precision with Tolerance Distance', 0, 6, 0.99997334517992], ['mito_mem ', 'Recall with Tolerance Distance', 0, 6, 1.0], ['mito_mem ', 'F1 Score with Tolerance Distance', 0, 6, 0.9999866724123377], ['mito_mem ', 'Precision', 0, 6, 0.8792525139026168], ['mito_mem ', 'Recall', 0, 6, 0.832591320395796], ['mito_mem ', 'F1 Score', 0, 6, 0.8552859750919178], ['mito_mem ', 'F1 Score', 6, 0, 0.8552859750919178], ['mito_mem ', 'Jaccard Index', 6, 0, 0.7471612616614838], ['mito_mem ', 'Hausdorff Distance', 6, 0, 43.86342439892262], ['mito_mem ', 'False Negative Rate', 6, 0, 0.12074748609738314], ['mito_mem ', 'False Negative Rate with Tolerance Distance', 6, 0, 3.1367147583126424e-05], ['mito_mem ', 'False Positive Rate', 6, 0, 0.09178120560266743], ['mito_mem ', 'False Discovery Rate', 6, 0, 0.16740867960420402], ['mito_mem ', 'False Positive Rate with Tolerance Distance', 6, 0, 0.0], ['mito_mem ', 'Variation Of Information', 6, 0, 0.9287375997847003], ['mito_mem ', 'Mean False Distance', 6, 0, 0.7852691724575505], ['mito_mem ', 'Mean False Negative Distance', 6, 0, 0.7620948314962385], ['mito_mem ', 'Mean False Positive Distance', 6, 0, 0.8084435134188624], ['mito_mem ', None, 6, 0, 0.7852691724575505], ['mito_mem ', 'Mean False Negative Distance (Clipped)', 6, 0, 0.7620948314962385], ['mito_mem ', 'Mean False Positive Distance (Clipped)', 6, 0, 0.8084435134188624], ['mito_mem ', 'Precision with Tolerance Distance', 6, 0, 1.0], ['mito_mem ', 'Recall with Tolerance Distance', 6, 0, 0.99997334517992], ['mito_mem ', 'F1 Score with Tolerance Distance', 6, 0, 0.9999866724123377], ['mito_mem ', 'Precision', 6, 0, 0.832591320395796], ['mito_mem ', 'Recall', 6, 0, 0.8792525139026168], ['mito_mem ', 'F1 Score', 6, 0, 0.8552859750919178]], [['mito_mem ', 'F1 Score', 0, 7, 0.8979089428729441], ['mito_mem ', 'Jaccard Index', 0, 7, 0.8147320832215296], ['mito_mem ', 'Hausdorff Distance', 0, 7, 43.86342439892262], ['mito_mem ', 'False Negative Rate', 0, 7, 0.07408798414281499], ['mito_mem ', 'False Negative Rate with Tolerance Distance', 0, 7, 0.0], ['mito_mem ', 'False Positive Rate', 0, 7, 0.07705673916146756], ['mito_mem ', 'False Discovery Rate', 0, 7, 0.12845001711689377], ['mito_mem ', 'False Positive Rate with Tolerance Distance', 0, 7, 1.6772288601142677e-05], ['mito_mem ', 'Variation Of Information', 0, 7, 0.7587152042808065], ['mito_mem ', 'Mean False Distance', 0, 7, 0.5179471599155309], ['mito_mem ', 'Mean False Negative Distance', 0, 7, 0.3215870894782314], ['mito_mem ', 'Mean False Positive Distance', 0, 7, 0.7143072303528303], ['mito_mem ', None, 0, 7, 0.5179471599155309], ['mito_mem ', 'Mean False Negative Distance (Clipped)', 0, 7, 0.3215870894782314], ['mito_mem ', 'Mean False Positive Distance (Clipped)', 0, 7, 0.7143072303528303], ['mito_mem ', 'Precision with Tolerance Distance', 0, 7, 0.9999738640442429], ['mito_mem ', 'Recall with Tolerance Distance', 0, 7, 1.0], ['mito_mem ', 'F1 Score with Tolerance Distance', 0, 7, 0.9999869318513471], ['mito_mem ', 'Precision', 0, 7, 0.8715499828831063], ['mito_mem ', 'Recall', 0, 7, 0.925912015857185], ['mito_mem ', 'F1 Score', 0, 7, 0.8979089428729441], ['mito_mem ', 'F1 Score', 7, 0, 0.8979089428729441], ['mito_mem ', 'Jaccard Index', 7, 0, 0.8147320832215296], ['mito_mem ', 'Hausdorff Distance', 7, 0, 43.86342439892262], ['mito_mem ', 'False Negative Rate', 7, 0, 0.12845001711689377], ['mito_mem ', 'False Negative Rate with Tolerance Distance', 7, 0, 2.795862868518025e-05], ['mito_mem ', 'False Positive Rate', 7, 0, 0.04336296826848301], ['mito_mem ', 'False Discovery Rate', 7, 0, 0.07408798414281499], ['mito_mem ', 'False Positive Rate with Tolerance Distance', 7, 0, 0.0], ['mito_mem ', 'Variation Of Information', 7, 0, 0.7587152042808065], ['mito_mem ', 'Mean False Distance', 7, 0, 0.5179471599155309], ['mito_mem ', 'Mean False Negative Distance', 7, 0, 0.7143072303528303], ['mito_mem ', 'Mean False Positive Distance', 7, 0, 0.3215870894782314], ['mito_mem ', None, 7, 0, 0.5179471599155309], ['mito_mem ', 'Mean False Negative Distance (Clipped)', 7, 0, 0.7143072303528303], ['mito_mem ', 'Mean False Positive Distance (Clipped)', 7, 0, 0.3215870894782314], ['mito_mem ', 'Precision with Tolerance Distance', 7, 0, 1.0], ['mito_mem ', 'Recall with Tolerance Distance', 7, 0, 0.9999738640442429], ['mito_mem ', 'F1 Score with Tolerance Distance', 7, 0, 0.9999869318513471], ['mito_mem ', 'Precision', 7, 0, 0.925912015857185], ['mito_mem ', 'Recall', 7, 0, 0.8715499828831063], ['mito_mem ', 'F1 Score', 7, 0, 0.8979089428729441]], [['mito_mem ', 'F1 Score', 1, 1, 0.8911146164767753], ['mito_mem ', 'Jaccard Index', 1, 1, 0.8036129159223528], ['mito_mem ', 'Hausdorff Distance', 1, 1, 43.86342439892262], ['mito_mem ', 'False Negative Rate', 1, 1, 0.0903112157443002], ['mito_mem ', 'False Negative Rate with Tolerance Distance', 1, 1, 3.094074297662324e-05], ['mito_mem ', 'False Positive Rate', 1, 1, 0.06997233953449211], ['mito_mem ', 'False Discovery Rate', 1, 1, 0.12671622807046493], ['mito_mem ', 'False Positive Rate with Tolerance Distance', 1, 1, 0.0], ['mito_mem ', 'Variation Of Information', 1, 1, 0.7687484070183797], ['mito_mem ', 'Mean False Distance', 1, 1, 0.5416146748376212], ['mito_mem ', 'Mean False Negative Distance', 1, 1, 0.5425079720487435], ['mito_mem ', 'Mean False Positive Distance', 1, 1, 0.540721377626499], ['mito_mem ', None, 1, 1, 0.5416146748376212], ['mito_mem ', 'Mean False Negative Distance (Clipped)', 1, 1, 0.5425079720487435], ['mito_mem ', 'Mean False Positive Distance (Clipped)', 1, 1, 0.540721377626499], ['mito_mem ', 'Precision with Tolerance Distance', 1, 1, 1.0], ['mito_mem ', 'Recall with Tolerance Distance', 1, 1, 0.9999726671570381], ['mito_mem ', 'F1 Score with Tolerance Distance', 1, 1, 0.9999863333917455], ['mito_mem ', 'Precision', 1, 1, 0.8732837719295351], ['mito_mem ', 'Recall', 1, 1, 0.9096887842556998], ['mito_mem ', 'F1 Score', 1, 1, 0.8911146164767754]], [['mito_mem ', 'F1 Score', 1, 2, 1.0], ['mito_mem ', 'Jaccard Index', 1, 2, 1.0], ['mito_mem ', 'Hausdorff Distance', 1, 2, 0.0], ['mito_mem ', 'False Negative Rate', 1, 2, 0.0], ['mito_mem ', 'False Negative Rate with Tolerance Distance', 1, 2, 0.0], ['mito_mem ', 'False Positive Rate', 1, 2, 0.0], ['mito_mem ', 'False Discovery Rate', 1, 2, 0.0], ['mito_mem ', 'False Positive Rate with Tolerance Distance', 1, 2, 0.0], ['mito_mem ', 'Variation Of Information', 1, 2, 0.0], ['mito_mem ', 'Mean False Distance', 1, 2, 0.0], ['mito_mem ', 'Mean False Negative Distance', 1, 2, 0.0], ['mito_mem ', 'Mean False Positive Distance', 1, 2, 0.0], ['mito_mem ', None, 1, 2, 0.0], ['mito_mem ', 'Mean False Negative Distance (Clipped)', 1, 2, 0.0], ['mito_mem ', 'Mean False Positive Distance (Clipped)', 1, 2, 0.0], ['mito_mem ', 'Precision with Tolerance Distance', 1, 2, 1.0], ['mito_mem ', 'Recall with Tolerance Distance', 1, 2, 1.0], ['mito_mem ', 'F1 Score with Tolerance Distance', 1, 2, 1.0], ['mito_mem ', 'Precision', 1, 2, 1.0], ['mito_mem ', 'Recall', 1, 2, 1.0], ['mito_mem ', 'F1 Score', 1, 2, 1.0], ['mito_mem ', 'F1 Score', 2, 1, 1.0], ['mito_mem ', 'Jaccard Index', 2, 1, 1.0], ['mito_mem ', 'Hausdorff Distance', 2, 1, 0.0], ['mito_mem ', 'False Negative Rate', 2, 1, 0.0], ['mito_mem ', 'False Negative Rate with Tolerance Distance', 2, 1, 0.0], ['mito_mem ', 'False Positive Rate', 2, 1, 0.0], ['mito_mem ', 'False Discovery Rate', 2, 1, 0.0], ['mito_mem ', 'False Positive Rate with Tolerance Distance', 2, 1, 0.0], ['mito_mem ', 'Variation Of Information', 2, 1, 0.0], ['mito_mem ', 'Mean False Distance', 2, 1, 0.0], ['mito_mem ', 'Mean False Negative Distance', 2, 1, 0.0], ['mito_mem ', 'Mean False Positive Distance', 2, 1, 0.0], ['mito_mem ', None, 2, 1, 0.0], ['mito_mem ', 'Mean False Negative Distance (Clipped)', 2, 1, 0.0], ['mito_mem ', 'Mean False Positive Distance (Clipped)', 2, 1, 0.0], ['mito_mem ', 'Precision with Tolerance Distance', 2, 1, 1.0], ['mito_mem ', 'Recall with Tolerance Distance', 2, 1, 1.0], ['mito_mem ', 'F1 Score with Tolerance Distance', 2, 1, 1.0], ['mito_mem ', 'Precision', 2, 1, 1.0], ['mito_mem ', 'Recall', 2, 1, 1.0], ['mito_mem ', 'F1 Score', 2, 1, 1.0]])\n"
     ]
    }
   ],
   "source": [
    "from annotator_metrics.src.metrics_evaluations import calculate_all_to_all\n",
    "results= calculate_all_to_all(\"group1\",\"/groups/cosem/cosem/ackermand/annotation_and_analytics/tmp/\", num_workers = 10)\n",
    "print(results[1:10])"
   ]
  },
  {
   "cell_type": "code",
   "execution_count": 5,
   "metadata": {},
   "outputs": [
    {
     "name": "stderr",
     "output_type": "stream",
     "text": [
      "/groups/scicompsoft/home/ackermand/miniconda3/envs/annotator-metrics/lib/python3.7/site-packages/distributed/node.py:161: UserWarning: Port 8787 is already in use.\n",
      "Perhaps you already have a cluster running?\n",
      "Hosting the HTTP server on port 38845 instead\n",
      "  f\"Port {expected} is already in use.\\n\"\n"
     ]
    },
    {
     "name": "stdout",
     "output_type": "stream",
     "text": [
      "((122, 186, 185), (122, 186, 185), (122, 186, 185), (122, 186, 185), (122, 186, 185), (122, 186, 185), (122, 186, 185), (122, 186, 185), (122, 186, 185), (122, 186, 185), (122, 186, 185), (122, 186, 185), (122, 186, 185), (122, 186, 185), (122, 186, 185), (122, 186, 185), (122, 186, 185), (122, 186, 185), (122, 186, 185), (122, 186, 185), (122, 186, 185), (122, 186, 185), (122, 186, 185), (122, 186, 185), (122, 186, 185), (122, 186, 185), (122, 186, 185), (122, 186, 185), (122, 186, 185), (122, 186, 185), (122, 186, 185), (122, 186, 185), (122, 186, 185), (122, 186, 185), (122, 186, 185), (122, 186, 185), (122, 186, 185), (122, 186, 185), (122, 186, 185), (122, 186, 185), (122, 186, 185), (122, 186, 185), (122, 186, 185), (122, 186, 185), (122, 186, 185), (122, 186, 185), (122, 186, 185), (122, 186, 185), (122, 186, 185), (122, 186, 185), (122, 186, 185), (122, 186, 185), (122, 186, 185), (122, 186, 185), (122, 186, 185), (122, 186, 185), (122, 186, 185), (122, 186, 185), (122, 186, 185), (122, 186, 185), (122, 186, 185), (122, 186, 185), (122, 186, 185), (122, 186, 185), (122, 186, 185), (122, 186, 185), (122, 186, 185), (122, 186, 185), (122, 186, 185), (122, 186, 185), (122, 186, 185), (122, 186, 185), (122, 186, 185), (122, 186, 185), (122, 186, 185), (122, 186, 185), (122, 186, 185), (122, 186, 185), (122, 186, 185), (122, 186, 185), (122, 186, 185), (122, 186, 185), (122, 186, 185), (122, 186, 185), (122, 186, 185), (122, 186, 185), (122, 186, 185), (122, 186, 185), (122, 186, 185), (122, 186, 185), (122, 186, 185), (122, 186, 185), (122, 186, 185), (122, 186, 185), (122, 186, 185), (122, 186, 185), (122, 186, 185), (122, 186, 185), (122, 186, 185), (122, 186, 185))\n"
     ]
    }
   ],
   "source": [
    "import dask\n",
    "from dask.distributed import Client\n",
    "import tifffile\n",
    "client = Client(n_workers = 1)\n",
    "def test(i):\n",
    "    if i%2 == 0:\n",
    "        b=[tifffile.imread('/groups/cosem/cosem/ackermand/annotation_and_analytics/tmp/group1/01/a1.tif'),tifffile.imread('/groups/cosem/cosem/ackermand/annotation_and_analytics/tmp/group1/01/b1.tif')]\n",
    "    else:\n",
    "        b=[tifffile.imread('/groups/cosem/cosem/ackermand/annotation_and_analytics/tmp/group1/01/a2.tif'),tifffile.imread('/groups/cosem/cosem/ackermand/annotation_and_analytics/tmp/group1/01/b2.tif')]\n",
    "\n",
    "    return b[0].shape\n",
    "l = []\n",
    "for i in range(100):\n",
    "    l.append(dask.delayed(test)(i))\n",
    "\n",
    "results = dask.compute(*l)\n",
    "print(results)\n"
   ]
  },
  {
   "cell_type": "code",
   "execution_count": 11,
   "metadata": {},
   "outputs": [
    {
     "name": "stdout",
     "output_type": "stream",
     "text": [
      "loading:  0.008377313613891602\n",
      "(122, 186, 185)\n"
     ]
    }
   ],
   "source": [
    "import time\n",
    "import tifffile\n",
    "from dask_image import imread\n",
    "start = time.time(); temp = imread.imread('/groups/cosem/cosem/ackermand/annotation_and_analytics/tmp/group1/01/a1.tif'); print(\"loading: \", time.time() - start)\n",
    "print(temp.shape)\n"
   ]
  },
  {
   "cell_type": "code",
   "execution_count": 6,
   "metadata": {},
   "outputs": [
    {
     "data": {
      "text/plain": "100"
     },
     "execution_count": 6,
     "metadata": {},
     "output_type": "execute_result"
    }
   ],
   "source": [
    "import dask\n",
    "import dask.distributed\n",
    "dask.config.set({\"distributed.comm.timeouts.connect\":100})\n",
    "dask.config.get(\"distributed.comm.timeouts.connect\")"
   ]
  },
  {
   "cell_type": "code",
   "execution_count": null,
   "metadata": {},
   "outputs": [],
   "source": []
  }
 ],
 "metadata": {
  "kernelspec": {
   "display_name": "Python 3.6.13 64-bit ('annotator-metrics': conda)",
   "metadata": {
    "interpreter": {
     "hash": "6f3b6f92d1c1c780f8a6592ff0a1dd888c1df1667ddeb0bc2165ec1b206773a1"
    }
   },
   "name": "python3"
  },
  "language_info": {
   "codemirror_mode": {
    "name": "ipython",
    "version": 3
   },
   "file_extension": ".py",
   "mimetype": "text/x-python",
   "name": "python",
   "nbconvert_exporter": "python",
   "pygments_lexer": "ipython3",
   "version": "3.7.11"
  },
  "orig_nbformat": 2
 },
 "nbformat": 4,
 "nbformat_minor": 2
}